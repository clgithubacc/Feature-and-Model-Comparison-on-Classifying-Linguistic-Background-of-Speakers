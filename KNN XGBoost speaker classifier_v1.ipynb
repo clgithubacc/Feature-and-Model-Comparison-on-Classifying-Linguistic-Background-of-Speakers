{
 "cells": [
  {
   "cell_type": "markdown",
   "metadata": {},
   "source": [
    "# KNN method to classify speaker"
   ]
  },
  {
   "cell_type": "markdown",
   "metadata": {},
   "source": [
    "<h3> Preprocess data"
   ]
  },
  {
   "cell_type": "markdown",
   "metadata": {},
   "source": [
    "Import packages:  \n",
    "pyAudioAnalysis can provide feature extraction functions to extract MFCCs"
   ]
  },
  {
   "cell_type": "code",
   "execution_count": 1,
   "metadata": {},
   "outputs": [],
   "source": [
    "from pyAudioAnalysis import audioBasicIO\n",
    "from pyAudioAnalysis import audioFeatureExtraction\n",
    "import matplotlib.pyplot as plt\n",
    "import os\n",
    "import pandas as pd\n",
    "import numpy as np"
   ]
  },
  {
   "cell_type": "markdown",
   "metadata": {},
   "source": [
    "We use short-term feature extraction.  \n",
    "It splits the input signal into short-term widnows (frames) and computes a number of features for each frame.  \n",
    "This process leads to a sequence of short-term feature vectors for the whole signal."
   ]
  },
  {
   "cell_type": "markdown",
   "metadata": {},
   "source": [
    "For speakers from 3 different region (Mandarin, Spanish, English), we combine all the features extracted from the sound file and label them into one csv file (dataset.csv)  \n",
    "Label are as follows:  \n",
    "Mandarin - 0\n",
    "English  - 1\n",
    "Spanish  - 2"
   ]
  },
  {
   "cell_type": "code",
   "execution_count": 3,
   "metadata": {},
   "outputs": [],
   "source": [
    "# preprocessing the sound file and label it (English)\n",
    "path = \"unified/eng/\"\n",
    "directory = os.fsencode(path)\n",
    "\n",
    "for file in os.listdir(directory):\n",
    "     filename = os.fsdecode(file)\n",
    "     if filename.endswith(\".mp3.wav\"):\n",
    "        # process each sound file individually, read audio file\n",
    "        [Fs, x] = audioBasicIO.readAudioFile(\"unified/eng/\"+filename);\n",
    "        # extract the short term feature sequences for an audio signal, \n",
    "        # using a frame size of 50 msecs and a frame step of 25 msecs (50% overlap)\n",
    "        F, f_names = audioFeatureExtraction.stFeatureExtraction(x, Fs, 0.050*Fs, 0.025*Fs);\n",
    "        df = pd.DataFrame()\n",
    "        df['label'] = []\n",
    "        for i in range(0,22):\n",
    "            df[f_names[i]] = F[i,:]\n",
    "            df['label'] = '1'\n",
    "        with open('dataset.csv', 'a') as f:\n",
    "            df.to_csv(f, header=False)\n",
    "\n",
    "     else:\n",
    "         continue"
   ]
  },
  {
   "cell_type": "code",
   "execution_count": 4,
   "metadata": {},
   "outputs": [],
   "source": [
    "# preprocessing the sound file and label it (Mandarin)\n",
    "path = \"unified/man/\"\n",
    "directory = os.fsencode(path)\n",
    "\n",
    "for file in os.listdir(directory):\n",
    "     filename = os.fsdecode(file)\n",
    "     if filename.endswith(\".mp3.wav\"):\n",
    "        [Fs, x] = audioBasicIO.readAudioFile(\"unified/man/\"+filename);\n",
    "        F, f_names = audioFeatureExtraction.stFeatureExtraction(x, Fs, 0.050*Fs, 0.025*Fs);\n",
    "        df = pd.DataFrame()\n",
    "        df['label'] = []\n",
    "        for i in range(0,22):\n",
    "            df[f_names[i]] = F[i,:]\n",
    "            df['label'] = '0'\n",
    "        with open('dataset.csv', 'a') as f:\n",
    "            df.to_csv(f, header=False)\n",
    "\n",
    "     else:\n",
    "         continue"
   ]
  },
  {
   "cell_type": "code",
   "execution_count": 5,
   "metadata": {},
   "outputs": [],
   "source": [
    "# preprocessing the sound file and label it (Spanish)\n",
    "path = \"unified/span/\"\n",
    "directory = os.fsencode(path)\n",
    "\n",
    "for file in os.listdir(directory):\n",
    "     filename = os.fsdecode(file)\n",
    "     if filename.endswith(\".mp3.wav\"):\n",
    "        [Fs, x] = audioBasicIO.readAudioFile(\"unified/span/\"+filename);\n",
    "        F, f_names = audioFeatureExtraction.stFeatureExtraction(x, Fs, 0.050*Fs, 0.025*Fs);\n",
    "        df = pd.DataFrame()\n",
    "        df['label'] = []\n",
    "        for i in range(0,22):\n",
    "            df[f_names[i]] = F[i,:]\n",
    "            df['label'] = '2'\n",
    "        with open('dataset.csv', 'a') as f:\n",
    "            df.to_csv(f, header=False)\n",
    "\n",
    "     else:\n",
    "         continue"
   ]
  },
  {
   "cell_type": "markdown",
   "metadata": {},
   "source": [
    "<h3> This is a sample table for the features extracted:"
   ]
  },
  {
   "cell_type": "markdown",
   "metadata": {},
   "source": [
    " We have chose 23 features in total:  \n",
    " 1 - Zero Crossing Rate  \n",
    " 2 - Energy  \n",
    " 3 - Entropy of Energy  \n",
    " 4 - Spectral Centroid  \n",
    " 5 - Spectral Spread  \n",
    " 6 - Spectral Entropy  \n",
    " 7 - Spectral Flux  \n",
    " 8 - Spectral Rolloff  \n",
    " 9-21 - MFCCs\n",
    " \n",
    " \n",
    " "
   ]
  },
  {
   "cell_type": "code",
   "execution_count": 6,
   "metadata": {},
   "outputs": [
    {
     "data": {
      "text/html": [
       "<div>\n",
       "<style scoped>\n",
       "    .dataframe tbody tr th:only-of-type {\n",
       "        vertical-align: middle;\n",
       "    }\n",
       "\n",
       "    .dataframe tbody tr th {\n",
       "        vertical-align: top;\n",
       "    }\n",
       "\n",
       "    .dataframe thead th {\n",
       "        text-align: right;\n",
       "    }\n",
       "</style>\n",
       "<table border=\"1\" class=\"dataframe\">\n",
       "  <thead>\n",
       "    <tr style=\"text-align: right;\">\n",
       "      <th></th>\n",
       "      <th>label</th>\n",
       "      <th>zcr</th>\n",
       "      <th>energy</th>\n",
       "      <th>energy_entropy</th>\n",
       "      <th>spectral_centroid</th>\n",
       "      <th>spectral_spread</th>\n",
       "      <th>spectral_entropy</th>\n",
       "      <th>spectral_flux</th>\n",
       "      <th>spectral_rolloff</th>\n",
       "      <th>mfcc_1</th>\n",
       "      <th>...</th>\n",
       "      <th>mfcc_4</th>\n",
       "      <th>mfcc_5</th>\n",
       "      <th>mfcc_6</th>\n",
       "      <th>mfcc_7</th>\n",
       "      <th>mfcc_8</th>\n",
       "      <th>mfcc_9</th>\n",
       "      <th>mfcc_10</th>\n",
       "      <th>mfcc_11</th>\n",
       "      <th>mfcc_12</th>\n",
       "      <th>mfcc_13</th>\n",
       "    </tr>\n",
       "  </thead>\n",
       "  <tbody>\n",
       "    <tr>\n",
       "      <th>0</th>\n",
       "      <td>1</td>\n",
       "      <td>0.057221</td>\n",
       "      <td>0.000237</td>\n",
       "      <td>2.755399</td>\n",
       "      <td>0.090283</td>\n",
       "      <td>0.104340</td>\n",
       "      <td>0.285444</td>\n",
       "      <td>0.000000</td>\n",
       "      <td>0.081670</td>\n",
       "      <td>-29.993441</td>\n",
       "      <td>...</td>\n",
       "      <td>-0.251487</td>\n",
       "      <td>-0.458450</td>\n",
       "      <td>-0.304126</td>\n",
       "      <td>0.699856</td>\n",
       "      <td>0.262700</td>\n",
       "      <td>-0.192292</td>\n",
       "      <td>-0.078255</td>\n",
       "      <td>-0.228530</td>\n",
       "      <td>-0.179618</td>\n",
       "      <td>-0.392052</td>\n",
       "    </tr>\n",
       "    <tr>\n",
       "      <th>1</th>\n",
       "      <td>1</td>\n",
       "      <td>0.049046</td>\n",
       "      <td>0.000524</td>\n",
       "      <td>3.061092</td>\n",
       "      <td>0.114757</td>\n",
       "      <td>0.158950</td>\n",
       "      <td>0.343493</td>\n",
       "      <td>0.008553</td>\n",
       "      <td>0.081670</td>\n",
       "      <td>-28.950253</td>\n",
       "      <td>...</td>\n",
       "      <td>-0.173034</td>\n",
       "      <td>-0.540374</td>\n",
       "      <td>-0.320536</td>\n",
       "      <td>0.490255</td>\n",
       "      <td>-0.069050</td>\n",
       "      <td>-0.517013</td>\n",
       "      <td>-0.603809</td>\n",
       "      <td>-0.482337</td>\n",
       "      <td>-0.530005</td>\n",
       "      <td>-0.113918</td>\n",
       "    </tr>\n",
       "    <tr>\n",
       "      <th>2</th>\n",
       "      <td>1</td>\n",
       "      <td>0.049955</td>\n",
       "      <td>0.001018</td>\n",
       "      <td>3.152675</td>\n",
       "      <td>0.104720</td>\n",
       "      <td>0.134262</td>\n",
       "      <td>0.363983</td>\n",
       "      <td>0.007162</td>\n",
       "      <td>0.081670</td>\n",
       "      <td>-27.693468</td>\n",
       "      <td>...</td>\n",
       "      <td>-0.420531</td>\n",
       "      <td>-0.628709</td>\n",
       "      <td>-0.178907</td>\n",
       "      <td>0.455753</td>\n",
       "      <td>-0.112649</td>\n",
       "      <td>-0.344607</td>\n",
       "      <td>-0.482470</td>\n",
       "      <td>-0.289777</td>\n",
       "      <td>-0.526684</td>\n",
       "      <td>-0.043278</td>\n",
       "    </tr>\n",
       "    <tr>\n",
       "      <th>3</th>\n",
       "      <td>1</td>\n",
       "      <td>0.052679</td>\n",
       "      <td>0.005360</td>\n",
       "      <td>2.711283</td>\n",
       "      <td>0.085584</td>\n",
       "      <td>0.104967</td>\n",
       "      <td>0.127749</td>\n",
       "      <td>0.025232</td>\n",
       "      <td>0.059891</td>\n",
       "      <td>-26.858023</td>\n",
       "      <td>...</td>\n",
       "      <td>-1.014324</td>\n",
       "      <td>-0.964195</td>\n",
       "      <td>0.005080</td>\n",
       "      <td>0.590279</td>\n",
       "      <td>-0.030126</td>\n",
       "      <td>0.008122</td>\n",
       "      <td>-0.238700</td>\n",
       "      <td>-0.618518</td>\n",
       "      <td>-0.397906</td>\n",
       "      <td>-0.237425</td>\n",
       "    </tr>\n",
       "    <tr>\n",
       "      <th>4</th>\n",
       "      <td>1</td>\n",
       "      <td>0.045413</td>\n",
       "      <td>0.012678</td>\n",
       "      <td>2.865745</td>\n",
       "      <td>0.073921</td>\n",
       "      <td>0.089234</td>\n",
       "      <td>0.055784</td>\n",
       "      <td>0.020797</td>\n",
       "      <td>0.047187</td>\n",
       "      <td>-26.121482</td>\n",
       "      <td>...</td>\n",
       "      <td>-1.402858</td>\n",
       "      <td>-0.732671</td>\n",
       "      <td>0.099542</td>\n",
       "      <td>0.801399</td>\n",
       "      <td>0.118026</td>\n",
       "      <td>0.096287</td>\n",
       "      <td>0.049511</td>\n",
       "      <td>-0.380714</td>\n",
       "      <td>-0.276723</td>\n",
       "      <td>-0.264528</td>\n",
       "    </tr>\n",
       "  </tbody>\n",
       "</table>\n",
       "<p>5 rows × 22 columns</p>\n",
       "</div>"
      ],
      "text/plain": [
       "  label       zcr    energy  energy_entropy  spectral_centroid  \\\n",
       "0     1  0.057221  0.000237        2.755399           0.090283   \n",
       "1     1  0.049046  0.000524        3.061092           0.114757   \n",
       "2     1  0.049955  0.001018        3.152675           0.104720   \n",
       "3     1  0.052679  0.005360        2.711283           0.085584   \n",
       "4     1  0.045413  0.012678        2.865745           0.073921   \n",
       "\n",
       "   spectral_spread  spectral_entropy  spectral_flux  spectral_rolloff  \\\n",
       "0         0.104340          0.285444       0.000000          0.081670   \n",
       "1         0.158950          0.343493       0.008553          0.081670   \n",
       "2         0.134262          0.363983       0.007162          0.081670   \n",
       "3         0.104967          0.127749       0.025232          0.059891   \n",
       "4         0.089234          0.055784       0.020797          0.047187   \n",
       "\n",
       "      mfcc_1  ...    mfcc_4    mfcc_5    mfcc_6    mfcc_7    mfcc_8    mfcc_9  \\\n",
       "0 -29.993441  ... -0.251487 -0.458450 -0.304126  0.699856  0.262700 -0.192292   \n",
       "1 -28.950253  ... -0.173034 -0.540374 -0.320536  0.490255 -0.069050 -0.517013   \n",
       "2 -27.693468  ... -0.420531 -0.628709 -0.178907  0.455753 -0.112649 -0.344607   \n",
       "3 -26.858023  ... -1.014324 -0.964195  0.005080  0.590279 -0.030126  0.008122   \n",
       "4 -26.121482  ... -1.402858 -0.732671  0.099542  0.801399  0.118026  0.096287   \n",
       "\n",
       "    mfcc_10   mfcc_11   mfcc_12   mfcc_13  \n",
       "0 -0.078255 -0.228530 -0.179618 -0.392052  \n",
       "1 -0.603809 -0.482337 -0.530005 -0.113918  \n",
       "2 -0.482470 -0.289777 -0.526684 -0.043278  \n",
       "3 -0.238700 -0.618518 -0.397906 -0.237425  \n",
       "4  0.049511 -0.380714 -0.276723 -0.264528  \n",
       "\n",
       "[5 rows x 22 columns]"
      ]
     },
     "execution_count": 6,
     "metadata": {},
     "output_type": "execute_result"
    }
   ],
   "source": [
    "df = pd.DataFrame()\n",
    "df['label'] = []\n",
    "for i in range(0,21):\n",
    "    df[f_names[i]] = F[i,:]\n",
    "    df['label'] = '1'\n",
    "#     print(df[f_names[i]])\n",
    " \n",
    "df.head(5)"
   ]
  },
  {
   "cell_type": "markdown",
   "metadata": {},
   "source": [
    "<h3> Classification part using KNN and XGBoost"
   ]
  },
  {
   "cell_type": "markdown",
   "metadata": {},
   "source": [
    "Import packages:"
   ]
  },
  {
   "cell_type": "code",
   "execution_count": 3,
   "metadata": {},
   "outputs": [],
   "source": [
    "from sklearn.neighbors import KNeighborsClassifier\n",
    "from sklearn.model_selection import train_test_split\n",
    "import pandas as pd\n",
    "from sklearn import metrics\n",
    "from sklearn.metrics import classification_report\n",
    "from sklearn.metrics import confusion_matrix\n",
    "import seaborn as sns"
   ]
  },
  {
   "cell_type": "markdown",
   "metadata": {},
   "source": [
    "Read file and create dataframe, create training and testing data"
   ]
  },
  {
   "cell_type": "markdown",
   "metadata": {},
   "source": [
    "Firstly, we used all 22 features extracted from the audio"
   ]
  },
  {
   "cell_type": "code",
   "execution_count": 4,
   "metadata": {},
   "outputs": [],
   "source": [
    "df = pd.read_csv('dataset.csv',index_col = 0)\n",
    "x = df[['zcr','energy','energy_entropy','spectral_centroid','spectral_spread','spectral_entropy','spectral_flux','spectral_rolloff','mfcc_1','mfcc_2','mfcc_3','mfcc_4','mfcc_5','mfcc_6','mfcc_7','mfcc_8','mfcc_9','mfcc_10','mfcc_11','mfcc_12','mfcc_13','chroma_1']]\n",
    "y = df['label']\n",
    "X_train, X_test, y_train, y_test = train_test_split(x, y, stratify=y,test_size=0.33)"
   ]
  },
  {
   "cell_type": "markdown",
   "metadata": {},
   "source": [
    "Build KNN Classifier and fit in the model, print the prediction accuracy, f1 score and confusion matrix"
   ]
  },
  {
   "cell_type": "markdown",
   "metadata": {},
   "source": [
    "We compared different prediction accuracy with different numbers of neighbours (3, 5, 7, 10)"
   ]
  },
  {
   "cell_type": "code",
   "execution_count": 5,
   "metadata": {},
   "outputs": [
    {
     "name": "stdout",
     "output_type": "stream",
     "text": [
      "Accuracy: 0.5899787347155768\n",
      "              precision    recall  f1-score   support\n",
      "\n",
      "    Mandarin       0.25      0.31      0.28     17117\n",
      "     English       0.70      0.75      0.72     98226\n",
      "     Spanish       0.45      0.34      0.39     42661\n",
      "\n",
      "    accuracy                           0.59    158004\n",
      "   macro avg       0.47      0.47      0.46    158004\n",
      "weighted avg       0.58      0.59      0.58    158004\n",
      "\n"
     ]
    },
    {
     "data": {
      "image/png": "[encoded data removed]",
      "text/plain": [
       "<Figure size 432x288 with 2 Axes>"
      ]
     },
     "metadata": {
      "needs_background": "light"
     },
     "output_type": "display_data"
    }
   ],
   "source": [
    "from sklearn import metrics\n",
    "from sklearn.metrics import classification_report\n",
    "from sklearn.metrics import confusion_matrix\n",
    "import seaborn as sns\n",
    "\n",
    "knn = KNeighborsClassifier(n_neighbors = 3)\n",
    "knn.fit(X_train, y_train)\n",
    "y_pred = knn.predict(X_test)\n",
    "print(\"Accuracy:\",metrics.accuracy_score(y_test, y_pred))\n",
    "\n",
    "target_names = ['Mandarin', 'English', 'Spanish']\n",
    "print(classification_report(y_test, y_pred, target_names=target_names))\n",
    "\n",
    "cm = confusion_matrix(y_test, y_pred)\n",
    "cm_plot = sns.heatmap(cm, annot=True, square=True)"
   ]
  },
  {
   "cell_type": "code",
   "execution_count": 6,
   "metadata": {},
   "outputs": [
    {
     "name": "stdout",
     "output_type": "stream",
     "text": [
      "Accuracy: 0.6186805397331713\n",
      "              precision    recall  f1-score   support\n",
      "\n",
      "    Mandarin       0.32      0.23      0.26     17117\n",
      "     English       0.68      0.83      0.75     98226\n",
      "     Spanish       0.47      0.29      0.36     42661\n",
      "\n",
      "    accuracy                           0.62    158004\n",
      "   macro avg       0.49      0.45      0.46    158004\n",
      "weighted avg       0.59      0.62      0.59    158004\n",
      "\n"
     ]
    },
    {
     "data": {
      "image/png": "[encoded data removed]",
      "text/plain": [
       "<Figure size 432x288 with 2 Axes>"
      ]
     },
     "metadata": {
      "needs_background": "light"
     },
     "output_type": "display_data"
    }
   ],
   "source": [
    "from sklearn import metrics\n",
    "knn = KNeighborsClassifier(n_neighbors = 5)\n",
    "knn.fit(X_train, y_train)\n",
    "y_pred = knn.predict(X_test)\n",
    "print(\"Accuracy:\",metrics.accuracy_score(y_test, y_pred))\n",
    "\n",
    "target_names = ['Mandarin', 'English', 'Spanish']\n",
    "print(classification_report(y_test, y_pred, target_names=target_names))\n",
    "\n",
    "cm = confusion_matrix(y_test, y_pred)\n",
    "cm_plot = sns.heatmap(cm, annot=True, square=True)"
   ]
  },
  {
   "cell_type": "code",
   "execution_count": 7,
   "metadata": {},
   "outputs": [
    {
     "name": "stdout",
     "output_type": "stream",
     "text": [
      "Accuracy: 0.627287916761601\n",
      "              precision    recall  f1-score   support\n",
      "\n",
      "    Mandarin       0.38      0.16      0.23     17117\n",
      "     English       0.67      0.86      0.76     98226\n",
      "     Spanish       0.47      0.27      0.34     42661\n",
      "\n",
      "    accuracy                           0.63    158004\n",
      "   macro avg       0.51      0.43      0.44    158004\n",
      "weighted avg       0.59      0.63      0.59    158004\n",
      "\n"
     ]
    },
    {
     "data": {
      "image/png": "[encoded data removed]",
      "text/plain": [
       "<Figure size 432x288 with 2 Axes>"
      ]
     },
     "metadata": {
      "needs_background": "light"
     },
     "output_type": "display_data"
    }
   ],
   "source": [
    "from sklearn import metrics\n",
    "knn = KNeighborsClassifier(n_neighbors = 7)\n",
    "knn.fit(X_train, y_train)\n",
    "y_pred = knn.predict(X_test)\n",
    "print(\"Accuracy:\",metrics.accuracy_score(y_test, y_pred))\n",
    "\n",
    "target_names = ['Mandarin', 'English', 'Spanish']\n",
    "print(classification_report(y_test, y_pred, target_names=target_names))\n",
    "\n",
    "cm = confusion_matrix(y_test, y_pred)\n",
    "cm_plot = sns.heatmap(cm, annot=True, square=True)"
   ]
  },
  {
   "cell_type": "code",
   "execution_count": 8,
   "metadata": {},
   "outputs": [
    {
     "name": "stdout",
     "output_type": "stream",
     "text": [
      "Accuracy: 0.6331358699779752\n",
      "              precision    recall  f1-score   support\n",
      "\n",
      "    Mandarin       0.42      0.12      0.19     17117\n",
      "     English       0.66      0.90      0.76     98226\n",
      "     Spanish       0.48      0.23      0.31     42661\n",
      "\n",
      "    accuracy                           0.63    158004\n",
      "   macro avg       0.52      0.42      0.42    158004\n",
      "weighted avg       0.59      0.63      0.58    158004\n",
      "\n"
     ]
    },
    {
     "data": {
      "image/png": "[encoded data removed]",
      "text/plain": [
       "<Figure size 432x288 with 2 Axes>"
      ]
     },
     "metadata": {
      "needs_background": "light"
     },
     "output_type": "display_data"
    }
   ],
   "source": [
    "from sklearn import metrics\n",
    "knn = KNeighborsClassifier(n_neighbors = 10)\n",
    "knn.fit(X_train, y_train)\n",
    "y_pred = knn.predict(X_test)\n",
    "print(\"Accuracy:\",metrics.accuracy_score(y_test, y_pred))\n",
    "\n",
    "target_names = ['Mandarin', 'English', 'Spanish']\n",
    "print(classification_report(y_test, y_pred, target_names=target_names))\n",
    "\n",
    "cm = confusion_matrix(y_test, y_pred)\n",
    "cm_plot = sns.heatmap(cm, annot=True, square=True)"
   ]
  },
  {
   "cell_type": "markdown",
   "metadata": {},
   "source": [
    "It seems that the prediction accuracy are pretty much the same and around 0.63. Hower, with number of neighbors increase, the prediction accuracy slightly increases too."
   ]
  },
  {
   "cell_type": "markdown",
   "metadata": {},
   "source": [
    "Build XGBoost Classifier and fit in the model, print the prediction accuracy, f1 score and confusion matrix."
   ]
  },
  {
   "cell_type": "code",
   "execution_count": 10,
   "metadata": {},
   "outputs": [
    {
     "name": "stdout",
     "output_type": "stream",
     "text": [
      "Accuracy: 0.6342497658287132\n",
      "              precision    recall  f1-score   support\n",
      "\n",
      "    Mandarin       0.54      0.03      0.06     17117\n",
      "     English       0.64      0.97      0.77     98226\n",
      "     Spanish       0.54      0.09      0.16     42661\n",
      "\n",
      "    accuracy                           0.63    158004\n",
      "   macro avg       0.57      0.37      0.33    158004\n",
      "weighted avg       0.60      0.63      0.53    158004\n",
      "\n"
     ]
    },
    {
     "data": {
      "image/png": "[encoded data removed]",
      "text/plain": [
       "<Figure size 432x288 with 2 Axes>"
      ]
     },
     "metadata": {
      "needs_background": "light"
     },
     "output_type": "display_data"
    }
   ],
   "source": [
    "from xgboost import XGBClassifier\n",
    "from sklearn.metrics import classification_report\n",
    "from sklearn.metrics import confusion_matrix\n",
    "import seaborn as sns\n",
    "\n",
    "xgb_c = XGBClassifier(max_depth=10, n_estimators=100, n_jobs=-1, num_class=3) \n",
    "xgb_c.fit(X_train, y_train.ravel())\n",
    "y_pred = xgb_c.predict(X_test) ##predict\n",
    "print(\"Accuracy:\",metrics.accuracy_score(y_test, y_pred))\n",
    "\n",
    "target_names = ['Mandarin', 'English', 'Spanish']\n",
    "print(classification_report(y_test, y_pred, target_names=target_names))\n",
    "\n",
    "cm = confusion_matrix(y_test, y_pred)\n",
    "cm_plot = sns.heatmap(cm, annot=True, square=True)"
   ]
  },
  {
   "cell_type": "markdown",
   "metadata": {},
   "source": [
    "Then we only use mfcc features to train the data to see if there is any difference"
   ]
  },
  {
   "cell_type": "markdown",
   "metadata": {},
   "source": [
    "KNN"
   ]
  },
  {
   "cell_type": "code",
   "execution_count": 11,
   "metadata": {},
   "outputs": [
    {
     "name": "stdout",
     "output_type": "stream",
     "text": [
      "Accuracy: 0.621275410749095\n",
      "              precision    recall  f1-score   support\n",
      "\n",
      "    Mandarin       0.37      0.15      0.21     15561\n",
      "     English       0.67      0.86      0.75     89296\n",
      "     Spanish       0.45      0.26      0.33     38783\n",
      "\n",
      "    accuracy                           0.62    143640\n",
      "   macro avg       0.50      0.42      0.43    143640\n",
      "weighted avg       0.58      0.62      0.58    143640\n",
      "\n"
     ]
    },
    {
     "data": {
      "image/png": "[encoded data removed]",
      "text/plain": [
       "<Figure size 432x288 with 2 Axes>"
      ]
     },
     "metadata": {
      "needs_background": "light"
     },
     "output_type": "display_data"
    }
   ],
   "source": [
    "x = df[['mfcc_1','mfcc_2','mfcc_3','mfcc_4','mfcc_5','mfcc_6','mfcc_7','mfcc_8','mfcc_9','mfcc_10','mfcc_11','mfcc_12','mfcc_13']]\n",
    "y = df['label']\n",
    "X_train, X_test, y_train, y_test = train_test_split(x, y, stratify=y, test_size=0.3)\n",
    "knn = KNeighborsClassifier(n_neighbors = 7)\n",
    "knn.fit(X_train, y_train)\n",
    "y_pred = knn.predict(X_test)\n",
    "print(\"Accuracy:\",metrics.accuracy_score(y_test, y_pred))\n",
    "\n",
    "target_names = ['Mandarin', 'English', 'Spanish']\n",
    "print(classification_report(y_test, y_pred, target_names=target_names))\n",
    "\n",
    "cm = confusion_matrix(y_test, y_pred)\n",
    "cm_plot = sns.heatmap(cm, annot=True, square=True)"
   ]
  },
  {
   "cell_type": "markdown",
   "metadata": {},
   "source": [
    "XGBoost"
   ]
  },
  {
   "cell_type": "code",
   "execution_count": 13,
   "metadata": {},
   "outputs": [
    {
     "name": "stdout",
     "output_type": "stream",
     "text": [
      "Accuracy: 0.6282790309106099\n",
      "              precision    recall  f1-score   support\n",
      "\n",
      "    Mandarin       0.54      0.02      0.04     15561\n",
      "     English       0.63      0.98      0.77     89296\n",
      "     Spanish       0.51      0.05      0.10     38783\n",
      "\n",
      "    accuracy                           0.63    143640\n",
      "   macro avg       0.56      0.35      0.30    143640\n",
      "weighted avg       0.59      0.63      0.51    143640\n",
      "\n"
     ]
    },
    {
     "data": {
      "image/png": "[encoded data removed]",
      "text/plain": [
       "<Figure size 432x288 with 2 Axes>"
      ]
     },
     "metadata": {
      "needs_background": "light"
     },
     "output_type": "display_data"
    }
   ],
   "source": [
    "from xgboost import XGBClassifier\n",
    "from sklearn.metrics import classification_report\n",
    "from sklearn.metrics import confusion_matrix\n",
    "import seaborn as sns\n",
    "\n",
    "x = df[['mfcc_1','mfcc_2','mfcc_3','mfcc_4','mfcc_5','mfcc_6','mfcc_7','mfcc_8','mfcc_9','mfcc_10','mfcc_11','mfcc_12','mfcc_13']]\n",
    "y = df['label']\n",
    "X_train, X_test, y_train, y_test = train_test_split(x, y, stratify=y, test_size=0.3)\n",
    "xgb_c = XGBClassifier(max_depth=10, n_estimators=100, n_jobs=-1, num_class=3) \n",
    "xgb_c.fit(X_train, y_train.ravel())\n",
    "y_pred = xgb_c.predict(X_test) ##predict\n",
    "print(\"Accuracy:\",metrics.accuracy_score(y_test, y_pred))\n",
    "\n",
    "target_names = ['Mandarin', 'English', 'Spanish']\n",
    "print(classification_report(y_test, y_pred, target_names=target_names))\n",
    "\n",
    "cm = confusion_matrix(y_test, y_pred)\n",
    "cm_plot = sns.heatmap(cm, annot=True, square=True)"
   ]
  },
  {
   "cell_type": "markdown",
   "metadata": {},
   "source": [
    "It seems there is no such a big difference between using 22 features and 13 mfcc features"
   ]
  },
  {
   "cell_type": "markdown",
   "metadata": {},
   "source": [
    "To optimize our model we try to normalize the input data:"
   ]
  },
  {
   "cell_type": "code",
   "execution_count": 14,
   "metadata": {},
   "outputs": [],
   "source": [
    "def normalize(x):\n",
    "    return (x-x.mean())/x.std()"
   ]
  },
  {
   "cell_type": "code",
   "execution_count": 16,
   "metadata": {},
   "outputs": [
    {
     "data": {
      "text/html": [
       "<div>\n",
       "<style scoped>\n",
       "    .dataframe tbody tr th:only-of-type {\n",
       "        vertical-align: middle;\n",
       "    }\n",
       "\n",
       "    .dataframe tbody tr th {\n",
       "        vertical-align: top;\n",
       "    }\n",
       "\n",
       "    .dataframe thead th {\n",
       "        text-align: right;\n",
       "    }\n",
       "</style>\n",
       "<table border=\"1\" class=\"dataframe\">\n",
       "  <thead>\n",
       "    <tr style=\"text-align: right;\">\n",
       "      <th></th>\n",
       "      <th>mfcc1</th>\n",
       "      <th>mfcc2</th>\n",
       "      <th>mfcc3</th>\n",
       "      <th>mfcc4</th>\n",
       "      <th>mfcc5</th>\n",
       "      <th>mfcc6</th>\n",
       "      <th>mfcc7</th>\n",
       "      <th>mfcc8</th>\n",
       "      <th>mfcc9</th>\n",
       "      <th>mfcc10</th>\n",
       "      <th>mfcc11</th>\n",
       "      <th>mfcc12</th>\n",
       "      <th>mfcc13</th>\n",
       "    </tr>\n",
       "  </thead>\n",
       "  <tbody>\n",
       "    <tr>\n",
       "      <th>0</th>\n",
       "      <td>-1.366721</td>\n",
       "      <td>-1.092069</td>\n",
       "      <td>-0.014589</td>\n",
       "      <td>1.673276</td>\n",
       "      <td>1.689741</td>\n",
       "      <td>0.498789</td>\n",
       "      <td>0.098053</td>\n",
       "      <td>0.711796</td>\n",
       "      <td>0.709506</td>\n",
       "      <td>0.203857</td>\n",
       "      <td>0.143414</td>\n",
       "      <td>0.937126</td>\n",
       "      <td>0.976330</td>\n",
       "    </tr>\n",
       "    <tr>\n",
       "      <th>1</th>\n",
       "      <td>-1.270844</td>\n",
       "      <td>-0.978530</td>\n",
       "      <td>0.132655</td>\n",
       "      <td>1.527600</td>\n",
       "      <td>1.234789</td>\n",
       "      <td>0.603791</td>\n",
       "      <td>0.326731</td>\n",
       "      <td>1.600346</td>\n",
       "      <td>0.331231</td>\n",
       "      <td>-0.190566</td>\n",
       "      <td>-0.257535</td>\n",
       "      <td>0.723589</td>\n",
       "      <td>0.667438</td>\n",
       "    </tr>\n",
       "    <tr>\n",
       "      <th>2</th>\n",
       "      <td>-1.279251</td>\n",
       "      <td>-1.086657</td>\n",
       "      <td>-0.022859</td>\n",
       "      <td>1.074859</td>\n",
       "      <td>0.817529</td>\n",
       "      <td>0.501960</td>\n",
       "      <td>0.511110</td>\n",
       "      <td>0.948588</td>\n",
       "      <td>0.028872</td>\n",
       "      <td>-0.248314</td>\n",
       "      <td>-0.264864</td>\n",
       "      <td>0.844052</td>\n",
       "      <td>-0.036431</td>\n",
       "    </tr>\n",
       "    <tr>\n",
       "      <th>3</th>\n",
       "      <td>-1.377505</td>\n",
       "      <td>-1.026755</td>\n",
       "      <td>-0.088889</td>\n",
       "      <td>1.001777</td>\n",
       "      <td>1.066652</td>\n",
       "      <td>0.437346</td>\n",
       "      <td>0.444312</td>\n",
       "      <td>0.748578</td>\n",
       "      <td>0.550123</td>\n",
       "      <td>0.445194</td>\n",
       "      <td>0.542568</td>\n",
       "      <td>1.509753</td>\n",
       "      <td>0.688372</td>\n",
       "    </tr>\n",
       "    <tr>\n",
       "      <th>4</th>\n",
       "      <td>-1.436626</td>\n",
       "      <td>-0.865647</td>\n",
       "      <td>0.091126</td>\n",
       "      <td>1.135194</td>\n",
       "      <td>0.953060</td>\n",
       "      <td>0.470755</td>\n",
       "      <td>0.117077</td>\n",
       "      <td>0.961370</td>\n",
       "      <td>0.902763</td>\n",
       "      <td>0.153268</td>\n",
       "      <td>0.745510</td>\n",
       "      <td>1.139576</td>\n",
       "      <td>1.218763</td>\n",
       "    </tr>\n",
       "    <tr>\n",
       "      <th>5</th>\n",
       "      <td>-1.471196</td>\n",
       "      <td>-0.974707</td>\n",
       "      <td>0.252347</td>\n",
       "      <td>1.405756</td>\n",
       "      <td>0.824157</td>\n",
       "      <td>0.042115</td>\n",
       "      <td>-0.331951</td>\n",
       "      <td>0.352664</td>\n",
       "      <td>0.612725</td>\n",
       "      <td>0.463939</td>\n",
       "      <td>0.391719</td>\n",
       "      <td>0.991807</td>\n",
       "      <td>0.845736</td>\n",
       "    </tr>\n",
       "    <tr>\n",
       "      <th>6</th>\n",
       "      <td>-1.449797</td>\n",
       "      <td>-0.722354</td>\n",
       "      <td>0.024903</td>\n",
       "      <td>1.514353</td>\n",
       "      <td>1.350594</td>\n",
       "      <td>0.679278</td>\n",
       "      <td>0.662948</td>\n",
       "      <td>0.608575</td>\n",
       "      <td>0.414390</td>\n",
       "      <td>0.436025</td>\n",
       "      <td>0.692049</td>\n",
       "      <td>1.277221</td>\n",
       "      <td>0.787689</td>\n",
       "    </tr>\n",
       "    <tr>\n",
       "      <th>7</th>\n",
       "      <td>-1.639612</td>\n",
       "      <td>-0.761026</td>\n",
       "      <td>0.160842</td>\n",
       "      <td>1.606279</td>\n",
       "      <td>1.459162</td>\n",
       "      <td>0.600331</td>\n",
       "      <td>0.600508</td>\n",
       "      <td>0.763964</td>\n",
       "      <td>-0.224947</td>\n",
       "      <td>-0.072366</td>\n",
       "      <td>0.984137</td>\n",
       "      <td>1.199470</td>\n",
       "      <td>0.832116</td>\n",
       "    </tr>\n",
       "    <tr>\n",
       "      <th>8</th>\n",
       "      <td>-1.714263</td>\n",
       "      <td>-0.951005</td>\n",
       "      <td>0.052317</td>\n",
       "      <td>1.361294</td>\n",
       "      <td>1.262125</td>\n",
       "      <td>0.843315</td>\n",
       "      <td>-0.014770</td>\n",
       "      <td>0.674308</td>\n",
       "      <td>-0.340387</td>\n",
       "      <td>-0.213699</td>\n",
       "      <td>0.702508</td>\n",
       "      <td>1.160154</td>\n",
       "      <td>0.911240</td>\n",
       "    </tr>\n",
       "    <tr>\n",
       "      <th>9</th>\n",
       "      <td>-1.552914</td>\n",
       "      <td>-0.987817</td>\n",
       "      <td>0.078971</td>\n",
       "      <td>1.108526</td>\n",
       "      <td>0.782073</td>\n",
       "      <td>0.700300</td>\n",
       "      <td>1.082980</td>\n",
       "      <td>1.497345</td>\n",
       "      <td>0.573797</td>\n",
       "      <td>0.119164</td>\n",
       "      <td>0.578165</td>\n",
       "      <td>1.367355</td>\n",
       "      <td>1.217061</td>\n",
       "    </tr>\n",
       "  </tbody>\n",
       "</table>\n",
       "</div>"
      ],
      "text/plain": [
       "      mfcc1     mfcc2     mfcc3     mfcc4     mfcc5     mfcc6     mfcc7  \\\n",
       "0 -1.366721 -1.092069 -0.014589  1.673276  1.689741  0.498789  0.098053   \n",
       "1 -1.270844 -0.978530  0.132655  1.527600  1.234789  0.603791  0.326731   \n",
       "2 -1.279251 -1.086657 -0.022859  1.074859  0.817529  0.501960  0.511110   \n",
       "3 -1.377505 -1.026755 -0.088889  1.001777  1.066652  0.437346  0.444312   \n",
       "4 -1.436626 -0.865647  0.091126  1.135194  0.953060  0.470755  0.117077   \n",
       "5 -1.471196 -0.974707  0.252347  1.405756  0.824157  0.042115 -0.331951   \n",
       "6 -1.449797 -0.722354  0.024903  1.514353  1.350594  0.679278  0.662948   \n",
       "7 -1.639612 -0.761026  0.160842  1.606279  1.459162  0.600331  0.600508   \n",
       "8 -1.714263 -0.951005  0.052317  1.361294  1.262125  0.843315 -0.014770   \n",
       "9 -1.552914 -0.987817  0.078971  1.108526  0.782073  0.700300  1.082980   \n",
       "\n",
       "      mfcc8     mfcc9    mfcc10    mfcc11    mfcc12    mfcc13  \n",
       "0  0.711796  0.709506  0.203857  0.143414  0.937126  0.976330  \n",
       "1  1.600346  0.331231 -0.190566 -0.257535  0.723589  0.667438  \n",
       "2  0.948588  0.028872 -0.248314 -0.264864  0.844052 -0.036431  \n",
       "3  0.748578  0.550123  0.445194  0.542568  1.509753  0.688372  \n",
       "4  0.961370  0.902763  0.153268  0.745510  1.139576  1.218763  \n",
       "5  0.352664  0.612725  0.463939  0.391719  0.991807  0.845736  \n",
       "6  0.608575  0.414390  0.436025  0.692049  1.277221  0.787689  \n",
       "7  0.763964 -0.224947 -0.072366  0.984137  1.199470  0.832116  \n",
       "8  0.674308 -0.340387 -0.213699  0.702508  1.160154  0.911240  \n",
       "9  1.497345  0.573797  0.119164  0.578165  1.367355  1.217061  "
      ]
     },
     "execution_count": 16,
     "metadata": {},
     "output_type": "execute_result"
    }
   ],
   "source": [
    "# normalize mfcc features\n",
    "dataframe = pd.read_csv('dataset.csv',index_col = 0)\n",
    "x = dataframe[['mfcc_1','mfcc_2','mfcc_3','mfcc_4','mfcc_5','mfcc_6','mfcc_7','mfcc_8','mfcc_9','mfcc_10','mfcc_11','mfcc_12','mfcc_13']]\n",
    "normalized_x = pd.DataFrame()\n",
    "count = 1\n",
    "for i in x:\n",
    "    i = normalize(dataframe[i])\n",
    "    normalized_x[\"mfcc\"+ str(count)] = i\n",
    "    count = count + 1\n",
    "\n",
    "normalized_x.head(10)"
   ]
  },
  {
   "cell_type": "markdown",
   "metadata": {},
   "source": [
    "Show the table that contains 478800 entries of data"
   ]
  },
  {
   "cell_type": "code",
   "execution_count": 17,
   "metadata": {},
   "outputs": [
    {
     "data": {
      "text/html": [
       "<div>\n",
       "<style scoped>\n",
       "    .dataframe tbody tr th:only-of-type {\n",
       "        vertical-align: middle;\n",
       "    }\n",
       "\n",
       "    .dataframe tbody tr th {\n",
       "        vertical-align: top;\n",
       "    }\n",
       "\n",
       "    .dataframe thead th {\n",
       "        text-align: right;\n",
       "    }\n",
       "</style>\n",
       "<table border=\"1\" class=\"dataframe\">\n",
       "  <thead>\n",
       "    <tr style=\"text-align: right;\">\n",
       "      <th></th>\n",
       "      <th>label</th>\n",
       "      <th>zcr</th>\n",
       "      <th>energy</th>\n",
       "      <th>energy_entropy</th>\n",
       "      <th>spectral_centroid</th>\n",
       "      <th>spectral_spread</th>\n",
       "      <th>spectral_entropy</th>\n",
       "      <th>spectral_flux</th>\n",
       "      <th>spectral_rolloff</th>\n",
       "      <th>mfcc_1</th>\n",
       "      <th>...</th>\n",
       "      <th>mfcc_5</th>\n",
       "      <th>mfcc_6</th>\n",
       "      <th>mfcc_7</th>\n",
       "      <th>mfcc_8</th>\n",
       "      <th>mfcc_9</th>\n",
       "      <th>mfcc_10</th>\n",
       "      <th>mfcc_11</th>\n",
       "      <th>mfcc_12</th>\n",
       "      <th>mfcc_13</th>\n",
       "      <th>chroma_1</th>\n",
       "    </tr>\n",
       "  </thead>\n",
       "  <tbody>\n",
       "    <tr>\n",
       "      <th>count</th>\n",
       "      <td>478800.000000</td>\n",
       "      <td>478800.000000</td>\n",
       "      <td>478800.000000</td>\n",
       "      <td>478800.000000</td>\n",
       "      <td>478800.000000</td>\n",
       "      <td>478800.000000</td>\n",
       "      <td>4.788000e+05</td>\n",
       "      <td>478800.000000</td>\n",
       "      <td>478800.000000</td>\n",
       "      <td>478800.000000</td>\n",
       "      <td>...</td>\n",
       "      <td>478800.000000</td>\n",
       "      <td>478800.000000</td>\n",
       "      <td>478800.000000</td>\n",
       "      <td>478800.000000</td>\n",
       "      <td>478800.000000</td>\n",
       "      <td>478800.000000</td>\n",
       "      <td>478800.000000</td>\n",
       "      <td>478800.000000</td>\n",
       "      <td>478800.000000</td>\n",
       "      <td>4.788000e+05</td>\n",
       "    </tr>\n",
       "    <tr>\n",
       "      <th>mean</th>\n",
       "      <td>1.161667</td>\n",
       "      <td>0.138316</td>\n",
       "      <td>0.012083</td>\n",
       "      <td>3.072952</td>\n",
       "      <td>0.214487</td>\n",
       "      <td>0.200836</td>\n",
       "      <td>8.287646e-01</td>\n",
       "      <td>0.006608</td>\n",
       "      <td>0.206260</td>\n",
       "      <td>-26.793379</td>\n",
       "      <td>...</td>\n",
       "      <td>-0.323530</td>\n",
       "      <td>0.053969</td>\n",
       "      <td>-0.073894</td>\n",
       "      <td>-0.008552</td>\n",
       "      <td>-0.095378</td>\n",
       "      <td>-0.071741</td>\n",
       "      <td>-0.113041</td>\n",
       "      <td>-0.057503</td>\n",
       "      <td>-0.105271</td>\n",
       "      <td>2.034716e-02</td>\n",
       "    </tr>\n",
       "    <tr>\n",
       "      <th>std</th>\n",
       "      <td>0.593463</td>\n",
       "      <td>0.147643</td>\n",
       "      <td>0.018931</td>\n",
       "      <td>0.228431</td>\n",
       "      <td>0.131248</td>\n",
       "      <td>0.049075</td>\n",
       "      <td>7.668584e-01</td>\n",
       "      <td>0.007056</td>\n",
       "      <td>0.238092</td>\n",
       "      <td>2.420032</td>\n",
       "      <td>...</td>\n",
       "      <td>0.554736</td>\n",
       "      <td>0.465873</td>\n",
       "      <td>0.415311</td>\n",
       "      <td>0.362158</td>\n",
       "      <td>0.343331</td>\n",
       "      <td>0.327139</td>\n",
       "      <td>0.316236</td>\n",
       "      <td>0.319651</td>\n",
       "      <td>0.314870</td>\n",
       "      <td>3.515638e-02</td>\n",
       "    </tr>\n",
       "    <tr>\n",
       "      <th>min</th>\n",
       "      <td>0.000000</td>\n",
       "      <td>0.000000</td>\n",
       "      <td>0.000004</td>\n",
       "      <td>0.333757</td>\n",
       "      <td>0.003172</td>\n",
       "      <td>0.030122</td>\n",
       "      <td>7.503214e-07</td>\n",
       "      <td>0.000000</td>\n",
       "      <td>0.000000</td>\n",
       "      <td>-47.762011</td>\n",
       "      <td>...</td>\n",
       "      <td>-3.267421</td>\n",
       "      <td>-2.172960</td>\n",
       "      <td>-2.060405</td>\n",
       "      <td>-1.943886</td>\n",
       "      <td>-1.837495</td>\n",
       "      <td>-1.782610</td>\n",
       "      <td>-1.714220</td>\n",
       "      <td>-1.662052</td>\n",
       "      <td>-1.764887</td>\n",
       "      <td>2.274218e-11</td>\n",
       "    </tr>\n",
       "    <tr>\n",
       "      <th>25%</th>\n",
       "      <td>1.000000</td>\n",
       "      <td>0.047230</td>\n",
       "      <td>0.001421</td>\n",
       "      <td>2.986923</td>\n",
       "      <td>0.127713</td>\n",
       "      <td>0.166846</td>\n",
       "      <td>2.111611e-01</td>\n",
       "      <td>0.003090</td>\n",
       "      <td>0.045372</td>\n",
       "      <td>-28.399418</td>\n",
       "      <td>...</td>\n",
       "      <td>-0.690973</td>\n",
       "      <td>-0.255144</td>\n",
       "      <td>-0.350322</td>\n",
       "      <td>-0.241125</td>\n",
       "      <td>-0.318435</td>\n",
       "      <td>-0.277326</td>\n",
       "      <td>-0.306589</td>\n",
       "      <td>-0.250215</td>\n",
       "      <td>-0.294183</td>\n",
       "      <td>2.434024e-03</td>\n",
       "    </tr>\n",
       "    <tr>\n",
       "      <th>50%</th>\n",
       "      <td>1.000000</td>\n",
       "      <td>0.076294</td>\n",
       "      <td>0.005154</td>\n",
       "      <td>3.145891</td>\n",
       "      <td>0.164899</td>\n",
       "      <td>0.196857</td>\n",
       "      <td>5.521587e-01</td>\n",
       "      <td>0.005025</td>\n",
       "      <td>0.090744</td>\n",
       "      <td>-26.552168</td>\n",
       "      <td>...</td>\n",
       "      <td>-0.311706</td>\n",
       "      <td>0.049421</td>\n",
       "      <td>-0.067579</td>\n",
       "      <td>0.001638</td>\n",
       "      <td>-0.082891</td>\n",
       "      <td>-0.059318</td>\n",
       "      <td>-0.093479</td>\n",
       "      <td>-0.037107</td>\n",
       "      <td>-0.084058</td>\n",
       "      <td>6.756622e-03</td>\n",
       "    </tr>\n",
       "    <tr>\n",
       "      <th>75%</th>\n",
       "      <td>2.000000</td>\n",
       "      <td>0.158038</td>\n",
       "      <td>0.014707</td>\n",
       "      <td>3.233517</td>\n",
       "      <td>0.254569</td>\n",
       "      <td>0.230491</td>\n",
       "      <td>1.247080e+00</td>\n",
       "      <td>0.008010</td>\n",
       "      <td>0.261343</td>\n",
       "      <td>-25.010996</td>\n",
       "      <td>...</td>\n",
       "      <td>0.053639</td>\n",
       "      <td>0.353329</td>\n",
       "      <td>0.204030</td>\n",
       "      <td>0.233180</td>\n",
       "      <td>0.137778</td>\n",
       "      <td>0.145825</td>\n",
       "      <td>0.099508</td>\n",
       "      <td>0.153462</td>\n",
       "      <td>0.101314</td>\n",
       "      <td>2.042029e-02</td>\n",
       "    </tr>\n",
       "    <tr>\n",
       "      <th>max</th>\n",
       "      <td>2.000000</td>\n",
       "      <td>0.897366</td>\n",
       "      <td>0.619221</td>\n",
       "      <td>3.321075</td>\n",
       "      <td>0.833006</td>\n",
       "      <td>0.400802</td>\n",
       "      <td>3.271169e+00</td>\n",
       "      <td>0.445985</td>\n",
       "      <td>0.965517</td>\n",
       "      <td>-20.293946</td>\n",
       "      <td>...</td>\n",
       "      <td>2.297223</td>\n",
       "      <td>2.377265</td>\n",
       "      <td>2.052533</td>\n",
       "      <td>2.107679</td>\n",
       "      <td>1.532954</td>\n",
       "      <td>1.954015</td>\n",
       "      <td>1.710319</td>\n",
       "      <td>1.778261</td>\n",
       "      <td>1.557266</td>\n",
       "      <td>3.261622e-01</td>\n",
       "    </tr>\n",
       "  </tbody>\n",
       "</table>\n",
       "<p>8 rows × 23 columns</p>\n",
       "</div>"
      ],
      "text/plain": [
       "               label            zcr         energy  energy_entropy  \\\n",
       "count  478800.000000  478800.000000  478800.000000   478800.000000   \n",
       "mean        1.161667       0.138316       0.012083        3.072952   \n",
       "std         0.593463       0.147643       0.018931        0.228431   \n",
       "min         0.000000       0.000000       0.000004        0.333757   \n",
       "25%         1.000000       0.047230       0.001421        2.986923   \n",
       "50%         1.000000       0.076294       0.005154        3.145891   \n",
       "75%         2.000000       0.158038       0.014707        3.233517   \n",
       "max         2.000000       0.897366       0.619221        3.321075   \n",
       "\n",
       "       spectral_centroid  spectral_spread  spectral_entropy  spectral_flux  \\\n",
       "count      478800.000000    478800.000000      4.788000e+05  478800.000000   \n",
       "mean            0.214487         0.200836      8.287646e-01       0.006608   \n",
       "std             0.131248         0.049075      7.668584e-01       0.007056   \n",
       "min             0.003172         0.030122      7.503214e-07       0.000000   \n",
       "25%             0.127713         0.166846      2.111611e-01       0.003090   \n",
       "50%             0.164899         0.196857      5.521587e-01       0.005025   \n",
       "75%             0.254569         0.230491      1.247080e+00       0.008010   \n",
       "max             0.833006         0.400802      3.271169e+00       0.445985   \n",
       "\n",
       "       spectral_rolloff         mfcc_1  ...         mfcc_5         mfcc_6  \\\n",
       "count     478800.000000  478800.000000  ...  478800.000000  478800.000000   \n",
       "mean           0.206260     -26.793379  ...      -0.323530       0.053969   \n",
       "std            0.238092       2.420032  ...       0.554736       0.465873   \n",
       "min            0.000000     -47.762011  ...      -3.267421      -2.172960   \n",
       "25%            0.045372     -28.399418  ...      -0.690973      -0.255144   \n",
       "50%            0.090744     -26.552168  ...      -0.311706       0.049421   \n",
       "75%            0.261343     -25.010996  ...       0.053639       0.353329   \n",
       "max            0.965517     -20.293946  ...       2.297223       2.377265   \n",
       "\n",
       "              mfcc_7         mfcc_8         mfcc_9        mfcc_10  \\\n",
       "count  478800.000000  478800.000000  478800.000000  478800.000000   \n",
       "mean       -0.073894      -0.008552      -0.095378      -0.071741   \n",
       "std         0.415311       0.362158       0.343331       0.327139   \n",
       "min        -2.060405      -1.943886      -1.837495      -1.782610   \n",
       "25%        -0.350322      -0.241125      -0.318435      -0.277326   \n",
       "50%        -0.067579       0.001638      -0.082891      -0.059318   \n",
       "75%         0.204030       0.233180       0.137778       0.145825   \n",
       "max         2.052533       2.107679       1.532954       1.954015   \n",
       "\n",
       "             mfcc_11        mfcc_12        mfcc_13      chroma_1  \n",
       "count  478800.000000  478800.000000  478800.000000  4.788000e+05  \n",
       "mean       -0.113041      -0.057503      -0.105271  2.034716e-02  \n",
       "std         0.316236       0.319651       0.314870  3.515638e-02  \n",
       "min        -1.714220      -1.662052      -1.764887  2.274218e-11  \n",
       "25%        -0.306589      -0.250215      -0.294183  2.434024e-03  \n",
       "50%        -0.093479      -0.037107      -0.084058  6.756622e-03  \n",
       "75%         0.099508       0.153462       0.101314  2.042029e-02  \n",
       "max         1.710319       1.778261       1.557266  3.261622e-01  \n",
       "\n",
       "[8 rows x 23 columns]"
      ]
     },
     "execution_count": 17,
     "metadata": {},
     "output_type": "execute_result"
    }
   ],
   "source": [
    "dataframe.describe()"
   ]
  },
  {
   "cell_type": "code",
   "execution_count": 18,
   "metadata": {},
   "outputs": [],
   "source": [
    "y = dataframe['label']"
   ]
  },
  {
   "cell_type": "markdown",
   "metadata": {},
   "source": [
    "KNN"
   ]
  },
  {
   "cell_type": "code",
   "execution_count": 19,
   "metadata": {},
   "outputs": [
    {
     "name": "stdout",
     "output_type": "stream",
     "text": [
      "Accuracy: 0.6200640490114174\n",
      "              precision    recall  f1-score   support\n",
      "\n",
      "    Mandarin       0.33      0.24      0.28     15561\n",
      "     English       0.68      0.83      0.75     89296\n",
      "     Spanish       0.47      0.29      0.36     38783\n",
      "\n",
      "    accuracy                           0.62    143640\n",
      "   macro avg       0.50      0.45      0.46    143640\n",
      "weighted avg       0.59      0.62      0.59    143640\n",
      "\n"
     ]
    },
    {
     "data": {
      "image/png": "[encoded data removed]",
      "text/plain": [
       "<Figure size 432x288 with 2 Axes>"
      ]
     },
     "metadata": {
      "needs_background": "light"
     },
     "output_type": "display_data"
    }
   ],
   "source": [
    "X_train, X_test, y_train, y_test = train_test_split(normalized_x, y, stratify=y, test_size=0.3)\n",
    "knn = KNeighborsClassifier(n_neighbors = 5)\n",
    "knn.fit(X_train, y_train)\n",
    "y_pred = knn.predict(X_test)\n",
    "print(\"Accuracy:\",metrics.accuracy_score(y_test, y_pred))\n",
    "\n",
    "target_names = ['Mandarin', 'English', 'Spanish']\n",
    "print(classification_report(y_test, y_pred, target_names=target_names))\n",
    "\n",
    "cm = confusion_matrix(y_test, y_pred)\n",
    "cm_plot = sns.heatmap(cm, annot=True, square=True)"
   ]
  },
  {
   "cell_type": "markdown",
   "metadata": {},
   "source": [
    "XGBoost"
   ]
  },
  {
   "cell_type": "code",
   "execution_count": 20,
   "metadata": {},
   "outputs": [
    {
     "name": "stdout",
     "output_type": "stream",
     "text": [
      "Accuracy: 0.6286131996658313\n",
      "              precision    recall  f1-score   support\n",
      "\n",
      "    Mandarin       0.54      0.02      0.04     15561\n",
      "     English       0.63      0.98      0.77     89296\n",
      "     Spanish       0.52      0.05      0.10     38783\n",
      "\n",
      "    accuracy                           0.63    143640\n",
      "   macro avg       0.56      0.35      0.30    143640\n",
      "weighted avg       0.59      0.63      0.51    143640\n",
      "\n"
     ]
    },
    {
     "data": {
      "image/png": "[encoded data removed]",
      "text/plain": [
       "<Figure size 432x288 with 2 Axes>"
      ]
     },
     "metadata": {
      "needs_background": "light"
     },
     "output_type": "display_data"
    }
   ],
   "source": [
    "X_train, X_test, y_train, y_test = train_test_split(normalized_x, y, stratify=y, test_size=0.3)\n",
    "xgb_c = XGBClassifier(max_depth=10, n_estimators=100, n_jobs=-1, num_class=3) \n",
    "xgb_c.fit(X_train, y_train.ravel())\n",
    "y_pred = xgb_c.predict(X_test) ##predict\n",
    "print(\"Accuracy:\",metrics.accuracy_score(y_test, y_pred))\n",
    "\n",
    "target_names = ['Mandarin', 'English', 'Spanish']\n",
    "print(classification_report(y_test, y_pred, target_names=target_names))\n",
    "\n",
    "cm = confusion_matrix(y_test, y_pred)\n",
    "cm_plot = sns.heatmap(cm, annot=True, square=True)"
   ]
  },
  {
   "cell_type": "markdown",
   "metadata": {},
   "source": [
    "Now we compare the model with normalized input with the unnormalized input, prediction accuracy is still very similar"
   ]
  },
  {
   "cell_type": "markdown",
   "metadata": {},
   "source": [
    "We also tried to split the test data by audio file, for example, we find each audio file extracts 798 data records, we split the test data by 30% of English,Mandarin,Spanish audio files, so 112,19,49 files will be taken as test audio files, that's 180 in total. "
   ]
  },
  {
   "cell_type": "code",
   "execution_count": 21,
   "metadata": {},
   "outputs": [
    {
     "name": "stdout",
     "output_type": "stream",
     "text": [
      "        mfcc1     mfcc2     mfcc3     mfcc4     mfcc5     mfcc6     mfcc7  \\\n",
      "0   -0.172904  0.984969  0.910135  0.956940 -1.463915 -0.856273  0.767871   \n",
      "1    0.564196  0.447614  0.377670  0.307957 -1.485418 -0.776060  0.296891   \n",
      "2    0.543723  0.545370  0.898581  0.794602 -1.879760 -0.382586 -0.119853   \n",
      "3    0.633786  0.334014  1.081994  0.238636 -1.226101  0.180228 -0.615795   \n",
      "4    0.444130  0.245998  1.433295  0.073945 -0.758072  0.605848  0.058155   \n",
      "5    0.252314  0.508330  1.785225 -0.698013 -1.205473 -0.480411 -0.878064   \n",
      "6    0.136066  0.107140  0.926715 -0.171600  0.178284  0.040163 -0.612684   \n",
      "7   -0.727852 -0.060058  1.411944  0.412422 -0.971629  0.348483 -0.255636   \n",
      "8   -0.648311 -0.692491  0.031363  0.185709 -0.824808 -0.208398 -0.029135   \n",
      "9   -0.760560 -0.659546  0.029595  1.554505 -0.309935  0.295719  0.796292   \n",
      "10  -0.585475 -0.374795 -1.092678  0.856990 -0.920616  0.079916  1.866051   \n",
      "11   0.205345  0.738155 -1.646673 -0.142941 -0.194923 -0.808480  2.858714   \n",
      "12   0.977173  0.625041 -1.424225 -0.221155  0.340317 -0.867194  1.037756   \n",
      "13   1.574401 -0.063689 -1.887638 -1.061984  0.591820 -0.093539  0.780297   \n",
      "14   1.725916  0.267481 -1.794266 -1.011306  1.042143 -0.536574  0.692262   \n",
      "15   1.491615 -0.101904 -2.082220 -1.088422  1.614306 -0.621297  1.083523   \n",
      "16   1.608458  0.749189 -2.081849 -1.612788  1.700418 -0.521782  1.000579   \n",
      "17   1.812450 -0.025756 -1.830019 -1.334922  0.458816  0.145567  0.707033   \n",
      "18   1.637289  0.575870 -1.787888 -1.698304  0.655099  0.869206  0.354057   \n",
      "19   1.258275 -0.009877 -1.868439 -1.425561  0.431907  0.525617  0.567096   \n",
      "20   0.928150  0.391376 -1.532866 -1.145069  0.329517  0.273147  0.699899   \n",
      "21  -0.235647  1.008727 -1.202727 -1.419517  1.370132 -0.346212  0.984508   \n",
      "22  -0.750702  0.865576 -1.122689 -1.938071  1.686516 -2.088516  0.373071   \n",
      "23  -1.092920  0.285917 -0.444441 -1.022043  1.494790 -1.711985  0.942672   \n",
      "24  -1.512009  0.083807 -0.203471 -0.676134  1.162322 -2.355855  0.515019   \n",
      "25  -0.846132  0.128352 -0.876745 -1.120248 -0.880435 -1.299256  1.803021   \n",
      "26   0.093050  0.421110 -0.642627 -0.180145 -1.883180 -2.035805  2.083037   \n",
      "27   1.004611  0.265715 -1.146011 -0.678612 -1.622165 -0.368926  3.015212   \n",
      "28   1.363899  0.434599 -1.143938 -0.645386 -1.213774 -0.447070  3.553745   \n",
      "29   1.647388  0.276932 -1.382470 -0.815934 -0.711477 -0.255260  3.143355   \n",
      "..        ...       ...       ...       ...       ...       ...       ...   \n",
      "768 -0.955222 -2.743858  0.316761 -0.963755 -0.338102  0.152295 -0.703522   \n",
      "769 -1.014588 -3.825508  0.231277 -0.366880  0.180688  0.546291  0.165295   \n",
      "770 -0.896652 -3.881833  0.118128 -0.425985 -0.248244  0.256228  0.033722   \n",
      "771 -0.548408 -2.926684 -0.043439 -0.404339 -0.364418  0.799011  0.819923   \n",
      "772 -0.187272 -1.933029 -0.474586 -0.339623 -0.636866  0.736909  1.211061   \n",
      "773  0.136344 -1.450037 -0.681964  0.396435 -0.956219  1.256647  0.937867   \n",
      "774  0.322385 -1.651041 -0.504903 -0.090315 -1.325019  1.505242  0.164525   \n",
      "775  0.393296 -1.799992 -0.140506 -0.326275 -0.922651  0.841466 -0.428062   \n",
      "776  0.162798 -1.600414  0.504234 -1.232999 -0.892240  0.587923 -0.348442   \n",
      "777 -0.025969 -1.114586  0.869998 -1.557798 -0.488220 -0.103625 -0.294899   \n",
      "778 -0.232248 -0.585404  0.969619 -1.314031  0.072606 -0.515236 -0.164923   \n",
      "779 -0.688463 -0.388672  0.593502 -1.618700 -0.596618 -0.613508 -0.229261   \n",
      "780 -0.949269 -0.450006  0.676903 -1.104449  0.408056 -0.229929  0.378394   \n",
      "781 -1.376401 -1.681124  0.500882 -0.796969  1.096518 -0.862269  0.688670   \n",
      "782 -1.695789 -1.938682  0.619290 -0.431729  1.582386 -0.502881  0.339433   \n",
      "783 -1.778027 -2.233654  0.211559 -0.388903  1.339596 -0.029104  0.702279   \n",
      "784 -1.240919 -2.001458  0.644144 -0.868394  0.286634  0.015064 -0.068089   \n",
      "785 -0.221498 -1.618774  1.029955 -1.913720 -0.834088  0.075569 -0.504717   \n",
      "786  0.044833 -1.840722  1.070655 -2.450859 -1.215970 -0.240365 -0.294788   \n",
      "787  0.130702 -2.309371  1.084353 -2.228296 -1.427723 -0.667454 -0.725789   \n",
      "788  0.064800 -1.991804  1.608111 -2.337953 -1.160251 -0.660519 -0.857702   \n",
      "789 -0.168864 -1.656181  1.821326 -2.495121 -0.345248 -0.521949 -1.503502   \n",
      "790 -0.508036 -1.833125  1.646420 -2.148965  0.227661 -1.524416 -2.020423   \n",
      "791 -0.748053 -2.090937  1.498801 -1.638727  0.080689 -1.836684 -1.544165   \n",
      "792 -0.738687 -2.782329  1.214012 -1.309158  0.139537 -1.589880 -0.686362   \n",
      "793 -0.786052 -3.407404  1.092820 -1.142924  0.492617 -0.979584 -0.386291   \n",
      "794 -0.767033 -3.736337  0.795764 -0.914329  1.033407 -0.054721  0.061809   \n",
      "795 -0.902966 -3.890422  0.592241 -1.281562  0.719415  0.022097  0.186096   \n",
      "796 -1.285505 -3.917514  0.518834 -1.311551  0.931079  0.408367  0.022642   \n",
      "797 -1.595289 -3.581403  0.643778 -1.280453  0.780060  0.093656 -0.171728   \n",
      "\n",
      "        mfcc8     mfcc9    mfcc10    mfcc11    mfcc12    mfcc13  \n",
      "0   -1.551721  0.955834 -0.678125  0.144991  0.754798  1.038895  \n",
      "1    0.037766  1.490466  0.670298 -0.028079  1.178834  0.644713  \n",
      "2   -0.970653  0.969949 -0.135850 -0.258178  0.595887  1.191047  \n",
      "3   -0.468445  0.601375  0.729879  0.273521 -0.073206 -0.094860  \n",
      "4    0.354711  0.604972  1.317945  0.295925  0.041942 -0.499555  \n",
      "5    0.262704 -0.695714  0.175756 -0.551734 -0.531621 -0.164396  \n",
      "6    0.674441 -0.155523  0.463317  0.172847 -0.058516 -0.997245  \n",
      "7    0.226252  0.110678  0.022431  0.234540 -0.487706 -0.359282  \n",
      "8   -0.171015  0.801573  0.301327 -0.356954 -1.226157 -0.703698  \n",
      "9   -1.002926  0.617764  0.462793 -0.603326 -0.541934  0.812943  \n",
      "10  -1.917936 -0.903255  0.404070 -0.584261 -0.802149  0.318324  \n",
      "11  -0.367176 -0.661157  0.289684 -1.606031  0.399017  0.433781  \n",
      "12  -0.760418 -1.122443  0.732354 -0.636515  0.950905  0.340565  \n",
      "13  -0.309587 -0.685652  0.241564  0.756298  1.678376 -0.031381  \n",
      "14   0.322891 -0.746782 -0.898375 -0.419894  1.129966 -0.760394  \n",
      "15   0.413334 -1.230307 -1.198938 -0.569772  0.402106 -0.703986  \n",
      "16  -0.022017 -0.085205 -0.147732 -0.045931  1.352954 -0.499116  \n",
      "17  -0.351025 -0.587919 -0.348949  0.980516  1.309471 -0.121868  \n",
      "18  -0.780894 -0.160835 -0.218246 -0.000971  1.083224 -0.254778  \n",
      "19   0.523269  1.237880  1.204561  1.158724  0.621564 -0.025987  \n",
      "20   0.574993  0.523422 -0.822104  0.138380  0.772356 -0.006440  \n",
      "21   0.521188 -0.093978 -0.509130  0.738801  1.858469  1.252191  \n",
      "22  -0.784183  1.097500  0.370387  1.575564  2.871210  0.647184  \n",
      "23  -1.123212 -0.062063 -1.082986  0.508677  2.390053  0.701164  \n",
      "24  -1.172358  0.969560 -0.939386  0.218239  2.526085  0.086890  \n",
      "25  -1.445767  0.457749 -0.543022 -1.857706  1.712587 -0.227058  \n",
      "26  -1.456244 -0.159832  1.205118 -2.833787  0.715162 -0.825390  \n",
      "27  -1.705006  0.274441  1.243716 -2.159293  1.843182  0.583295  \n",
      "28  -1.969765 -0.066980  1.221142 -1.591228  1.592002 -0.001531  \n",
      "29  -1.728531 -0.460113  1.395300 -1.205628  0.977591  1.531795  \n",
      "..        ...       ...       ...       ...       ...       ...  \n",
      "768  0.355568  2.249474  0.275670  1.688042  0.092352  0.508372  \n",
      "769 -0.374891  1.085517 -0.808611  0.453627 -0.352702  0.915562  \n",
      "770 -1.213097  0.749531 -0.852926  0.578623 -0.441360  0.700745  \n",
      "771 -0.805580  1.261110 -0.240462  1.692940  1.107250  1.413393  \n",
      "772 -0.219938  2.565729 -0.838383  0.117825  0.990806  1.096572  \n",
      "773  0.168332  1.962214 -1.651088  0.676218 -0.237988  0.667561  \n",
      "774 -0.160998  1.449075 -0.343801  1.047179 -0.172312  0.695754  \n",
      "775 -0.673765  0.707705  0.352121  1.025809  0.075456  0.157233  \n",
      "776 -0.149731  0.401563  1.074922  1.312389  0.510443 -0.240593  \n",
      "777 -0.086553 -0.339481  1.274388  1.209574  1.087351  0.348360  \n",
      "778  0.302526  0.186821  1.370143  0.432720 -0.731160  0.397789  \n",
      "779  0.316797  1.458558  1.741197  2.280835  0.749739 -0.146762  \n",
      "780 -0.236688  1.197672  0.022006  1.945718  0.190261  0.043133  \n",
      "781  0.520467  2.197730  0.955786  2.529822  1.154910  0.534401  \n",
      "782 -0.092007  1.506192 -0.253969  2.216542  0.911161  0.827680  \n",
      "783  0.798913  2.191102  0.291464  2.849347 -0.284376  0.600527  \n",
      "784  1.121452  0.619571  0.386044  1.341565 -0.203200 -0.018343  \n",
      "785  1.863842  0.112003  0.422504  0.887969  0.006316 -0.108368  \n",
      "786  1.477797  0.263328  1.392428  1.351519 -0.157492 -0.685751  \n",
      "787  1.457358  0.489287  1.430458  1.606187  0.456877  0.146554  \n",
      "788  1.701368 -0.299910  1.279019  1.348570  0.325079  0.482812  \n",
      "789  1.488418 -1.088498  1.001435  1.502199  0.891639  0.969448  \n",
      "790  0.442682 -1.487641  0.453253  1.155534  1.381169  0.662643  \n",
      "791 -0.161737 -0.434730  0.887609  1.349070  1.528078  0.405875  \n",
      "792 -0.332486  0.942240  0.440055  1.022394  0.782241  1.081236  \n",
      "793 -0.120297  1.205303  0.484637  1.761315 -0.237953  1.356675  \n",
      "794 -0.105387  1.178302 -0.096854  1.812067 -0.464014  0.553579  \n",
      "795  0.035373  1.275944 -0.218155  2.041442 -0.016169  1.079271  \n",
      "796 -0.298976  1.532685 -0.622451  2.901734 -0.541445  1.147410  \n",
      "797 -0.484130  1.607779 -0.175888  1.935011 -1.024011  1.162348  \n",
      "\n",
      "[90174 rows x 13 columns]\n"
     ]
    }
   ],
   "source": [
    "eng_x_test = normalized_x.iloc[0:89376]\n",
    "eng_x_train = normalized_x.iloc[89376:297654]\n",
    "man_x_test = normalized_x.iloc[297654:312816]\n",
    "man_x_train = normalized_x.iloc[312816:349524]\n",
    "span_x_test = normalized_x.iloc[349524:388626]\n",
    "span_x_train = normalized_x.iloc[388626:478800]\n",
    "print(span_x_train) "
   ]
  },
  {
   "cell_type": "code",
   "execution_count": 22,
   "metadata": {},
   "outputs": [],
   "source": [
    "X_train = normalized_x.iloc[np.r_[89376:297654, 312816:349524, 388626:478800 ]]\n",
    "y_train = y.iloc[np.r_[89376:297654, 312816:349524, 388626:478800 ]]\n",
    "X_test = normalized_x.iloc[np.r_[0:89376, 297654:312816, 349524:388626 ]]\n",
    "y_test = y.iloc[np.r_[0:89376, 297654:312816, 349524:388626 ]]"
   ]
  },
  {
   "cell_type": "markdown",
   "metadata": {},
   "source": [
    "We will find the prediciton of each time segment, then take the mode of the entire time frame of the audio file to determine the label."
   ]
  },
  {
   "cell_type": "markdown",
   "metadata": {},
   "source": [
    "KNN"
   ]
  },
  {
   "cell_type": "code",
   "execution_count": 31,
   "metadata": {},
   "outputs": [
    {
     "name": "stdout",
     "output_type": "stream",
     "text": [
      "Accuracy: 0.6277777777777778\n"
     ]
    }
   ],
   "source": [
    "knn = KNeighborsClassifier(n_neighbors = 5)\n",
    "knn.fit(X_train, y_train)\n",
    "y_realtest = []\n",
    "y_pred = []\n",
    "for i in range(0,180):\n",
    "    y_predpiece = knn.predict(X_test.iloc[(i*797):(i*797+797)])\n",
    "    counts = np.bincount(y_predpiece)\n",
    "    # get mode\n",
    "    y_predmode = np.argmax(counts)\n",
    "#     print(y_predmode)\n",
    "    y_pred.append(y_predmode)\n",
    "    y_realtest.append(y_test.iloc[i*797])\n",
    "print(\"Accuracy:\",metrics.accuracy_score(y_realtest, y_pred))\n"
   ]
  },
  {
   "cell_type": "code",
   "execution_count": 32,
   "metadata": {},
   "outputs": [
    {
     "name": "stdout",
     "output_type": "stream",
     "text": [
      "              precision    recall  f1-score   support\n",
      "\n",
      "    Mandarin       0.00      0.00      0.00        19\n",
      "     English       0.63      1.00      0.77       113\n",
      "     Spanish       0.00      0.00      0.00        48\n",
      "\n",
      "    accuracy                           0.63       180\n",
      "   macro avg       0.21      0.33      0.26       180\n",
      "weighted avg       0.39      0.63      0.48       180\n",
      "\n"
     ]
    },
    {
     "name": "stderr",
     "output_type": "stream",
     "text": [
      "/home/tang/anaconda3/lib/python3.7/site-packages/sklearn/metrics/classification.py:1437: UndefinedMetricWarning: Precision and F-score are ill-defined and being set to 0.0 in labels with no predicted samples.\n",
      "  'precision', 'predicted', average, warn_for)\n"
     ]
    },
    {
     "data": {
      "image/png": "[encoded data removed]",
      "text/plain": [
       "<Figure size 432x288 with 2 Axes>"
      ]
     },
     "metadata": {
      "needs_background": "light"
     },
     "output_type": "display_data"
    }
   ],
   "source": [
    "target_names = ['Mandarin', 'English', 'Spanish']\n",
    "print(classification_report(y_realtest, y_pred, target_names=target_names))\n",
    "\n",
    "cm = confusion_matrix(y_realtest, y_pred)\n",
    "cm_plot = sns.heatmap(cm, annot=True, square=True)"
   ]
  },
  {
   "cell_type": "code",
   "execution_count": 33,
   "metadata": {},
   "outputs": [
    {
     "name": "stdout",
     "output_type": "stream",
     "text": [
      "[1, 1, 1, 1, 1, 1, 1, 1, 1, 1, 1, 1, 1, 1, 1, 1, 1, 1, 1, 1, 1, 1, 1, 1, 1, 1, 1, 1, 1, 1, 1, 1, 1, 1, 1, 1, 1, 1, 1, 1, 1, 1, 1, 1, 1, 1, 1, 1, 1, 1, 1, 1, 1, 1, 1, 1, 1, 1, 1, 1, 1, 1, 1, 1, 1, 1, 1, 1, 1, 1, 1, 1, 1, 1, 1, 1, 1, 1, 1, 1, 1, 1, 1, 1, 1, 1, 1, 1, 1, 1, 1, 1, 1, 1, 1, 1, 1, 1, 1, 1, 1, 1, 1, 1, 1, 1, 1, 1, 1, 1, 1, 1, 1, 0, 0, 0, 0, 0, 0, 0, 0, 0, 0, 0, 0, 0, 0, 0, 0, 0, 0, 0, 2, 2, 2, 2, 2, 2, 2, 2, 2, 2, 2, 2, 2, 2, 2, 2, 2, 2, 2, 2, 2, 2, 2, 2, 2, 2, 2, 2, 2, 2, 2, 2, 2, 2, 2, 2, 2, 2, 2, 2, 2, 2, 2, 2, 2, 2, 2, 2]\n"
     ]
    }
   ],
   "source": [
    "print(y_realtest)"
   ]
  },
  {
   "cell_type": "code",
   "execution_count": 34,
   "metadata": {},
   "outputs": [
    {
     "name": "stdout",
     "output_type": "stream",
     "text": [
      "[1, 1, 1, 1, 1, 1, 1, 1, 1, 1, 1, 1, 1, 1, 1, 1, 1, 1, 1, 1, 1, 1, 1, 1, 1, 1, 1, 1, 1, 1, 1, 1, 1, 1, 1, 1, 1, 1, 1, 1, 1, 1, 1, 1, 1, 1, 1, 1, 1, 1, 1, 1, 1, 1, 1, 1, 1, 1, 1, 1, 1, 1, 1, 1, 1, 1, 1, 1, 1, 1, 1, 1, 1, 1, 1, 1, 1, 1, 1, 1, 1, 1, 1, 1, 1, 1, 1, 1, 1, 1, 1, 1, 1, 1, 1, 1, 1, 1, 1, 1, 1, 1, 1, 1, 1, 1, 1, 1, 1, 1, 1, 1, 1, 1, 1, 1, 1, 1, 1, 1, 1, 1, 1, 1, 1, 1, 1, 1, 1, 1, 1, 1, 1, 1, 1, 1, 1, 1, 1, 1, 1, 1, 1, 1, 1, 1, 1, 1, 1, 1, 1, 1, 1, 1, 1, 1, 1, 1, 1, 1, 1, 1, 1, 1, 1, 1, 1, 1, 1, 1, 1, 1, 1, 1, 1, 1, 1, 1, 1, 1]\n"
     ]
    }
   ],
   "source": [
    "print(y_pred)"
   ]
  },
  {
   "cell_type": "markdown",
   "metadata": {},
   "source": [
    "XGBoost"
   ]
  },
  {
   "cell_type": "code",
   "execution_count": 36,
   "metadata": {},
   "outputs": [
    {
     "name": "stdout",
     "output_type": "stream",
     "text": [
      "Accuracy: 0.6277777777777778\n"
     ]
    }
   ],
   "source": [
    "xgb_c = XGBClassifier(max_depth=10, n_estimators=100, n_jobs=-1, num_class=3) \n",
    "xgb_c.fit(X_train, y_train.ravel())\n",
    "y_realtest = []\n",
    "y_pred = []\n",
    "for i in range(0,180):\n",
    "    y_predpiece = knn.predict(X_test.iloc[(i*797):(i*797+797)])\n",
    "    counts = np.bincount(y_predpiece)\n",
    "    # get mode\n",
    "    y_predmode = np.argmax(counts)\n",
    "#     print(y_predmode)\n",
    "    y_pred.append(y_predmode)\n",
    "    y_realtest.append(y_test.iloc[i*797])\n",
    "print(\"Accuracy:\",metrics.accuracy_score(y_realtest, y_pred))\n"
   ]
  },
  {
   "cell_type": "code",
   "execution_count": 37,
   "metadata": {},
   "outputs": [
    {
     "name": "stdout",
     "output_type": "stream",
     "text": [
      "              precision    recall  f1-score   support\n",
      "\n",
      "    Mandarin       0.00      0.00      0.00        19\n",
      "     English       0.63      1.00      0.77       113\n",
      "     Spanish       0.00      0.00      0.00        48\n",
      "\n",
      "    accuracy                           0.63       180\n",
      "   macro avg       0.21      0.33      0.26       180\n",
      "weighted avg       0.39      0.63      0.48       180\n",
      "\n"
     ]
    },
    {
     "name": "stderr",
     "output_type": "stream",
     "text": [
      "/home/tang/anaconda3/lib/python3.7/site-packages/sklearn/metrics/classification.py:1437: UndefinedMetricWarning: Precision and F-score are ill-defined and being set to 0.0 in labels with no predicted samples.\n",
      "  'precision', 'predicted', average, warn_for)\n"
     ]
    },
    {
     "data": {
      "image/png": "[encoded data removed]",
      "text/plain": [
       "<Figure size 432x288 with 2 Axes>"
      ]
     },
     "metadata": {
      "needs_background": "light"
     },
     "output_type": "display_data"
    }
   ],
   "source": [
    "target_names = ['Mandarin', 'English', 'Spanish']\n",
    "print(classification_report(y_realtest, y_pred, target_names=target_names))\n",
    "\n",
    "cm = confusion_matrix(y_realtest, y_pred)\n",
    "cm_plot = sns.heatmap(cm, annot=True, square=True)"
   ]
  },
  {
   "cell_type": "markdown",
   "metadata": {},
   "source": [
    "However, we still find the accuracy remains the same"
   ]
  },
  {
   "cell_type": "markdown",
   "metadata": {},
   "source": [
    "Use 60(10% of all data) of all test datas"
   ]
  },
  {
   "cell_type": "markdown",
   "metadata": {},
   "source": [
    "KNN"
   ]
  },
  {
   "cell_type": "code",
   "execution_count": 38,
   "metadata": {},
   "outputs": [],
   "source": [
    "import numpy as np\n",
    "test_eng=np.arange(0,37)\n",
    "test_man=np.arange(112,119)\n",
    "test_span=np.arange(131,147)\n",
    "test_vec=np.r_[test_eng,test_man,test_span]"
   ]
  },
  {
   "cell_type": "code",
   "execution_count": 39,
   "metadata": {},
   "outputs": [
    {
     "name": "stdout",
     "output_type": "stream",
     "text": [
      "[  0   1   2   3   4   5   6   7   8   9  10  11  12  13  14  15  16  17\n",
      "  18  19  20  21  22  23  24  25  26  27  28  29  30  31  32  33  34  35\n",
      "  36 112 113 114 115 116 117 118 131 132 133 134 135 136 137 138 139 140\n",
      " 141 142 143 144 145 146]\n"
     ]
    }
   ],
   "source": [
    "print(test_vec)"
   ]
  },
  {
   "cell_type": "code",
   "execution_count": 41,
   "metadata": {},
   "outputs": [
    {
     "name": "stdout",
     "output_type": "stream",
     "text": [
      "Accuracy: 0.6333333333333333\n"
     ]
    }
   ],
   "source": [
    "knn = KNeighborsClassifier(n_neighbors = 5)\n",
    "knn.fit(X_train, y_train)\n",
    "y_realtest = []\n",
    "y_pred = []\n",
    "for i in test_vec:\n",
    "    y_predpiece = knn.predict(X_test.iloc[(i*797):(i*797+797)])\n",
    "    counts = np.bincount(y_predpiece)\n",
    "    # get mode\n",
    "    y_predmode = np.argmax(counts)\n",
    "#     print(y_predmode)\n",
    "    y_pred.append(y_predmode)\n",
    "    y_realtest.append(y_test.iloc[i*797])\n",
    "print(\"Accuracy:\",metrics.accuracy_score(y_realtest, y_pred))"
   ]
  },
  {
   "cell_type": "code",
   "execution_count": 43,
   "metadata": {},
   "outputs": [
    {
     "name": "stdout",
     "output_type": "stream",
     "text": [
      "              precision    recall  f1-score   support\n",
      "\n",
      "    Mandarin       0.00      0.00      0.00         7\n",
      "     English       0.63      1.00      0.78        38\n",
      "     Spanish       0.00      0.00      0.00        15\n",
      "\n",
      "    accuracy                           0.63        60\n",
      "   macro avg       0.21      0.33      0.26        60\n",
      "weighted avg       0.40      0.63      0.49        60\n",
      "\n"
     ]
    },
    {
     "name": "stderr",
     "output_type": "stream",
     "text": [
      "/home/tang/anaconda3/lib/python3.7/site-packages/sklearn/metrics/classification.py:1437: UndefinedMetricWarning: Precision and F-score are ill-defined and being set to 0.0 in labels with no predicted samples.\n",
      "  'precision', 'predicted', average, warn_for)\n"
     ]
    },
    {
     "data": {
      "image/png": "[encoded data removed]",
      "text/plain": [
       "<Figure size 432x288 with 2 Axes>"
      ]
     },
     "metadata": {
      "needs_background": "light"
     },
     "output_type": "display_data"
    }
   ],
   "source": [
    "target_names = ['Mandarin', 'English', 'Spanish']\n",
    "print(classification_report(y_realtest, y_pred, target_names=target_names))\n",
    "\n",
    "cm = confusion_matrix(y_realtest, y_pred)\n",
    "cm_plot = sns.heatmap(cm, annot=True, square=True)"
   ]
  },
  {
   "cell_type": "markdown",
   "metadata": {},
   "source": [
    "XGBoost"
   ]
  },
  {
   "cell_type": "code",
   "execution_count": 45,
   "metadata": {},
   "outputs": [
    {
     "name": "stdout",
     "output_type": "stream",
     "text": [
      "Accuracy: 0.6333333333333333\n"
     ]
    }
   ],
   "source": [
    "xgb_c = XGBClassifier(max_depth=10, n_estimators=100, n_jobs=-1, num_class=3) \n",
    "xgb_c.fit(X_train, y_train.ravel())\n",
    "y_realtest = []\n",
    "y_pred = []\n",
    "for i in test_vec:\n",
    "    y_predpiece = knn.predict(X_test.iloc[(i*797):(i*797+797)])\n",
    "    counts = np.bincount(y_predpiece)\n",
    "    # get mode\n",
    "    y_predmode = np.argmax(counts)\n",
    "#     print(y_predmode)\n",
    "    y_pred.append(y_predmode)\n",
    "    y_realtest.append(y_test.iloc[i*797])\n",
    "print(\"Accuracy:\",metrics.accuracy_score(y_realtest, y_pred))\n"
   ]
  },
  {
   "cell_type": "code",
   "execution_count": 46,
   "metadata": {},
   "outputs": [
    {
     "name": "stderr",
     "output_type": "stream",
     "text": [
      "/home/tang/anaconda3/lib/python3.7/site-packages/sklearn/metrics/classification.py:1437: UndefinedMetricWarning: Precision and F-score are ill-defined and being set to 0.0 in labels with no predicted samples.\n",
      "  'precision', 'predicted', average, warn_for)\n"
     ]
    },
    {
     "name": "stdout",
     "output_type": "stream",
     "text": [
      "              precision    recall  f1-score   support\n",
      "\n",
      "    Mandarin       0.00      0.00      0.00         7\n",
      "     English       0.63      1.00      0.78        38\n",
      "     Spanish       0.00      0.00      0.00        15\n",
      "\n",
      "    accuracy                           0.63        60\n",
      "   macro avg       0.21      0.33      0.26        60\n",
      "weighted avg       0.40      0.63      0.49        60\n",
      "\n"
     ]
    },
    {
     "data": {
      "image/png": "[encoded data removed]",
      "text/plain": [
       "<Figure size 432x288 with 2 Axes>"
      ]
     },
     "metadata": {
      "needs_background": "light"
     },
     "output_type": "display_data"
    }
   ],
   "source": [
    "target_names = ['Mandarin', 'English', 'Spanish']\n",
    "print(classification_report(y_realtest, y_pred, target_names=target_names))\n",
    "\n",
    "cm = confusion_matrix(y_realtest, y_pred)\n",
    "cm_plot = sns.heatmap(cm, annot=True, square=True)"
   ]
  },
  {
   "cell_type": "markdown",
   "metadata": {},
   "source": [
    "As above, we find that all the test y are classified into english label so we wonder if the English audio file are too many. So we average the number of audio file to take 19 test audio files from each language region and 46 training audio files."
   ]
  },
  {
   "cell_type": "code",
   "execution_count": 47,
   "metadata": {},
   "outputs": [],
   "source": [
    "eng_x_test = normalized_x.iloc[0:15162]\n",
    "eng_x_train = normalized_x.iloc[15162:51870]\n",
    "man_x_test = normalized_x.iloc[297654:312816]\n",
    "man_x_train = normalized_x.iloc[312816:349524]\n",
    "span_x_test = normalized_x.iloc[349524:364686]\n",
    "span_x_train = normalized_x.iloc[364686:401394]"
   ]
  },
  {
   "cell_type": "code",
   "execution_count": 48,
   "metadata": {},
   "outputs": [],
   "source": [
    "X_train = normalized_x.iloc[np.r_[15162:51870, 312816:349524, 364686:401394 ]]\n",
    "y_train = y.iloc[np.r_[15162:51870, 312816:349524, 364686:401394 ]]\n",
    "X_test = normalized_x.iloc[np.r_[0:15162, 297654:312816, 349524:364686 ]]\n",
    "y_test = y.iloc[np.r_[0:15162, 297654:312816, 349524:364686 ]]"
   ]
  },
  {
   "cell_type": "markdown",
   "metadata": {},
   "source": [
    "KNN"
   ]
  },
  {
   "cell_type": "code",
   "execution_count": 49,
   "metadata": {},
   "outputs": [
    {
     "name": "stdout",
     "output_type": "stream",
     "text": [
      "Accuracy: 0.3333333333333333\n"
     ]
    }
   ],
   "source": [
    "knn = KNeighborsClassifier(n_neighbors = 5)\n",
    "knn.fit(X_train, y_train)\n",
    "y_realtest = []\n",
    "y_pred = []\n",
    "for i in range(0,57):\n",
    "    y_predpiece = knn.predict(X_test.iloc[(i*797):(i*797+797)])\n",
    "    counts = np.bincount(y_predpiece)\n",
    "    # get mode\n",
    "    y_predmode = np.argmax(counts)\n",
    "#     print(y_predmode)\n",
    "    y_pred.append(y_predmode)\n",
    "    y_realtest.append(y_test.iloc[i*797])\n",
    "print(\"Accuracy:\",metrics.accuracy_score(y_realtest, y_pred))\n"
   ]
  },
  {
   "cell_type": "code",
   "execution_count": 50,
   "metadata": {},
   "outputs": [
    {
     "name": "stdout",
     "output_type": "stream",
     "text": [
      "              precision    recall  f1-score   support\n",
      "\n",
      "    Mandarin       0.34      0.58      0.43        19\n",
      "     English       0.27      0.20      0.23        20\n",
      "     Spanish       0.40      0.22      0.29        18\n",
      "\n",
      "    accuracy                           0.33        57\n",
      "   macro avg       0.34      0.33      0.32        57\n",
      "weighted avg       0.33      0.33      0.31        57\n",
      "\n"
     ]
    },
    {
     "data": {
      "image/png": "[encoded data removed]",
      "text/plain": [
       "<Figure size 432x288 with 2 Axes>"
      ]
     },
     "metadata": {
      "needs_background": "light"
     },
     "output_type": "display_data"
    }
   ],
   "source": [
    "target_names = ['Mandarin', 'English', 'Spanish']\n",
    "print(classification_report(y_realtest, y_pred, target_names=target_names))\n",
    "\n",
    "cm = confusion_matrix(y_realtest, y_pred)\n",
    "cm_plot = sns.heatmap(cm, annot=True, square=True)"
   ]
  },
  {
   "cell_type": "code",
   "execution_count": 51,
   "metadata": {},
   "outputs": [
    {
     "name": "stdout",
     "output_type": "stream",
     "text": [
      "[1, 1, 1, 1, 1, 1, 1, 1, 1, 1, 1, 1, 1, 1, 1, 1, 1, 1, 1, 1, 0, 0, 0, 0, 0, 0, 0, 0, 0, 0, 0, 0, 0, 0, 0, 0, 0, 0, 0, 2, 2, 2, 2, 2, 2, 2, 2, 2, 2, 2, 2, 2, 2, 2, 2, 2, 2]\n"
     ]
    }
   ],
   "source": [
    "print(y_realtest)"
   ]
  },
  {
   "cell_type": "code",
   "execution_count": 52,
   "metadata": {},
   "outputs": [
    {
     "name": "stdout",
     "output_type": "stream",
     "text": [
      "[0, 0, 0, 0, 0, 2, 0, 1, 0, 0, 1, 0, 2, 0, 0, 1, 1, 0, 0, 0, 0, 2, 1, 0, 0, 0, 1, 0, 2, 1, 1, 0, 0, 2, 0, 0, 0, 0, 2, 0, 2, 2, 0, 2, 1, 1, 0, 1, 2, 1, 0, 1, 0, 1, 0, 1, 0]\n"
     ]
    }
   ],
   "source": [
    "print(y_pred)"
   ]
  },
  {
   "cell_type": "markdown",
   "metadata": {},
   "source": [
    "XGBoost"
   ]
  },
  {
   "cell_type": "code",
   "execution_count": 53,
   "metadata": {},
   "outputs": [
    {
     "name": "stdout",
     "output_type": "stream",
     "text": [
      "Accuracy: 0.3333333333333333\n"
     ]
    }
   ],
   "source": [
    "xgb_c = XGBClassifier(max_depth=10, n_estimators=100, n_jobs=-1, num_class=3) \n",
    "xgb_c.fit(X_train, y_train.ravel())\n",
    "y_realtest = []\n",
    "y_pred = []\n",
    "for i in range(0,57):\n",
    "    y_predpiece = knn.predict(X_test.iloc[(i*797):(i*797+797)])\n",
    "    counts = np.bincount(y_predpiece)\n",
    "    # get mode\n",
    "    y_predmode = np.argmax(counts)\n",
    "#     print(y_predmode)\n",
    "    y_pred.append(y_predmode)\n",
    "    y_realtest.append(y_test.iloc[i*797])\n",
    "print(\"Accuracy:\",metrics.accuracy_score(y_realtest, y_pred))\n"
   ]
  },
  {
   "cell_type": "code",
   "execution_count": 54,
   "metadata": {},
   "outputs": [
    {
     "name": "stdout",
     "output_type": "stream",
     "text": [
      "              precision    recall  f1-score   support\n",
      "\n",
      "    Mandarin       0.34      0.58      0.43        19\n",
      "     English       0.27      0.20      0.23        20\n",
      "     Spanish       0.40      0.22      0.29        18\n",
      "\n",
      "    accuracy                           0.33        57\n",
      "   macro avg       0.34      0.33      0.32        57\n",
      "weighted avg       0.33      0.33      0.31        57\n",
      "\n"
     ]
    },
    {
     "data": {
      "image/png": "[encoded data removed]",
      "text/plain": [
       "<Figure size 432x288 with 2 Axes>"
      ]
     },
     "metadata": {
      "needs_background": "light"
     },
     "output_type": "display_data"
    }
   ],
   "source": [
    "target_names = ['Mandarin', 'English', 'Spanish']\n",
    "print(classification_report(y_realtest, y_pred, target_names=target_names))\n",
    "\n",
    "cm = confusion_matrix(y_realtest, y_pred)\n",
    "cm_plot = sns.heatmap(cm, annot=True, square=True)"
   ]
  },
  {
   "cell_type": "markdown",
   "metadata": {},
   "source": [
    "We found the accuracy are even lower than before"
   ]
  }
 ],
 "metadata": {
  "kernelspec": {
   "display_name": "Python 3",
   "language": "python",
   "name": "python3"
  },
  "language_info": {
   "codemirror_mode": {
    "name": "ipython",
    "version": 3
   },
   "file_extension": ".py",
   "mimetype": "text/x-python",
   "name": "python",
   "nbconvert_exporter": "python",
   "pygments_lexer": "ipython3",
   "version": "3.7.3"
  }
 },
 "nbformat": 4,
 "nbformat_minor": 2
}
