{
 "cells": [
  {
   "cell_type": "markdown",
   "metadata": {},
   "source": [
    "# Neural Network Models for Speaker Classification"
   ]
  },
  {
   "cell_type": "markdown",
   "metadata": {},
   "source": [
    "Last Update: 12/01/2019 by Chen Liang"
   ]
  },
  {
   "cell_type": "markdown",
   "metadata": {},
   "source": [
    "This notebook includes the following deep learning models: 1) CNN on MFCC 2) CNN on Chroma"
   ]
  },
  {
   "cell_type": "code",
   "execution_count": 14,
   "metadata": {},
   "outputs": [],
   "source": [
    "import librosa\n",
    "import numpy as np\n",
    "import shutil\n",
    "import os\n",
    "import re\n",
    "from joblib import Parallel, delayed\n",
    "import multiprocessing \n",
    "import matplotlib.pyplot as plt\n",
    "import scipy\n",
    "import tensorflow as tf\n",
    "from tensorflow.keras import layers, models\n",
    "from sklearn.model_selection import train_test_split\n",
    "from scipy import stats\n",
    "import sklearn.metrics as metrices\n",
    "import seaborn as sns\n",
    "import librosa.display"
   ]
  },
  {
   "cell_type": "code",
   "execution_count": 3,
   "metadata": {},
   "outputs": [],
   "source": [
    "raw_dir='recordings/selected_recordings/'\n",
    "silence_removed_dir='recordings/silence_removed/'\n",
    "unified_dir='recordings/unified/'"
   ]
  },
  {
   "cell_type": "markdown",
   "metadata": {},
   "source": [
    "## Preparation: Data Understanding"
   ]
  },
  {
   "cell_type": "markdown",
   "metadata": {},
   "source": [
    "For this dataset, each speaker is required to read the following paragraph:\n",
    ">*Please call Stella.  Ask her to bring these things with her from the store:  Six spoons of fresh snow peas, five thick slabs of blue cheese, and maybe a snack for her brother Bob.  We also need a small plastic snake and a big toy frog for the kids.  She can scoop these things into three red bags, and we will go meet her Wednesday at the train station.*\n",
    "\n",
    "To understand the potential pronounciation patterns, this paragraph is firstly converted to a list of phonemes:"
   ]
  },
  {
   "cell_type": "code",
   "execution_count": 3,
   "metadata": {},
   "outputs": [],
   "source": [
    "with open('tools/CMUDict/cmudict.dict','r') as f:\n",
    "    word_phoneme=f.readlines()\n",
    "reading_paragraph='Please call Stella. Ask her to bring these things with her from the store: Six spoons of fresh snow peas, five thick slabs of blue cheese, and maybe a snack for her brother Bob. We also need a small plastic snake and a big toy frog for the kids. She can scoop these things into three red bags, and we will go meet her Wednesday at the train station'\n",
    "reading_words=reading_paragraph.split()"
   ]
  },
  {
   "cell_type": "code",
   "execution_count": 4,
   "metadata": {},
   "outputs": [],
   "source": [
    "word_dict={}\n",
    "for i in word_phoneme:\n",
    "    word=i[:i.index(' ')]\n",
    "    phoneme=i[i.index(' ')+1:].strip('\\n')\n",
    "    word_dict[word]=phoneme"
   ]
  },
  {
   "cell_type": "code",
   "execution_count": 5,
   "metadata": {},
   "outputs": [],
   "source": [
    "words_not_found=[]\n",
    "phonemes={}\n",
    "for i in reading_words:\n",
    "    i=re.sub(r'[^\\w]','', i)\n",
    "    if i.lower() in word_dict:\n",
    "        phonemes[i]=word_dict[i.lower()]\n",
    "    else:\n",
    "        words_not_found.append(i)"
   ]
  },
  {
   "cell_type": "code",
   "execution_count": 6,
   "metadata": {},
   "outputs": [
    {
     "data": {
      "text/plain": [
       "[]"
      ]
     },
     "execution_count": 6,
     "metadata": {},
     "output_type": "execute_result"
    }
   ],
   "source": [
    "words_not_found"
   ]
  },
  {
   "cell_type": "code",
   "execution_count": 7,
   "metadata": {},
   "outputs": [],
   "source": [
    "reading_phonemes=[]\n",
    "for item in phonemes:\n",
    "    reading_phonemes.append(phonemes[item])\n",
    "reading_phonemes_string=' '.join(reading_phonemes)"
   ]
  },
  {
   "cell_type": "code",
   "execution_count": 8,
   "metadata": {
    "scrolled": true
   },
   "outputs": [
    {
     "name": "stdout",
     "output_type": "stream",
     "text": [
      "P L IY1 Z K AO1 L S T EH1 L AH0 AE1 S K HH ER1 T UW1 B R IH1 NG DH IY1 Z TH IH1 NG Z W IH1 DH F R AH1 M DH AH0 S T AO1 R S IH1 K S S P UW1 N Z AH1 V F R EH1 SH S N OW1 P IY1 Z F AY1 V TH IH1 K S L AE1 B Z B L UW1 CH IY1 Z AH0 N D M EY1 B IY0 AH0 S N AE1 K F AO1 R B R AH1 DH ER0 B AA1 B W IY1 AO1 L S OW0 N IY1 D S M AO1 L P L AE1 S T IH0 K S N EY1 K B IH1 G T OY1 F R AA1 G K IH1 D Z SH IY1 K AE1 N S K UW1 P IH1 N T UW0 TH R IY1 R EH1 D B AE1 G Z W IY1 W IH1 L G OW1 M IY1 T W EH1 N Z D IY0 AE1 T T R EY1 N S T EY1 SH AH0 N\n",
      "\n",
      "Number of Phonemes:  192\n"
     ]
    }
   ],
   "source": [
    "print(reading_phonemes_string)\n",
    "print('\\nNumber of Phonemes: ',len(reading_phonemes_string.split(' ')))"
   ]
  },
  {
   "cell_type": "code",
   "execution_count": 9,
   "metadata": {},
   "outputs": [],
   "source": [
    "phoneme_lengths=[]\n",
    "for i in phonemes:\n",
    "    phoneme_lengths.append(len(phonemes[i].split(' ')))"
   ]
  },
  {
   "cell_type": "code",
   "execution_count": 10,
   "metadata": {},
   "outputs": [
    {
     "name": "stdout",
     "output_type": "stream",
     "text": [
      "Mean of Phonemes per Word:  3.4285714285714284\n",
      "Mode of Phonemes per Word:  3\n"
     ]
    }
   ],
   "source": [
    "pl=np.array(phoneme_lengths)\n",
    "print('Mean of Phonemes per Word: ', np.mean(pl))\n",
    "print('Mode of Phonemes per Word: ', stats.mode(pl)[0][0])"
   ]
  },
  {
   "cell_type": "markdown",
   "metadata": {},
   "source": [
    "These information will be taken into consideration while designing the structure of CNN models."
   ]
  },
  {
   "cell_type": "markdown",
   "metadata": {},
   "source": [
    "## Convolutional Neural Network on MFCC"
   ]
  },
  {
   "cell_type": "markdown",
   "metadata": {},
   "source": [
    "Key idea: Use filters to extract key features from a series of adjacent MFCC slices"
   ]
  },
  {
   "cell_type": "markdown",
   "metadata": {},
   "source": [
    "### Extract MFCC"
   ]
  },
  {
   "cell_type": "code",
   "execution_count": 11,
   "metadata": {},
   "outputs": [],
   "source": [
    "mfcc_window_size=0.025\n",
    "mfcc_stride_size=0.01\n",
    "mfcc_num_of_features=14"
   ]
  },
  {
   "cell_type": "code",
   "execution_count": 12,
   "metadata": {},
   "outputs": [],
   "source": [
    "def extract_mfcc(fname):\n",
    "    y,sr=librosa.load(unified_dir+fname)\n",
    "    result=librosa.feature.mfcc(y=y,n_mfcc=mfcc_num_of_features,hop_length=int(mfcc_window_size*sr), n_fft=int(mfcc_stride_size*sr))\n",
    "    result=librosa.util.normalize(result)\n",
    "    #Add label as well\n",
    "    if 'mandarin' in fname:\n",
    "        label=0\n",
    "    elif 'english' in fname:\n",
    "        label=1\n",
    "    elif 'spanish' in fname:\n",
    "        label=2\n",
    "    else:\n",
    "        label=-1\n",
    "    return [result,label]"
   ]
  },
  {
   "cell_type": "code",
   "execution_count": 13,
   "metadata": {},
   "outputs": [],
   "source": [
    "result=Parallel(n_jobs=12)(delayed(extract_mfcc)(fname) for fname in os.listdir(unified_dir))"
   ]
  },
  {
   "cell_type": "code",
   "execution_count": 14,
   "metadata": {},
   "outputs": [],
   "source": [
    "X=[]\n",
    "y=[]\n",
    "for i in result:\n",
    "    X.append(i[0])\n",
    "    y.append(i[1])"
   ]
  },
  {
   "cell_type": "code",
   "execution_count": 16,
   "metadata": {},
   "outputs": [],
   "source": [
    "X_train, X_test, y_train, y_test=train_test_split(X, y, test_size=0.1)\n",
    "X_train=np.expand_dims(X_train,axis=3)\n",
    "X_test=np.expand_dims(X_test,axis=3)"
   ]
  },
  {
   "cell_type": "code",
   "execution_count": 17,
   "metadata": {},
   "outputs": [],
   "source": [
    "def change_input_format(X):\n",
    "    Xc=np.stack(X,axis=0)\n",
    "#     Xc=np.swapaxes(Xc,0,1)\n",
    "#     Xc=np.swapaxes(Xc,1,2)\n",
    "    return Xc"
   ]
  },
  {
   "cell_type": "code",
   "execution_count": 18,
   "metadata": {},
   "outputs": [],
   "source": [
    "X_train=change_input_format(X_train)\n",
    "X_test=change_input_format(X_test)\n",
    "y_train=np.array(y_train)\n",
    "y_test=np.array(y_test)"
   ]
  },
  {
   "cell_type": "code",
   "execution_count": 19,
   "metadata": {},
   "outputs": [
    {
     "data": {
      "text/plain": [
       "(60, 14, 800, 1)"
      ]
     },
     "execution_count": 19,
     "metadata": {},
     "output_type": "execute_result"
    }
   ],
   "source": [
    "X_test.shape"
   ]
  },
  {
   "cell_type": "code",
   "execution_count": 20,
   "metadata": {
    "scrolled": true
   },
   "outputs": [
    {
     "data": {
      "text/plain": [
       "(540,)"
      ]
     },
     "execution_count": 20,
     "metadata": {},
     "output_type": "execute_result"
    }
   ],
   "source": [
    "y_train.shape"
   ]
  },
  {
   "cell_type": "markdown",
   "metadata": {},
   "source": [
    "### Set up CNN Model"
   ]
  },
  {
   "cell_type": "markdown",
   "metadata": {},
   "source": [
    "Directly fit on extracted MFCC features. Input shape is (14,800,1) per sample"
   ]
  },
  {
   "cell_type": "code",
   "execution_count": 15,
   "metadata": {
    "scrolled": true
   },
   "outputs": [
    {
     "name": "stdout",
     "output_type": "stream",
     "text": [
      "(14, 800, 1)\n"
     ]
    }
   ],
   "source": [
    "#input_shape=X_all[:,:,0].shape\n",
    "input_shape=(14,800,1)\n",
    "print(input_shape)"
   ]
  },
  {
   "cell_type": "code",
   "execution_count": 25,
   "metadata": {},
   "outputs": [],
   "source": [
    "def create_model():\n",
    "    model1=models.Sequential()\n",
    "    model1.add(layers.Conv2D(32,kernel_size=(5,9),strides=(1,3),activation='relu',input_shape=input_shape))\n",
    "    model1.add(layers.MaxPooling2D((2, 4)))\n",
    "    model1.add(layers.Conv2D(64, (3, 3), activation='relu'))\n",
    "    model1.add(layers.MaxPooling2D((2, 2)))\n",
    "    model1.add(layers.Dropout(0.50))\n",
    "    model1.add(layers.Flatten())\n",
    "    model1.add(layers.Dense(64, activation='relu'))\n",
    "    model1.add(layers.Dense(3, activation='softmax'))\n",
    "    return model1"
   ]
  },
  {
   "cell_type": "code",
   "execution_count": 26,
   "metadata": {},
   "outputs": [
    {
     "name": "stdout",
     "output_type": "stream",
     "text": [
      "Train on 540 samples, validate on 60 samples\n",
      "Epoch 1/75\n",
      "540/540 [==============================] - 1s 1ms/sample - loss: 0.9375 - accuracy: 0.6148 - val_loss: 0.8681 - val_accuracy: 0.6333\n",
      "Epoch 2/75\n",
      "540/540 [==============================] - 0s 224us/sample - loss: 0.8998 - accuracy: 0.6204 - val_loss: 0.8786 - val_accuracy: 0.6333\n",
      "Epoch 3/75\n",
      "540/540 [==============================] - 0s 229us/sample - loss: 0.8938 - accuracy: 0.6204 - val_loss: 0.8459 - val_accuracy: 0.6333\n",
      "Epoch 4/75\n",
      "540/540 [==============================] - 0s 220us/sample - loss: 0.8572 - accuracy: 0.6204 - val_loss: 0.8224 - val_accuracy: 0.6333\n",
      "Epoch 5/75\n",
      "540/540 [==============================] - 0s 212us/sample - loss: 0.8510 - accuracy: 0.6222 - val_loss: 0.7761 - val_accuracy: 0.6333\n",
      "Epoch 6/75\n",
      "540/540 [==============================] - 0s 216us/sample - loss: 0.8261 - accuracy: 0.6259 - val_loss: 0.7706 - val_accuracy: 0.6333\n",
      "Epoch 7/75\n",
      "540/540 [==============================] - 0s 218us/sample - loss: 0.7850 - accuracy: 0.6611 - val_loss: 0.7063 - val_accuracy: 0.6500\n",
      "Epoch 8/75\n",
      "540/540 [==============================] - 0s 214us/sample - loss: 0.7529 - accuracy: 0.6852 - val_loss: 0.6467 - val_accuracy: 0.7333\n",
      "Epoch 9/75\n",
      "540/540 [==============================] - 0s 222us/sample - loss: 0.7082 - accuracy: 0.7241 - val_loss: 0.6218 - val_accuracy: 0.7167\n",
      "Epoch 10/75\n",
      "540/540 [==============================] - 0s 214us/sample - loss: 0.6510 - accuracy: 0.7389 - val_loss: 0.5584 - val_accuracy: 0.7833\n",
      "Epoch 11/75\n",
      "540/540 [==============================] - 0s 222us/sample - loss: 0.5838 - accuracy: 0.7685 - val_loss: 0.5328 - val_accuracy: 0.8000\n",
      "Epoch 12/75\n",
      "540/540 [==============================] - 0s 211us/sample - loss: 0.5550 - accuracy: 0.7907 - val_loss: 0.5391 - val_accuracy: 0.8000\n",
      "Epoch 13/75\n",
      "540/540 [==============================] - 0s 209us/sample - loss: 0.5354 - accuracy: 0.8130 - val_loss: 0.5606 - val_accuracy: 0.7500\n",
      "Epoch 14/75\n",
      "540/540 [==============================] - 0s 214us/sample - loss: 0.5112 - accuracy: 0.8056 - val_loss: 0.5529 - val_accuracy: 0.7833\n",
      "Epoch 15/75\n",
      "540/540 [==============================] - 0s 212us/sample - loss: 0.4615 - accuracy: 0.8352 - val_loss: 0.5579 - val_accuracy: 0.7833\n",
      "Epoch 16/75\n",
      "540/540 [==============================] - 0s 222us/sample - loss: 0.4379 - accuracy: 0.8389 - val_loss: 0.5127 - val_accuracy: 0.8000\n",
      "Epoch 17/75\n",
      "540/540 [==============================] - 0s 214us/sample - loss: 0.4207 - accuracy: 0.8426 - val_loss: 0.5038 - val_accuracy: 0.8000\n",
      "Epoch 18/75\n",
      "540/540 [==============================] - 0s 212us/sample - loss: 0.3902 - accuracy: 0.8667 - val_loss: 0.4704 - val_accuracy: 0.8667\n",
      "Epoch 19/75\n",
      "540/540 [==============================] - 0s 209us/sample - loss: 0.3803 - accuracy: 0.8556 - val_loss: 0.4504 - val_accuracy: 0.8167\n",
      "Epoch 20/75\n",
      "540/540 [==============================] - 0s 218us/sample - loss: 0.3738 - accuracy: 0.8611 - val_loss: 0.4866 - val_accuracy: 0.8000\n",
      "Epoch 21/75\n",
      "540/540 [==============================] - 0s 209us/sample - loss: 0.3554 - accuracy: 0.8870 - val_loss: 0.4772 - val_accuracy: 0.7833\n",
      "Epoch 22/75\n",
      "540/540 [==============================] - 0s 205us/sample - loss: 0.3180 - accuracy: 0.8870 - val_loss: 0.3976 - val_accuracy: 0.8833\n",
      "Epoch 23/75\n",
      "540/540 [==============================] - 0s 216us/sample - loss: 0.3384 - accuracy: 0.8704 - val_loss: 0.4177 - val_accuracy: 0.8167\n",
      "Epoch 24/75\n",
      "540/540 [==============================] - 0s 211us/sample - loss: 0.3066 - accuracy: 0.9000 - val_loss: 0.4472 - val_accuracy: 0.8167\n",
      "Epoch 25/75\n",
      "540/540 [==============================] - 0s 214us/sample - loss: 0.2885 - accuracy: 0.8981 - val_loss: 0.4792 - val_accuracy: 0.8000\n",
      "Epoch 26/75\n",
      "540/540 [==============================] - 0s 201us/sample - loss: 0.2900 - accuracy: 0.8944 - val_loss: 0.4938 - val_accuracy: 0.8000\n",
      "Epoch 27/75\n",
      "540/540 [==============================] - 0s 207us/sample - loss: 0.2600 - accuracy: 0.9130 - val_loss: 0.6070 - val_accuracy: 0.8000\n",
      "Epoch 28/75\n",
      "540/540 [==============================] - 0s 207us/sample - loss: 0.2391 - accuracy: 0.9241 - val_loss: 0.4029 - val_accuracy: 0.8333\n",
      "Epoch 29/75\n",
      "540/540 [==============================] - 0s 222us/sample - loss: 0.2592 - accuracy: 0.9000 - val_loss: 0.3586 - val_accuracy: 0.9000\n",
      "Epoch 30/75\n",
      "540/540 [==============================] - 0s 207us/sample - loss: 0.2241 - accuracy: 0.9333 - val_loss: 0.3482 - val_accuracy: 0.9000\n",
      "Epoch 31/75\n",
      "540/540 [==============================] - 0s 212us/sample - loss: 0.2246 - accuracy: 0.9278 - val_loss: 0.4468 - val_accuracy: 0.8167\n",
      "Epoch 32/75\n",
      "540/540 [==============================] - 0s 209us/sample - loss: 0.2486 - accuracy: 0.9148 - val_loss: 0.4157 - val_accuracy: 0.8167\n",
      "Epoch 33/75\n",
      "540/540 [==============================] - 0s 207us/sample - loss: 0.2088 - accuracy: 0.9333 - val_loss: 0.4348 - val_accuracy: 0.8333\n",
      "Epoch 34/75\n",
      "540/540 [==============================] - 0s 210us/sample - loss: 0.1701 - accuracy: 0.9463 - val_loss: 0.4753 - val_accuracy: 0.8500\n",
      "Epoch 35/75\n",
      "540/540 [==============================] - 0s 212us/sample - loss: 0.2117 - accuracy: 0.9130 - val_loss: 0.3874 - val_accuracy: 0.8667\n",
      "Epoch 36/75\n",
      "540/540 [==============================] - 0s 205us/sample - loss: 0.1714 - accuracy: 0.9500 - val_loss: 0.3733 - val_accuracy: 0.8667\n",
      "Epoch 37/75\n",
      "540/540 [==============================] - 0s 203us/sample - loss: 0.1564 - accuracy: 0.9519 - val_loss: 0.3715 - val_accuracy: 0.8667\n",
      "Epoch 38/75\n",
      "540/540 [==============================] - 0s 212us/sample - loss: 0.1405 - accuracy: 0.9611 - val_loss: 0.3575 - val_accuracy: 0.8833\n",
      "Epoch 39/75\n",
      "540/540 [==============================] - 0s 210us/sample - loss: 0.1385 - accuracy: 0.9593 - val_loss: 0.3367 - val_accuracy: 0.8833\n",
      "Epoch 40/75\n",
      "540/540 [==============================] - 0s 211us/sample - loss: 0.1443 - accuracy: 0.9593 - val_loss: 0.3845 - val_accuracy: 0.8500\n",
      "Epoch 41/75\n",
      "540/540 [==============================] - 0s 214us/sample - loss: 0.1383 - accuracy: 0.9519 - val_loss: 0.5020 - val_accuracy: 0.8333\n",
      "Epoch 42/75\n",
      "540/540 [==============================] - 0s 207us/sample - loss: 0.1368 - accuracy: 0.9519 - val_loss: 0.4482 - val_accuracy: 0.8167\n",
      "Epoch 43/75\n",
      "540/540 [==============================] - 0s 207us/sample - loss: 0.1016 - accuracy: 0.9611 - val_loss: 0.3473 - val_accuracy: 0.8833\n",
      "Epoch 44/75\n",
      "540/540 [==============================] - 0s 210us/sample - loss: 0.1156 - accuracy: 0.9593 - val_loss: 0.3656 - val_accuracy: 0.8500\n",
      "Epoch 45/75\n",
      "540/540 [==============================] - 0s 205us/sample - loss: 0.0932 - accuracy: 0.9685 - val_loss: 0.3301 - val_accuracy: 0.8667\n",
      "Epoch 46/75\n",
      "540/540 [==============================] - 0s 209us/sample - loss: 0.1049 - accuracy: 0.9648 - val_loss: 0.2854 - val_accuracy: 0.8833\n",
      "Epoch 47/75\n",
      "540/540 [==============================] - 0s 218us/sample - loss: 0.1300 - accuracy: 0.9611 - val_loss: 0.3245 - val_accuracy: 0.8833\n",
      "Epoch 48/75\n",
      "540/540 [==============================] - 0s 205us/sample - loss: 0.0987 - accuracy: 0.9685 - val_loss: 0.3237 - val_accuracy: 0.9000\n",
      "Epoch 49/75\n",
      "540/540 [==============================] - 0s 209us/sample - loss: 0.0781 - accuracy: 0.9796 - val_loss: 0.4209 - val_accuracy: 0.8833\n",
      "Epoch 50/75\n",
      "540/540 [==============================] - 0s 207us/sample - loss: 0.0861 - accuracy: 0.9759 - val_loss: 0.4047 - val_accuracy: 0.8500\n",
      "Epoch 51/75\n",
      "540/540 [==============================] - 0s 207us/sample - loss: 0.0822 - accuracy: 0.9685 - val_loss: 0.3472 - val_accuracy: 0.8667\n",
      "Epoch 52/75\n",
      "540/540 [==============================] - 0s 203us/sample - loss: 0.0885 - accuracy: 0.9704 - val_loss: 0.3218 - val_accuracy: 0.8833\n",
      "Epoch 53/75\n",
      "540/540 [==============================] - 0s 205us/sample - loss: 0.0641 - accuracy: 0.9778 - val_loss: 0.3986 - val_accuracy: 0.8833\n",
      "Epoch 54/75\n",
      "540/540 [==============================] - 0s 209us/sample - loss: 0.0835 - accuracy: 0.9722 - val_loss: 0.4161 - val_accuracy: 0.8667\n",
      "Epoch 55/75\n",
      "540/540 [==============================] - 0s 209us/sample - loss: 0.0670 - accuracy: 0.9833 - val_loss: 0.3444 - val_accuracy: 0.8500\n",
      "Epoch 56/75\n"
     ]
    },
    {
     "name": "stdout",
     "output_type": "stream",
     "text": [
      "540/540 [==============================] - 0s 216us/sample - loss: 0.0538 - accuracy: 0.9870 - val_loss: 0.4487 - val_accuracy: 0.8500\n",
      "Epoch 57/75\n",
      "540/540 [==============================] - 0s 211us/sample - loss: 0.0419 - accuracy: 0.9889 - val_loss: 0.4618 - val_accuracy: 0.8500\n",
      "Epoch 58/75\n",
      "540/540 [==============================] - 0s 209us/sample - loss: 0.0694 - accuracy: 0.9667 - val_loss: 0.4673 - val_accuracy: 0.8500\n",
      "Epoch 59/75\n",
      "540/540 [==============================] - 0s 211us/sample - loss: 0.0636 - accuracy: 0.9870 - val_loss: 0.3858 - val_accuracy: 0.8333\n",
      "Epoch 60/75\n",
      "540/540 [==============================] - 0s 214us/sample - loss: 0.0413 - accuracy: 0.9926 - val_loss: 0.3740 - val_accuracy: 0.8667\n",
      "Epoch 61/75\n",
      "540/540 [==============================] - 0s 246us/sample - loss: 0.0545 - accuracy: 0.9796 - val_loss: 0.3874 - val_accuracy: 0.8833\n",
      "Epoch 62/75\n",
      "540/540 [==============================] - 0s 227us/sample - loss: 0.0767 - accuracy: 0.9685 - val_loss: 0.4174 - val_accuracy: 0.8500\n",
      "Epoch 63/75\n",
      "540/540 [==============================] - 0s 192us/sample - loss: 0.0791 - accuracy: 0.9685 - val_loss: 0.4674 - val_accuracy: 0.8333\n",
      "Epoch 64/75\n",
      "540/540 [==============================] - 0s 199us/sample - loss: 0.0745 - accuracy: 0.9778 - val_loss: 0.4144 - val_accuracy: 0.8500\n",
      "Epoch 65/75\n",
      "540/540 [==============================] - 0s 203us/sample - loss: 0.0676 - accuracy: 0.9759 - val_loss: 0.3985 - val_accuracy: 0.8667\n",
      "Epoch 66/75\n",
      "540/540 [==============================] - 0s 196us/sample - loss: 0.0435 - accuracy: 0.9926 - val_loss: 0.3642 - val_accuracy: 0.8500\n",
      "Epoch 67/75\n",
      "540/540 [==============================] - 0s 196us/sample - loss: 0.0430 - accuracy: 0.9889 - val_loss: 0.3251 - val_accuracy: 0.8667\n",
      "Epoch 68/75\n",
      "540/540 [==============================] - 0s 194us/sample - loss: 0.0264 - accuracy: 0.9963 - val_loss: 0.5509 - val_accuracy: 0.8500\n",
      "Epoch 69/75\n",
      "540/540 [==============================] - 0s 194us/sample - loss: 0.0518 - accuracy: 0.9833 - val_loss: 0.4120 - val_accuracy: 0.8667\n",
      "Epoch 70/75\n",
      "540/540 [==============================] - 0s 198us/sample - loss: 0.0310 - accuracy: 0.9963 - val_loss: 0.3380 - val_accuracy: 0.8667\n",
      "Epoch 71/75\n",
      "540/540 [==============================] - 0s 203us/sample - loss: 0.0294 - accuracy: 0.9944 - val_loss: 0.6578 - val_accuracy: 0.8333\n",
      "Epoch 72/75\n",
      "540/540 [==============================] - 0s 209us/sample - loss: 0.0517 - accuracy: 0.9852 - val_loss: 0.3613 - val_accuracy: 0.8833\n",
      "Epoch 73/75\n",
      "540/540 [==============================] - 0s 212us/sample - loss: 0.0470 - accuracy: 0.9870 - val_loss: 0.3476 - val_accuracy: 0.9167\n",
      "Epoch 74/75\n",
      "540/540 [==============================] - 0s 205us/sample - loss: 0.0381 - accuracy: 0.9926 - val_loss: 0.5528 - val_accuracy: 0.8500\n",
      "Epoch 75/75\n",
      "540/540 [==============================] - 0s 201us/sample - loss: 0.0388 - accuracy: 0.9889 - val_loss: 0.3644 - val_accuracy: 0.9167\n"
     ]
    }
   ],
   "source": [
    "model=create_model()\n",
    "model.compile(optimizer='adam',\n",
    "              loss='sparse_categorical_crossentropy',\n",
    "              metrics=['accuracy'])\n",
    "history = model.fit(X_train, y_train, epochs=75, \n",
    "                    validation_data=(X_test, y_test))"
   ]
  },
  {
   "cell_type": "markdown",
   "metadata": {},
   "source": [
    "### Evaluation"
   ]
  },
  {
   "cell_type": "code",
   "execution_count": 27,
   "metadata": {},
   "outputs": [],
   "source": [
    "y_pred=tf.argmax(model.predict(X_test),1)"
   ]
  },
  {
   "cell_type": "code",
   "execution_count": 28,
   "metadata": {},
   "outputs": [
    {
     "data": {
      "text/plain": [
       "<tf.Tensor: id=17865, shape=(60,), dtype=int64, numpy=\n",
       "array([0, 1, 1, 1, 1, 1, 1, 1, 1, 1, 2, 2, 1, 1, 1, 2, 2, 1, 1, 1, 1, 1,\n",
       "       1, 2, 2, 1, 2, 1, 1, 1, 2, 1, 1, 2, 0, 1, 1, 2, 2, 1, 1, 0, 2, 2,\n",
       "       1, 1, 1, 1, 1, 1, 2, 1, 1, 1, 1, 1, 1, 1, 1, 1], dtype=int64)>"
      ]
     },
     "execution_count": 28,
     "metadata": {},
     "output_type": "execute_result"
    }
   ],
   "source": [
    "y_pred"
   ]
  },
  {
   "cell_type": "code",
   "execution_count": 29,
   "metadata": {},
   "outputs": [
    {
     "name": "stdout",
     "output_type": "stream",
     "text": [
      "Test Accuracy:  0.9166666666666666\n",
      "F1 Score:  0.8638324704632948\n"
     ]
    }
   ],
   "source": [
    "print('Test Accuracy: ',metrices.accuracy_score(y_test,y_pred))\n",
    "print('F1 Score: ',metrices.f1_score(y_test,y_pred,average='macro'))\n",
    "confusion_matrix=metrices.confusion_matrix(y_test,y_pred)"
   ]
  },
  {
   "cell_type": "code",
   "execution_count": 30,
   "metadata": {},
   "outputs": [
    {
     "data": {
      "image/png": "[encoded data removed]",
      "text/plain": [
       "<Figure size 432x288 with 2 Axes>"
      ]
     },
     "metadata": {
      "needs_background": "light"
     },
     "output_type": "display_data"
    },
    {
     "data": {
      "text/plain": [
       "<Figure size 7200x504 with 0 Axes>"
      ]
     },
     "metadata": {},
     "output_type": "display_data"
    }
   ],
   "source": [
    "#Note: Matplotlib3.1.1 will cause problem displaying the plot\n",
    "cm_plot=sns.heatmap(confusion_matrix, annot=True)\n",
    "plt.figure(figsize = (100,7))\n",
    "fig = cm_plot.get_figure()\n",
    "fig.savefig('nn_cm.png') "
   ]
  },
  {
   "cell_type": "markdown",
   "metadata": {},
   "source": [
    "## Convolutional Neural Network on Chroma"
   ]
  },
  {
   "cell_type": "markdown",
   "metadata": {},
   "source": [
    "### Extract Chroma"
   ]
  },
  {
   "cell_type": "code",
   "execution_count": 12,
   "metadata": {},
   "outputs": [],
   "source": [
    "def get_chroma(fname):\n",
    "    y,sr=librosa.load(unified_dir+fname)\n",
    "    result=librosa.feature.chroma_stft(y=y, sr=sr)\n",
    "    #Add label as well\n",
    "    if 'mandarin' in fname:\n",
    "        label=0\n",
    "    elif 'english' in fname:\n",
    "        label=1\n",
    "    elif 'spanish' in fname:\n",
    "        label=2\n",
    "    else:\n",
    "        label=-1\n",
    "    return [result,label,fname]"
   ]
  },
  {
   "cell_type": "code",
   "execution_count": 13,
   "metadata": {},
   "outputs": [],
   "source": [
    "result=Parallel(n_jobs=12)(delayed(get_chroma)(fname) for fname in os.listdir(unified_dir))"
   ]
  },
  {
   "cell_type": "code",
   "execution_count": 65,
   "metadata": {},
   "outputs": [],
   "source": [
    "files_selected=['mandarin8.mp3.wav','english15.mp3.wav','spanish161.mp3.wav']\n",
    "chromes_selected=[]\n",
    "for i in files_selected:\n",
    "    for j in result:\n",
    "        if j[2]==i:\n",
    "            chromes_selected.append(j[0])"
   ]
  },
  {
   "cell_type": "code",
   "execution_count": 79,
   "metadata": {},
   "outputs": [],
   "source": [
    "def plot_and_save_chrome(chrome,fname):\n",
    "    fig=plt.figure(figsize=(16, 4))\n",
    "    librosa.display.specshow(chrome, y_axis='chroma', x_axis='time')\n",
    "    plt.colorbar()\n",
    "    plt.title(fname+'Chromagram')\n",
    "    plt.tight_layout()\n",
    "    plt.show()\n",
    "    fig.savefig('ch_'+fname+'.png',dpi=400)"
   ]
  },
  {
   "cell_type": "code",
   "execution_count": 80,
   "metadata": {},
   "outputs": [],
   "source": [
    "selected_part=int(861/10)"
   ]
  },
  {
   "cell_type": "code",
   "execution_count": 81,
   "metadata": {
    "scrolled": true
   },
   "outputs": [
    {
     "data": {
      "image/png": "[encoded data removed]",
      "text/plain": [
       "<Figure size 1152x288 with 2 Axes>"
      ]
     },
     "metadata": {
      "needs_background": "light"
     },
     "output_type": "display_data"
    }
   ],
   "source": [
    "plot_and_save_chrome(chromes_selected[0][:,:selected_part],files_selected[0])"
   ]
  },
  {
   "cell_type": "code",
   "execution_count": 82,
   "metadata": {},
   "outputs": [
    {
     "data": {
      "image/png": "[encoded data removed]",
      "text/plain": [
       "<Figure size 1152x288 with 2 Axes>"
      ]
     },
     "metadata": {
      "needs_background": "light"
     },
     "output_type": "display_data"
    }
   ],
   "source": [
    "plot_and_save_chrome(chromes_selected[1][:,:selected_part],files_selected[1])"
   ]
  },
  {
   "cell_type": "code",
   "execution_count": 83,
   "metadata": {},
   "outputs": [
    {
     "data": {
      "image/png": "[encoded data removed]",
      "text/plain": [
       "<Figure size 1152x288 with 2 Axes>"
      ]
     },
     "metadata": {
      "needs_background": "light"
     },
     "output_type": "display_data"
    }
   ],
   "source": [
    "plot_and_save_chrome(chromes_selected[2][:,:selected_part],files_selected[2])"
   ]
  },
  {
   "cell_type": "code",
   "execution_count": 219,
   "metadata": {},
   "outputs": [],
   "source": [
    "X=[]\n",
    "y=[]\n",
    "for i in result:\n",
    "    X.append(i[0])\n",
    "    y.append(i[1])"
   ]
  },
  {
   "cell_type": "code",
   "execution_count": 220,
   "metadata": {},
   "outputs": [],
   "source": [
    "X_train, X_test, y_train, y_test=train_test_split(X, y, test_size=0.1)\n",
    "X_train=np.expand_dims(X_train,axis=3)\n",
    "X_test=np.expand_dims(X_test,axis=3)"
   ]
  },
  {
   "cell_type": "code",
   "execution_count": 221,
   "metadata": {},
   "outputs": [],
   "source": [
    "def change_input_format(X):\n",
    "    Xc=np.stack(X,axis=0)\n",
    "#     Xc=np.swapaxes(Xc,0,1)\n",
    "#     Xc=np.swapaxes(Xc,1,2)\n",
    "    return Xc"
   ]
  },
  {
   "cell_type": "code",
   "execution_count": 222,
   "metadata": {},
   "outputs": [],
   "source": [
    "X_train=change_input_format(X_train)\n",
    "X_test=change_input_format(X_test)\n",
    "y_train=np.array(y_train)\n",
    "y_test=np.array(y_test)"
   ]
  },
  {
   "cell_type": "code",
   "execution_count": 223,
   "metadata": {},
   "outputs": [
    {
     "data": {
      "text/plain": [
       "(60, 12, 861, 1)"
      ]
     },
     "execution_count": 223,
     "metadata": {},
     "output_type": "execute_result"
    }
   ],
   "source": [
    "X_test.shape"
   ]
  },
  {
   "cell_type": "markdown",
   "metadata": {},
   "source": [
    "### Model1: Directly Apply CNN on Chroma"
   ]
  },
  {
   "cell_type": "code",
   "execution_count": 224,
   "metadata": {},
   "outputs": [],
   "source": [
    "input_shape=(12,861,1)"
   ]
  },
  {
   "cell_type": "code",
   "execution_count": 225,
   "metadata": {},
   "outputs": [],
   "source": [
    "def create_model():\n",
    "    model1=models.Sequential()\n",
    "    model1.add(layers.Conv2D(32,kernel_size=(12,9),strides=(1,3),activation='relu',input_shape=input_shape))\n",
    "    model1.add(layers.MaxPooling2D((1, 4)))\n",
    "    model1.add(layers.Conv2D(64, (1, 3), activation='relu'))\n",
    "    model1.add(layers.MaxPooling2D((1, 2)))\n",
    "    model1.add(layers.Flatten())\n",
    "    model1.add(layers.Dense(64, activation='relu'))\n",
    "    model1.add(layers.Dense(3, activation='softmax'))\n",
    "    return model1"
   ]
  },
  {
   "cell_type": "code",
   "execution_count": 226,
   "metadata": {
    "scrolled": true
   },
   "outputs": [
    {
     "name": "stdout",
     "output_type": "stream",
     "text": [
      "Train on 540 samples, validate on 60 samples\n",
      "Epoch 1/75\n",
      "540/540 [==============================] - 1s 2ms/sample - loss: 0.9283 - accuracy: 0.5981 - val_loss: 0.7811 - val_accuracy: 0.6833\n",
      "Epoch 2/75\n",
      "540/540 [==============================] - 0s 766us/sample - loss: 0.8939 - accuracy: 0.6148 - val_loss: 0.7922 - val_accuracy: 0.6833\n",
      "Epoch 3/75\n",
      "540/540 [==============================] - 0s 771us/sample - loss: 0.8691 - accuracy: 0.6148 - val_loss: 0.7845 - val_accuracy: 0.6833\n",
      "Epoch 4/75\n",
      "540/540 [==============================] - 0s 818us/sample - loss: 0.8417 - accuracy: 0.6148 - val_loss: 0.8396 - val_accuracy: 0.7167\n",
      "Epoch 5/75\n",
      "540/540 [==============================] - 0s 774us/sample - loss: 0.8306 - accuracy: 0.6315 - val_loss: 0.7450 - val_accuracy: 0.6833\n",
      "Epoch 6/75\n",
      "540/540 [==============================] - 0s 772us/sample - loss: 0.7693 - accuracy: 0.6685 - val_loss: 0.6981 - val_accuracy: 0.7000\n",
      "Epoch 7/75\n",
      "540/540 [==============================] - 0s 802us/sample - loss: 0.6710 - accuracy: 0.7130 - val_loss: 0.6658 - val_accuracy: 0.7667\n",
      "Epoch 8/75\n",
      "540/540 [==============================] - 0s 787us/sample - loss: 0.6008 - accuracy: 0.7389 - val_loss: 0.6741 - val_accuracy: 0.8167\n",
      "Epoch 9/75\n",
      "540/540 [==============================] - 0s 824us/sample - loss: 0.5196 - accuracy: 0.7741 - val_loss: 0.6293 - val_accuracy: 0.8000\n",
      "Epoch 10/75\n",
      "540/540 [==============================] - 0s 770us/sample - loss: 0.4415 - accuracy: 0.8074 - val_loss: 0.6368 - val_accuracy: 0.8000\n",
      "Epoch 11/75\n",
      "540/540 [==============================] - 0s 772us/sample - loss: 0.3607 - accuracy: 0.8630 - val_loss: 0.6307 - val_accuracy: 0.8333\n",
      "Epoch 12/75\n",
      "540/540 [==============================] - 0s 764us/sample - loss: 0.2868 - accuracy: 0.9056 - val_loss: 0.6049 - val_accuracy: 0.7833\n",
      "Epoch 13/75\n",
      "540/540 [==============================] - 0s 765us/sample - loss: 0.2000 - accuracy: 0.9519 - val_loss: 0.6131 - val_accuracy: 0.8333\n",
      "Epoch 14/75\n",
      "540/540 [==============================] - 0s 763us/sample - loss: 0.1347 - accuracy: 0.9741 - val_loss: 0.7270 - val_accuracy: 0.7667\n",
      "Epoch 15/75\n",
      "540/540 [==============================] - 0s 763us/sample - loss: 0.0966 - accuracy: 0.9889 - val_loss: 0.6802 - val_accuracy: 0.8000\n",
      "Epoch 16/75\n",
      "540/540 [==============================] - 0s 765us/sample - loss: 0.0553 - accuracy: 1.0000 - val_loss: 0.8463 - val_accuracy: 0.7333\n",
      "Epoch 17/75\n",
      "540/540 [==============================] - 0s 768us/sample - loss: 0.0388 - accuracy: 1.0000 - val_loss: 0.8822 - val_accuracy: 0.6833\n",
      "Epoch 18/75\n",
      "540/540 [==============================] - 0s 766us/sample - loss: 0.0269 - accuracy: 1.0000 - val_loss: 0.8574 - val_accuracy: 0.7333\n",
      "Epoch 19/75\n",
      "540/540 [==============================] - 0s 763us/sample - loss: 0.0179 - accuracy: 1.0000 - val_loss: 0.8357 - val_accuracy: 0.8000\n",
      "Epoch 20/75\n",
      "540/540 [==============================] - 0s 766us/sample - loss: 0.0136 - accuracy: 1.0000 - val_loss: 0.8495 - val_accuracy: 0.7833\n",
      "Epoch 21/75\n",
      "540/540 [==============================] - 0s 774us/sample - loss: 0.0099 - accuracy: 1.0000 - val_loss: 0.8849 - val_accuracy: 0.7667\n",
      "Epoch 22/75\n",
      "540/540 [==============================] - 0s 768us/sample - loss: 0.0083 - accuracy: 1.0000 - val_loss: 0.9458 - val_accuracy: 0.7333\n",
      "Epoch 23/75\n",
      "540/540 [==============================] - 0s 765us/sample - loss: 0.0071 - accuracy: 1.0000 - val_loss: 1.0127 - val_accuracy: 0.7167\n",
      "Epoch 24/75\n",
      "540/540 [==============================] - 0s 761us/sample - loss: 0.0062 - accuracy: 1.0000 - val_loss: 0.9907 - val_accuracy: 0.7167\n",
      "Epoch 25/75\n",
      "540/540 [==============================] - 0s 761us/sample - loss: 0.0053 - accuracy: 1.0000 - val_loss: 0.9965 - val_accuracy: 0.7333\n",
      "Epoch 26/75\n",
      "540/540 [==============================] - 0s 759us/sample - loss: 0.0046 - accuracy: 1.0000 - val_loss: 0.9886 - val_accuracy: 0.7667\n",
      "Epoch 27/75\n",
      "540/540 [==============================] - 0s 759us/sample - loss: 0.0040 - accuracy: 1.0000 - val_loss: 1.0041 - val_accuracy: 0.7333\n",
      "Epoch 28/75\n",
      "540/540 [==============================] - 0s 761us/sample - loss: 0.0035 - accuracy: 1.0000 - val_loss: 1.0653 - val_accuracy: 0.7333\n",
      "Epoch 29/75\n",
      "540/540 [==============================] - 0s 763us/sample - loss: 0.0033 - accuracy: 1.0000 - val_loss: 1.0699 - val_accuracy: 0.7167\n",
      "Epoch 30/75\n",
      "540/540 [==============================] - 0s 762us/sample - loss: 0.0030 - accuracy: 1.0000 - val_loss: 1.0578 - val_accuracy: 0.7333\n",
      "Epoch 31/75\n",
      "540/540 [==============================] - 0s 759us/sample - loss: 0.0026 - accuracy: 1.0000 - val_loss: 1.0487 - val_accuracy: 0.7667\n",
      "Epoch 32/75\n",
      "540/540 [==============================] - 0s 761us/sample - loss: 0.0025 - accuracy: 1.0000 - val_loss: 1.0759 - val_accuracy: 0.7333\n",
      "Epoch 33/75\n",
      "540/540 [==============================] - 0s 769us/sample - loss: 0.0022 - accuracy: 1.0000 - val_loss: 1.0729 - val_accuracy: 0.7333\n",
      "Epoch 34/75\n",
      "540/540 [==============================] - 0s 766us/sample - loss: 0.0020 - accuracy: 1.0000 - val_loss: 1.0888 - val_accuracy: 0.7333\n",
      "Epoch 35/75\n",
      "540/540 [==============================] - 0s 761us/sample - loss: 0.0018 - accuracy: 1.0000 - val_loss: 1.1078 - val_accuracy: 0.7333\n",
      "Epoch 36/75\n",
      "540/540 [==============================] - 0s 757us/sample - loss: 0.0017 - accuracy: 1.0000 - val_loss: 1.1056 - val_accuracy: 0.7333\n",
      "Epoch 37/75\n",
      "540/540 [==============================] - 0s 760us/sample - loss: 0.0016 - accuracy: 1.0000 - val_loss: 1.1127 - val_accuracy: 0.7333\n",
      "Epoch 38/75\n",
      "540/540 [==============================] - 0s 763us/sample - loss: 0.0015 - accuracy: 1.0000 - val_loss: 1.1347 - val_accuracy: 0.7333\n",
      "Epoch 39/75\n",
      "540/540 [==============================] - 0s 761us/sample - loss: 0.0014 - accuracy: 1.0000 - val_loss: 1.1259 - val_accuracy: 0.7333\n",
      "Epoch 40/75\n",
      "540/540 [==============================] - 0s 757us/sample - loss: 0.0013 - accuracy: 1.0000 - val_loss: 1.1607 - val_accuracy: 0.7167\n",
      "Epoch 41/75\n",
      "540/540 [==============================] - 0s 757us/sample - loss: 0.0013 - accuracy: 1.0000 - val_loss: 1.1297 - val_accuracy: 0.7667\n",
      "Epoch 42/75\n",
      "540/540 [==============================] - 0s 763us/sample - loss: 0.0012 - accuracy: 1.0000 - val_loss: 1.1716 - val_accuracy: 0.7333\n",
      "Epoch 43/75\n",
      "540/540 [==============================] - 0s 757us/sample - loss: 0.0011 - accuracy: 1.0000 - val_loss: 1.1696 - val_accuracy: 0.7333\n",
      "Epoch 44/75\n",
      "540/540 [==============================] - 0s 764us/sample - loss: 0.0010 - accuracy: 1.0000 - val_loss: 1.1872 - val_accuracy: 0.7167\n",
      "Epoch 45/75\n",
      "540/540 [==============================] - 0s 770us/sample - loss: 9.8456e-04 - accuracy: 1.0000 - val_loss: 1.1720 - val_accuracy: 0.7333\n",
      "Epoch 46/75\n",
      "540/540 [==============================] - 0s 778us/sample - loss: 9.3031e-04 - accuracy: 1.0000 - val_loss: 1.1979 - val_accuracy: 0.7333\n",
      "Epoch 47/75\n",
      "540/540 [==============================] - 0s 776us/sample - loss: 8.7379e-04 - accuracy: 1.0000 - val_loss: 1.1908 - val_accuracy: 0.7333\n",
      "Epoch 48/75\n",
      "540/540 [==============================] - 0s 766us/sample - loss: 8.3415e-04 - accuracy: 1.0000 - val_loss: 1.2122 - val_accuracy: 0.7167\n",
      "Epoch 49/75\n",
      "540/540 [==============================] - 0s 766us/sample - loss: 7.9509e-04 - accuracy: 1.0000 - val_loss: 1.2057 - val_accuracy: 0.7333\n",
      "Epoch 50/75\n",
      "540/540 [==============================] - 0s 768us/sample - loss: 7.5462e-04 - accuracy: 1.0000 - val_loss: 1.2150 - val_accuracy: 0.7167\n",
      "Epoch 51/75\n",
      "540/540 [==============================] - 0s 766us/sample - loss: 7.2067e-04 - accuracy: 1.0000 - val_loss: 1.2236 - val_accuracy: 0.7333\n",
      "Epoch 52/75\n",
      "540/540 [==============================] - 0s 777us/sample - loss: 7.0128e-04 - accuracy: 1.0000 - val_loss: 1.2369 - val_accuracy: 0.7333\n",
      "Epoch 53/75\n",
      "540/540 [==============================] - 0s 766us/sample - loss: 6.5668e-04 - accuracy: 1.0000 - val_loss: 1.2335 - val_accuracy: 0.7333\n",
      "Epoch 54/75\n",
      "540/540 [==============================] - 0s 774us/sample - loss: 6.2638e-04 - accuracy: 1.0000 - val_loss: 1.2360 - val_accuracy: 0.7333\n",
      "Epoch 55/75\n",
      "540/540 [==============================] - 0s 768us/sample - loss: 6.0563e-04 - accuracy: 1.0000 - val_loss: 1.2465 - val_accuracy: 0.7167\n",
      "Epoch 56/75\n"
     ]
    },
    {
     "name": "stdout",
     "output_type": "stream",
     "text": [
      "540/540 [==============================] - 0s 766us/sample - loss: 5.7950e-04 - accuracy: 1.0000 - val_loss: 1.2525 - val_accuracy: 0.7167\n",
      "Epoch 57/75\n",
      "540/540 [==============================] - 0s 766us/sample - loss: 5.5393e-04 - accuracy: 1.0000 - val_loss: 1.2665 - val_accuracy: 0.7333\n",
      "Epoch 58/75\n",
      "540/540 [==============================] - 0s 770us/sample - loss: 5.2850e-04 - accuracy: 1.0000 - val_loss: 1.2582 - val_accuracy: 0.7167\n",
      "Epoch 59/75\n",
      "540/540 [==============================] - 0s 771us/sample - loss: 5.0977e-04 - accuracy: 1.0000 - val_loss: 1.2671 - val_accuracy: 0.7167\n",
      "Epoch 60/75\n",
      "540/540 [==============================] - 0s 765us/sample - loss: 4.9079e-04 - accuracy: 1.0000 - val_loss: 1.2748 - val_accuracy: 0.7333\n",
      "Epoch 61/75\n",
      "540/540 [==============================] - 0s 768us/sample - loss: 4.7411e-04 - accuracy: 1.0000 - val_loss: 1.2811 - val_accuracy: 0.7333\n",
      "Epoch 62/75\n",
      "540/540 [==============================] - 0s 772us/sample - loss: 4.5338e-04 - accuracy: 1.0000 - val_loss: 1.2830 - val_accuracy: 0.7167\n",
      "Epoch 63/75\n",
      "540/540 [==============================] - 0s 757us/sample - loss: 4.4032e-04 - accuracy: 1.0000 - val_loss: 1.2838 - val_accuracy: 0.7333\n",
      "Epoch 64/75\n",
      "540/540 [==============================] - ETA: 0s - loss: 4.2127e-04 - accuracy: 1.00 - 0s 767us/sample - loss: 4.2369e-04 - accuracy: 1.0000 - val_loss: 1.2996 - val_accuracy: 0.7167\n",
      "Epoch 65/75\n",
      "540/540 [==============================] - 0s 766us/sample - loss: 4.0475e-04 - accuracy: 1.0000 - val_loss: 1.2927 - val_accuracy: 0.7333\n",
      "Epoch 66/75\n",
      "540/540 [==============================] - 0s 765us/sample - loss: 3.9749e-04 - accuracy: 1.0000 - val_loss: 1.3068 - val_accuracy: 0.7167\n",
      "Epoch 67/75\n",
      "540/540 [==============================] - 0s 762us/sample - loss: 3.7747e-04 - accuracy: 1.0000 - val_loss: 1.3051 - val_accuracy: 0.7333\n",
      "Epoch 68/75\n",
      "540/540 [==============================] - 0s 766us/sample - loss: 3.7062e-04 - accuracy: 1.0000 - val_loss: 1.3105 - val_accuracy: 0.7167\n",
      "Epoch 69/75\n",
      "540/540 [==============================] - 0s 768us/sample - loss: 3.5746e-04 - accuracy: 1.0000 - val_loss: 1.3164 - val_accuracy: 0.7167\n",
      "Epoch 70/75\n",
      "540/540 [==============================] - 0s 842us/sample - loss: 3.4643e-04 - accuracy: 1.0000 - val_loss: 1.3233 - val_accuracy: 0.7333\n",
      "Epoch 71/75\n",
      "540/540 [==============================] - 0s 796us/sample - loss: 3.3429e-04 - accuracy: 1.0000 - val_loss: 1.3260 - val_accuracy: 0.7167\n",
      "Epoch 72/75\n",
      "540/540 [==============================] - ETA: 0s - loss: 3.2377e-04 - accuracy: 1.00 - 0s 770us/sample - loss: 3.2360e-04 - accuracy: 1.0000 - val_loss: 1.3221 - val_accuracy: 0.7333\n",
      "Epoch 73/75\n",
      "540/540 [==============================] - 0s 765us/sample - loss: 3.1083e-04 - accuracy: 1.0000 - val_loss: 1.3403 - val_accuracy: 0.7167\n",
      "Epoch 74/75\n",
      "540/540 [==============================] - 0s 778us/sample - loss: 3.0456e-04 - accuracy: 1.0000 - val_loss: 1.3288 - val_accuracy: 0.7333\n",
      "Epoch 75/75\n",
      "540/540 [==============================] - 0s 763us/sample - loss: 2.9442e-04 - accuracy: 1.0000 - val_loss: 1.3501 - val_accuracy: 0.7167\n"
     ]
    }
   ],
   "source": [
    "model=create_model()\n",
    "model.compile(optimizer='adam',\n",
    "              loss='sparse_categorical_crossentropy',\n",
    "              metrics=['accuracy'])\n",
    "history = model.fit(X_train, y_train, epochs=75, \n",
    "                    validation_data=(X_test, y_test))"
   ]
  },
  {
   "cell_type": "markdown",
   "metadata": {},
   "source": [
    "### Evaluation"
   ]
  },
  {
   "cell_type": "code",
   "execution_count": 227,
   "metadata": {},
   "outputs": [],
   "source": [
    "y_pred=tf.argmax(model.predict(X_test),1)"
   ]
  },
  {
   "cell_type": "code",
   "execution_count": 228,
   "metadata": {},
   "outputs": [
    {
     "data": {
      "text/plain": [
       "<tf.Tensor: id=170622, shape=(60,), dtype=int64, numpy=\n",
       "array([1, 2, 1, 1, 1, 1, 0, 1, 0, 2, 0, 1, 1, 1, 0, 1, 1, 1, 1, 1, 1, 1,\n",
       "       1, 1, 1, 2, 1, 1, 1, 1, 1, 0, 1, 2, 0, 1, 1, 1, 1, 1, 2, 1, 0, 1,\n",
       "       1, 1, 1, 1, 0, 1, 0, 1, 1, 1, 2, 1, 1, 2, 2, 2], dtype=int64)>"
      ]
     },
     "execution_count": 228,
     "metadata": {},
     "output_type": "execute_result"
    }
   ],
   "source": [
    "y_pred"
   ]
  },
  {
   "cell_type": "code",
   "execution_count": 229,
   "metadata": {},
   "outputs": [
    {
     "name": "stdout",
     "output_type": "stream",
     "text": [
      "Test Accuracy:  0.7166666666666667\n",
      "F1 Score:  0.5268509937184637\n"
     ]
    }
   ],
   "source": [
    "print('Test Accuracy: ',metrices.accuracy_score(y_test,y_pred))\n",
    "print('F1 Score: ',metrices.f1_score(y_test,y_pred,average='macro'))\n",
    "confusion_matrix=metrices.confusion_matrix(y_test,y_pred)"
   ]
  },
  {
   "cell_type": "code",
   "execution_count": 230,
   "metadata": {},
   "outputs": [
    {
     "data": {
      "image/png": "[encoded data removed]",
      "text/plain": [
       "<Figure size 432x288 with 2 Axes>"
      ]
     },
     "metadata": {
      "needs_background": "light"
     },
     "output_type": "display_data"
    },
    {
     "data": {
      "text/plain": [
       "<Figure size 7200x504 with 0 Axes>"
      ]
     },
     "metadata": {},
     "output_type": "display_data"
    }
   ],
   "source": [
    "#Note: Matplotlib3.1.1 will cause problem displaying the plot\n",
    "cm_plot=sns.heatmap(confusion_matrix, annot=True)\n",
    "plt.figure(figsize = (100,7))\n",
    "fig = cm_plot.get_figure()\n",
    "fig.savefig('nn_cm.png') "
   ]
  },
  {
   "cell_type": "markdown",
   "metadata": {},
   "source": [
    "### Model2: Keep Max Values Only"
   ]
  },
  {
   "cell_type": "code",
   "execution_count": 250,
   "metadata": {},
   "outputs": [],
   "source": [
    "result2=[]\n",
    "for item in result:\n",
    "    ch,label,fname=item\n",
    "    new_result=[]\n",
    "    for i in range(ch.shape[1]):\n",
    "        new_result.append(float(np.argmax(ch[:,i])))\n",
    "    result2.append([np.array(new_result),label])"
   ]
  },
  {
   "cell_type": "code",
   "execution_count": 251,
   "metadata": {},
   "outputs": [],
   "source": [
    "X=[]\n",
    "y=[]\n",
    "for i in result2:\n",
    "    X.append(i[0])\n",
    "    y.append(i[1])"
   ]
  },
  {
   "cell_type": "code",
   "execution_count": 252,
   "metadata": {},
   "outputs": [],
   "source": [
    "X_train, X_test, y_train, y_test=train_test_split(X, y, test_size=0.1)\n",
    "X_train=np.expand_dims(X_train,axis=1)\n",
    "X_test=np.expand_dims(X_test,axis=1)\n",
    "X_train=np.expand_dims(X_train,axis=3)\n",
    "X_test=np.expand_dims(X_test,axis=3)"
   ]
  },
  {
   "cell_type": "code",
   "execution_count": 253,
   "metadata": {},
   "outputs": [],
   "source": [
    "def change_input_format(X):\n",
    "    Xc=np.stack(X,axis=0)\n",
    "#     Xc=np.swapaxes(Xc,0,1)\n",
    "#     Xc=np.swapaxes(Xc,1,2)\n",
    "    return Xc"
   ]
  },
  {
   "cell_type": "code",
   "execution_count": 254,
   "metadata": {},
   "outputs": [],
   "source": [
    "X_train=change_input_format(X_train)\n",
    "X_test=change_input_format(X_test)\n",
    "y_train=np.array(y_train)\n",
    "y_test=np.array(y_test)"
   ]
  },
  {
   "cell_type": "code",
   "execution_count": 255,
   "metadata": {},
   "outputs": [
    {
     "data": {
      "text/plain": [
       "(60, 1, 861, 1)"
      ]
     },
     "execution_count": 255,
     "metadata": {},
     "output_type": "execute_result"
    }
   ],
   "source": [
    "X_test.shape"
   ]
  },
  {
   "cell_type": "code",
   "execution_count": 256,
   "metadata": {},
   "outputs": [],
   "source": [
    "input_shape=(1,861,1)"
   ]
  },
  {
   "cell_type": "code",
   "execution_count": 257,
   "metadata": {},
   "outputs": [],
   "source": [
    "def create_model():\n",
    "    model1=models.Sequential()\n",
    "    model1.add(layers.Conv2D(64,kernel_size=(1,9),strides=(1, 3),activation='relu',input_shape=input_shape))\n",
    "    model1.add(layers.AveragePooling2D((1, 5)))\n",
    "    model1.add(layers.Flatten())\n",
    "    model1.add(layers.Dense(64, activation='relu'))\n",
    "    model1.add(layers.Dense(3, activation='softmax'))\n",
    "    return model1"
   ]
  },
  {
   "cell_type": "code",
   "execution_count": 258,
   "metadata": {},
   "outputs": [
    {
     "name": "stdout",
     "output_type": "stream",
     "text": [
      "Train on 540 samples, validate on 60 samples\n",
      "Epoch 1/75\n",
      "540/540 [==============================] - 1s 1ms/sample - loss: 1.2782 - accuracy: 0.5685 - val_loss: 0.9312 - val_accuracy: 0.6167\n",
      "Epoch 2/75\n",
      "540/540 [==============================] - 0s 312us/sample - loss: 0.9099 - accuracy: 0.5722 - val_loss: 0.9396 - val_accuracy: 0.6167\n",
      "Epoch 3/75\n",
      "540/540 [==============================] - 0s 292us/sample - loss: 0.8706 - accuracy: 0.6296 - val_loss: 0.9185 - val_accuracy: 0.6167\n",
      "Epoch 4/75\n",
      "540/540 [==============================] - 0s 275us/sample - loss: 0.8421 - accuracy: 0.6222 - val_loss: 0.9305 - val_accuracy: 0.6167\n",
      "Epoch 5/75\n",
      "540/540 [==============================] - 0s 268us/sample - loss: 0.8119 - accuracy: 0.6370 - val_loss: 0.9699 - val_accuracy: 0.6000\n",
      "Epoch 6/75\n",
      "540/540 [==============================] - 0s 277us/sample - loss: 0.7527 - accuracy: 0.6519 - val_loss: 0.9118 - val_accuracy: 0.5667\n",
      "Epoch 7/75\n",
      "540/540 [==============================] - 0s 262us/sample - loss: 0.7078 - accuracy: 0.6852 - val_loss: 0.8958 - val_accuracy: 0.6000\n",
      "Epoch 8/75\n",
      "540/540 [==============================] - 0s 262us/sample - loss: 0.6441 - accuracy: 0.7296 - val_loss: 0.9125 - val_accuracy: 0.6167\n",
      "Epoch 9/75\n",
      "540/540 [==============================] - 0s 260us/sample - loss: 0.5997 - accuracy: 0.7574 - val_loss: 0.9953 - val_accuracy: 0.5333\n",
      "Epoch 10/75\n",
      "540/540 [==============================] - 0s 266us/sample - loss: 0.5643 - accuracy: 0.7833 - val_loss: 0.9276 - val_accuracy: 0.6000\n",
      "Epoch 11/75\n",
      "540/540 [==============================] - 0s 262us/sample - loss: 0.4989 - accuracy: 0.8130 - val_loss: 0.9422 - val_accuracy: 0.6167\n",
      "Epoch 12/75\n",
      "540/540 [==============================] - 0s 266us/sample - loss: 0.4818 - accuracy: 0.8111 - val_loss: 1.0144 - val_accuracy: 0.6000\n",
      "Epoch 13/75\n",
      "540/540 [==============================] - 0s 259us/sample - loss: 0.4495 - accuracy: 0.8352 - val_loss: 1.0905 - val_accuracy: 0.6167\n",
      "Epoch 14/75\n",
      "540/540 [==============================] - 0s 260us/sample - loss: 0.4214 - accuracy: 0.8278 - val_loss: 1.0646 - val_accuracy: 0.6000\n",
      "Epoch 15/75\n",
      "540/540 [==============================] - 0s 271us/sample - loss: 0.3659 - accuracy: 0.8852 - val_loss: 1.0965 - val_accuracy: 0.6167\n",
      "Epoch 16/75\n",
      "540/540 [==============================] - 0s 283us/sample - loss: 0.3418 - accuracy: 0.8833 - val_loss: 1.0812 - val_accuracy: 0.5833\n",
      "Epoch 17/75\n",
      "540/540 [==============================] - 0s 271us/sample - loss: 0.3013 - accuracy: 0.9296 - val_loss: 1.1159 - val_accuracy: 0.5833\n",
      "Epoch 18/75\n",
      "540/540 [==============================] - 0s 262us/sample - loss: 0.2650 - accuracy: 0.9370 - val_loss: 1.2183 - val_accuracy: 0.6167\n",
      "Epoch 19/75\n",
      "540/540 [==============================] - 0s 262us/sample - loss: 0.2530 - accuracy: 0.9333 - val_loss: 1.2380 - val_accuracy: 0.6167\n",
      "Epoch 20/75\n",
      "540/540 [==============================] - 0s 266us/sample - loss: 0.2066 - accuracy: 0.9537 - val_loss: 1.2239 - val_accuracy: 0.5500\n",
      "Epoch 21/75\n",
      "540/540 [==============================] - 0s 265us/sample - loss: 0.1795 - accuracy: 0.9667 - val_loss: 1.3118 - val_accuracy: 0.6167\n",
      "Epoch 22/75\n",
      "540/540 [==============================] - 0s 264us/sample - loss: 0.1897 - accuracy: 0.9593 - val_loss: 1.3179 - val_accuracy: 0.5667\n",
      "Epoch 23/75\n",
      "540/540 [==============================] - 0s 277us/sample - loss: 0.1492 - accuracy: 0.9833 - val_loss: 1.3548 - val_accuracy: 0.5833\n",
      "Epoch 24/75\n",
      "540/540 [==============================] - 0s 274us/sample - loss: 0.1408 - accuracy: 0.9778 - val_loss: 1.3911 - val_accuracy: 0.5500\n",
      "Epoch 25/75\n",
      "540/540 [==============================] - 0s 268us/sample - loss: 0.1260 - accuracy: 0.9907 - val_loss: 1.4582 - val_accuracy: 0.6000\n",
      "Epoch 26/75\n",
      "540/540 [==============================] - 0s 264us/sample - loss: 0.1032 - accuracy: 0.9981 - val_loss: 1.6008 - val_accuracy: 0.6500\n",
      "Epoch 27/75\n",
      "540/540 [==============================] - 0s 264us/sample - loss: 0.1029 - accuracy: 0.9889 - val_loss: 1.6184 - val_accuracy: 0.6167\n",
      "Epoch 28/75\n",
      "540/540 [==============================] - 0s 263us/sample - loss: 0.0834 - accuracy: 0.9981 - val_loss: 1.5787 - val_accuracy: 0.5667\n",
      "Epoch 29/75\n",
      "540/540 [==============================] - 0s 259us/sample - loss: 0.0729 - accuracy: 0.9981 - val_loss: 1.6029 - val_accuracy: 0.5667\n",
      "Epoch 30/75\n",
      "540/540 [==============================] - 0s 264us/sample - loss: 0.0643 - accuracy: 1.0000 - val_loss: 1.6260 - val_accuracy: 0.5667\n",
      "Epoch 31/75\n",
      "540/540 [==============================] - 0s 266us/sample - loss: 0.0590 - accuracy: 1.0000 - val_loss: 1.6742 - val_accuracy: 0.5667\n",
      "Epoch 32/75\n",
      "540/540 [==============================] - 0s 275us/sample - loss: 0.0519 - accuracy: 1.0000 - val_loss: 1.7180 - val_accuracy: 0.5667\n",
      "Epoch 33/75\n",
      "540/540 [==============================] - 0s 282us/sample - loss: 0.0430 - accuracy: 1.0000 - val_loss: 1.7521 - val_accuracy: 0.5500\n",
      "Epoch 34/75\n",
      "540/540 [==============================] - 0s 278us/sample - loss: 0.0401 - accuracy: 1.0000 - val_loss: 1.8331 - val_accuracy: 0.6000\n",
      "Epoch 35/75\n",
      "540/540 [==============================] - 0s 260us/sample - loss: 0.0362 - accuracy: 1.0000 - val_loss: 1.8606 - val_accuracy: 0.5833\n",
      "Epoch 36/75\n",
      "540/540 [==============================] - 0s 262us/sample - loss: 0.0355 - accuracy: 1.0000 - val_loss: 1.8653 - val_accuracy: 0.5667\n",
      "Epoch 37/75\n",
      "540/540 [==============================] - 0s 262us/sample - loss: 0.0320 - accuracy: 1.0000 - val_loss: 1.9011 - val_accuracy: 0.5667\n",
      "Epoch 38/75\n",
      "540/540 [==============================] - 0s 259us/sample - loss: 0.0292 - accuracy: 1.0000 - val_loss: 2.0062 - val_accuracy: 0.6000\n",
      "Epoch 39/75\n",
      "540/540 [==============================] - 0s 260us/sample - loss: 0.0277 - accuracy: 1.0000 - val_loss: 1.9660 - val_accuracy: 0.5500\n",
      "Epoch 40/75\n",
      "540/540 [==============================] - 0s 268us/sample - loss: 0.0230 - accuracy: 1.0000 - val_loss: 1.9883 - val_accuracy: 0.5833\n",
      "Epoch 41/75\n",
      "540/540 [==============================] - 0s 271us/sample - loss: 0.0208 - accuracy: 1.0000 - val_loss: 2.0149 - val_accuracy: 0.5833\n",
      "Epoch 42/75\n",
      "540/540 [==============================] - 0s 273us/sample - loss: 0.0196 - accuracy: 1.0000 - val_loss: 2.0339 - val_accuracy: 0.5667\n",
      "Epoch 43/75\n",
      "540/540 [==============================] - 0s 277us/sample - loss: 0.0178 - accuracy: 1.0000 - val_loss: 2.1067 - val_accuracy: 0.5833\n",
      "Epoch 44/75\n",
      "540/540 [==============================] - 0s 257us/sample - loss: 0.0178 - accuracy: 1.0000 - val_loss: 2.0859 - val_accuracy: 0.5667\n",
      "Epoch 45/75\n",
      "540/540 [==============================] - 0s 257us/sample - loss: 0.0162 - accuracy: 1.0000 - val_loss: 2.1307 - val_accuracy: 0.6000\n",
      "Epoch 46/75\n",
      "540/540 [==============================] - 0s 260us/sample - loss: 0.0151 - accuracy: 1.0000 - val_loss: 2.1442 - val_accuracy: 0.6000\n",
      "Epoch 47/75\n",
      "540/540 [==============================] - 0s 279us/sample - loss: 0.0138 - accuracy: 1.0000 - val_loss: 2.1872 - val_accuracy: 0.6000\n",
      "Epoch 48/75\n",
      "540/540 [==============================] - 0s 281us/sample - loss: 0.0146 - accuracy: 1.0000 - val_loss: 2.1967 - val_accuracy: 0.6000\n",
      "Epoch 49/75\n",
      "540/540 [==============================] - 0s 271us/sample - loss: 0.0135 - accuracy: 1.0000 - val_loss: 2.2919 - val_accuracy: 0.6000\n",
      "Epoch 50/75\n",
      "540/540 [==============================] - 0s 271us/sample - loss: 0.0133 - accuracy: 1.0000 - val_loss: 2.2135 - val_accuracy: 0.5833\n",
      "Epoch 51/75\n",
      "540/540 [==============================] - 0s 262us/sample - loss: 0.0118 - accuracy: 1.0000 - val_loss: 2.2742 - val_accuracy: 0.6000\n",
      "Epoch 52/75\n",
      "540/540 [==============================] - 0s 257us/sample - loss: 0.0104 - accuracy: 1.0000 - val_loss: 2.2915 - val_accuracy: 0.6000\n",
      "Epoch 53/75\n",
      "540/540 [==============================] - 0s 267us/sample - loss: 0.0096 - accuracy: 1.0000 - val_loss: 2.2849 - val_accuracy: 0.5667\n",
      "Epoch 54/75\n",
      "540/540 [==============================] - 0s 275us/sample - loss: 0.0096 - accuracy: 1.0000 - val_loss: 2.3274 - val_accuracy: 0.5833\n",
      "Epoch 55/75\n",
      "540/540 [==============================] - 0s 284us/sample - loss: 0.0094 - accuracy: 1.0000 - val_loss: 2.3077 - val_accuracy: 0.5667\n",
      "Epoch 56/75\n"
     ]
    },
    {
     "name": "stdout",
     "output_type": "stream",
     "text": [
      "540/540 [==============================] - 0s 279us/sample - loss: 0.0083 - accuracy: 1.0000 - val_loss: 2.3309 - val_accuracy: 0.5833\n",
      "Epoch 57/75\n",
      "540/540 [==============================] - 0s 273us/sample - loss: 0.0083 - accuracy: 1.0000 - val_loss: 2.3750 - val_accuracy: 0.5833\n",
      "Epoch 58/75\n",
      "540/540 [==============================] - 0s 270us/sample - loss: 0.0077 - accuracy: 1.0000 - val_loss: 2.3805 - val_accuracy: 0.5833\n",
      "Epoch 59/75\n",
      "540/540 [==============================] - 0s 266us/sample - loss: 0.0071 - accuracy: 1.0000 - val_loss: 2.4361 - val_accuracy: 0.6000\n",
      "Epoch 60/75\n",
      "540/540 [==============================] - 0s 257us/sample - loss: 0.0069 - accuracy: 1.0000 - val_loss: 2.4321 - val_accuracy: 0.6000\n",
      "Epoch 61/75\n",
      "540/540 [==============================] - 0s 257us/sample - loss: 0.0064 - accuracy: 1.0000 - val_loss: 2.4294 - val_accuracy: 0.5833\n",
      "Epoch 62/75\n",
      "540/540 [==============================] - 0s 259us/sample - loss: 0.0062 - accuracy: 1.0000 - val_loss: 2.4535 - val_accuracy: 0.5667\n",
      "Epoch 63/75\n",
      "540/540 [==============================] - 0s 264us/sample - loss: 0.0059 - accuracy: 1.0000 - val_loss: 2.4856 - val_accuracy: 0.5833\n",
      "Epoch 64/75\n",
      "540/540 [==============================] - 0s 260us/sample - loss: 0.0056 - accuracy: 1.0000 - val_loss: 2.4709 - val_accuracy: 0.5667\n",
      "Epoch 65/75\n",
      "540/540 [==============================] - 0s 270us/sample - loss: 0.0058 - accuracy: 1.0000 - val_loss: 2.5108 - val_accuracy: 0.6000\n",
      "Epoch 66/75\n",
      "540/540 [==============================] - 0s 260us/sample - loss: 0.0052 - accuracy: 1.0000 - val_loss: 2.5272 - val_accuracy: 0.6000\n",
      "Epoch 67/75\n",
      "540/540 [==============================] - ETA: 0s - loss: 0.0048 - accuracy: 1.00 - 0s 270us/sample - loss: 0.0049 - accuracy: 1.0000 - val_loss: 2.5197 - val_accuracy: 0.5833\n",
      "Epoch 68/75\n",
      "540/540 [==============================] - 0s 268us/sample - loss: 0.0046 - accuracy: 1.0000 - val_loss: 2.5445 - val_accuracy: 0.5667\n",
      "Epoch 69/75\n",
      "540/540 [==============================] - 0s 266us/sample - loss: 0.0046 - accuracy: 1.0000 - val_loss: 2.5712 - val_accuracy: 0.5667\n",
      "Epoch 70/75\n",
      "540/540 [==============================] - 0s 266us/sample - loss: 0.0045 - accuracy: 1.0000 - val_loss: 2.5853 - val_accuracy: 0.5833\n",
      "Epoch 71/75\n",
      "540/540 [==============================] - 0s 270us/sample - loss: 0.0042 - accuracy: 1.0000 - val_loss: 2.5787 - val_accuracy: 0.5833\n",
      "Epoch 72/75\n",
      "540/540 [==============================] - 0s 266us/sample - loss: 0.0040 - accuracy: 1.0000 - val_loss: 2.6293 - val_accuracy: 0.5833\n",
      "Epoch 73/75\n",
      "540/540 [==============================] - 0s 262us/sample - loss: 0.0042 - accuracy: 1.0000 - val_loss: 2.6451 - val_accuracy: 0.6000\n",
      "Epoch 74/75\n",
      "540/540 [==============================] - 0s 258us/sample - loss: 0.0038 - accuracy: 1.0000 - val_loss: 2.6267 - val_accuracy: 0.5667\n",
      "Epoch 75/75\n",
      "540/540 [==============================] - 0s 260us/sample - loss: 0.0035 - accuracy: 1.0000 - val_loss: 2.6973 - val_accuracy: 0.6000\n"
     ]
    }
   ],
   "source": [
    "model=create_model()\n",
    "model.compile(optimizer='adam',\n",
    "              loss='sparse_categorical_crossentropy',\n",
    "              metrics=['accuracy'])\n",
    "history = model.fit(X_train, y_train, epochs=75, \n",
    "                    validation_data=(X_test, y_test))"
   ]
  },
  {
   "cell_type": "markdown",
   "metadata": {},
   "source": [
    "This one does not seem to work. "
   ]
  }
 ],
 "metadata": {
  "kernelspec": {
   "display_name": "Python 3",
   "language": "python",
   "name": "python3"
  },
  "language_info": {
   "codemirror_mode": {
    "name": "ipython",
    "version": 3
   },
   "file_extension": ".py",
   "mimetype": "text/x-python",
   "name": "python",
   "nbconvert_exporter": "python",
   "pygments_lexer": "ipython3",
   "version": "3.7.5"
  }
 },
 "nbformat": 4,
 "nbformat_minor": 2
}
