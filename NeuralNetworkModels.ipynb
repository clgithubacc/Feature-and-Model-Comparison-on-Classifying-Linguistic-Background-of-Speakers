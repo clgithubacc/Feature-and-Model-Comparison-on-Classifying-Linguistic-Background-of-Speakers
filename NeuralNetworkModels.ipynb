{
 "cells": [
  {
   "cell_type": "markdown",
   "metadata": {},
   "source": [
    "# Neural Network Models for Speaker Classification"
   ]
  },
  {
   "cell_type": "markdown",
   "metadata": {},
   "source": [
    "Last Update: 12/01/2019 by Chen Liang"
   ]
  },
  {
   "cell_type": "markdown",
   "metadata": {},
   "source": [
    "This notebook includes the following deep learning models: 1) CNN on MFCC 2) CNN on Chroma"
   ]
  },
  {
   "cell_type": "code",
   "execution_count": 68,
   "metadata": {},
   "outputs": [],
   "source": [
    "import librosa\n",
    "import numpy as np\n",
    "import shutil\n",
    "import os\n",
    "from joblib import Parallel, delayed\n",
    "import multiprocessing \n",
    "import matplotlib.pyplot as plt\n",
    "import scipy\n",
    "import tensorflow as tf\n",
    "from tensorflow.keras import layers, models\n",
    "from sklearn.model_selection import train_test_split"
   ]
  },
  {
   "cell_type": "code",
   "execution_count": 42,
   "metadata": {},
   "outputs": [],
   "source": [
    "raw_dir='recordings/selected_recordings/'\n",
    "silence_removed_dir='recordings/silence_removed/'\n",
    "unified_dir='recordings/unified/'"
   ]
  },
  {
   "cell_type": "markdown",
   "metadata": {},
   "source": [
    "## Preparation: Data Understanding"
   ]
  },
  {
   "cell_type": "markdown",
   "metadata": {},
   "source": [
    "For this dataset, each speaker is required to read the following paragraph:\n",
    ">*Please call Stella.  Ask her to bring these things with her from the store:  Six spoons of fresh snow peas, five thick slabs of blue cheese, and maybe a snack for her brother Bob.  We also need a small plastic snake and a big toy frog for the kids.  She can scoop these things into three red bags, and we will go meet her Wednesday at the train station.*\n",
    "\n",
    "Which has the following phonemes"
   ]
  },
  {
   "cell_type": "markdown",
   "metadata": {},
   "source": [
    "## Convolutional Neural Network on MFCC"
   ]
  },
  {
   "cell_type": "markdown",
   "metadata": {},
   "source": [
    "Key idea: Use filters to extract key features from a series of adjacent MFCC slices"
   ]
  },
  {
   "cell_type": "code",
   "execution_count": 233,
   "metadata": {},
   "outputs": [
    {
     "data": {
      "text/plain": [
       "(12, 861)"
      ]
     },
     "execution_count": 233,
     "metadata": {},
     "output_type": "execute_result"
    }
   ],
   "source": [
    "y,sr=librosa.load(unified_dir+'spanish6.mp3.wav')\n",
    "librosa.feature.chroma_stft(y=y, sr=sr).shape"
   ]
  },
  {
   "cell_type": "code",
   "execution_count": 41,
   "metadata": {},
   "outputs": [
    {
     "data": {
      "text/plain": [
       "array([0.02146304, 0.01559818, 0.0085238 , ..., 0.05236012, 0.05111545,\n",
       "       0.04814873], dtype=float32)"
      ]
     },
     "execution_count": 41,
     "metadata": {},
     "output_type": "execute_result"
    }
   ],
   "source": [
    "y_stretched[:sr]"
   ]
  },
  {
   "cell_type": "code",
   "execution_count": 31,
   "metadata": {},
   "outputs": [
    {
     "name": "stdout",
     "output_type": "stream",
     "text": [
      "22050\n",
      "24.938231292517006\n"
     ]
    }
   ],
   "source": [
    "y,sr=librosa.load(unified_dir+'spanish12.mp3.wav')\n",
    "print(sr)\n",
    "print(librosa.get_duration(y=y,sr=sr))\n",
    "result1=librosa.feature.mfcc(y=y,hop_length=int(sr/100), n_fft=int(sr/40))"
   ]
  },
  {
   "cell_type": "code",
   "execution_count": 32,
   "metadata": {},
   "outputs": [
    {
     "name": "stdout",
     "output_type": "stream",
     "text": [
      "21.687437641723356\n"
     ]
    }
   ],
   "source": [
    "y,sr=librosa.load(unified_dir+'spanish6.mp3.wav')\n",
    "print(librosa.get_duration(y=y,sr=sr))\n",
    "result2=librosa.feature.mfcc(y=y,hop_length=int(sr/100), n_fft=int(sr/40))"
   ]
  },
  {
   "cell_type": "code",
   "execution_count": 39,
   "metadata": {
    "scrolled": true
   },
   "outputs": [
    {
     "data": {
      "text/plain": [
       "(20, 2055)"
      ]
     },
     "execution_count": 39,
     "metadata": {},
     "output_type": "execute_result"
    }
   ],
   "source": [
    "result1.shape"
   ]
  },
  {
   "cell_type": "code",
   "execution_count": 34,
   "metadata": {
    "scrolled": true
   },
   "outputs": [
    {
     "data": {
      "text/plain": [
       "(20, 2174)"
      ]
     },
     "execution_count": 34,
     "metadata": {},
     "output_type": "execute_result"
    }
   ],
   "source": [
    "result2.shape"
   ]
  },
  {
   "cell_type": "code",
   "execution_count": 43,
   "metadata": {},
   "outputs": [
    {
     "name": "stdout",
     "output_type": "stream",
     "text": [
      "22050\n",
      "19.989977324263037\n"
     ]
    }
   ],
   "source": [
    "y,sr=librosa.load(unified_dir+'spanish12.mp3.wav')\n",
    "print(sr)\n",
    "print(librosa.get_duration(y=y,sr=sr))\n",
    "result1=librosa.feature.mfcc(y=y,hop_length=int(sr/100), n_fft=int(sr/40))\n",
    "result1=librosa.feature.mfcc(y=y,hop_length=int(sr/100), n_fft=int(sr/40))"
   ]
  },
  {
   "cell_type": "markdown",
   "metadata": {},
   "source": [
    "### Extract MFCC"
   ]
  },
  {
   "cell_type": "code",
   "execution_count": 46,
   "metadata": {},
   "outputs": [
    {
     "data": {
      "text/plain": [
       "(20, 2004)"
      ]
     },
     "execution_count": 46,
     "metadata": {},
     "output_type": "execute_result"
    }
   ],
   "source": [
    "result1.shape"
   ]
  },
  {
   "cell_type": "code",
   "execution_count": 61,
   "metadata": {},
   "outputs": [],
   "source": [
    "mfcc_window_size=0.025\n",
    "mfcc_stride_size=0.01\n",
    "mfcc_num_of_features=14"
   ]
  },
  {
   "cell_type": "code",
   "execution_count": 62,
   "metadata": {},
   "outputs": [],
   "source": [
    "def extract_mfcc(fname):\n",
    "    y,sr=librosa.load(unified_dir+fname)\n",
    "    result=librosa.feature.mfcc(y=y,n_mfcc=mfcc_num_of_features,hop_length=int(mfcc_window_size*sr), n_fft=int(mfcc_stride_size*sr))\n",
    "    result=librosa.util.normalize(result)\n",
    "    #Add label as well\n",
    "    if 'mandarin' in fname:\n",
    "        label=0\n",
    "    elif 'english' in fname:\n",
    "        label=1\n",
    "    elif 'spanish' in fname:\n",
    "        label=2\n",
    "    else:\n",
    "        label=-1\n",
    "    return [result,label]"
   ]
  },
  {
   "cell_type": "code",
   "execution_count": 63,
   "metadata": {},
   "outputs": [],
   "source": [
    "result=Parallel(n_jobs=12)(delayed(extract_mfcc)(fname) for fname in os.listdir(unified_dir))"
   ]
  },
  {
   "cell_type": "code",
   "execution_count": 177,
   "metadata": {},
   "outputs": [],
   "source": [
    "X=[]\n",
    "y=[]\n",
    "for i in result:\n",
    "    X.append(i[0])\n",
    "    y.append(i[1])"
   ]
  },
  {
   "cell_type": "markdown",
   "metadata": {},
   "source": [
    "### Set up CNN Model"
   ]
  },
  {
   "cell_type": "markdown",
   "metadata": {},
   "source": [
    "<b> Model 1:</b> Directly fit on extracted MFCC features. Input shape is (14,800)"
   ]
  },
  {
   "cell_type": "code",
   "execution_count": 166,
   "metadata": {
    "scrolled": true
   },
   "outputs": [
    {
     "name": "stdout",
     "output_type": "stream",
     "text": [
      "(14, 800, 1)\n"
     ]
    }
   ],
   "source": [
    "#input_shape=X_all[:,:,0].shape\n",
    "input_shape=(14,800,1)\n",
    "print(input_shape)"
   ]
  },
  {
   "cell_type": "code",
   "execution_count": 178,
   "metadata": {},
   "outputs": [],
   "source": [
    "X_train, X_test, y_train, y_test=train_test_split(X, y, test_size=0.1)\n",
    "X_train=np.expand_dims(X_train,axis=3)\n",
    "X_test=np.expand_dims(X_test,axis=3)"
   ]
  },
  {
   "cell_type": "code",
   "execution_count": 179,
   "metadata": {},
   "outputs": [],
   "source": [
    "def change_input_format(X):\n",
    "    Xc=np.stack(X,axis=0)\n",
    "#     Xc=np.swapaxes(Xc,0,1)\n",
    "#     Xc=np.swapaxes(Xc,1,2)\n",
    "    return Xc"
   ]
  },
  {
   "cell_type": "code",
   "execution_count": 180,
   "metadata": {},
   "outputs": [],
   "source": [
    "X_train=change_input_format(X_train)\n",
    "X_test=change_input_format(X_test)\n",
    "y_train=np.array(y_train)\n",
    "y_test=np.array(y_test)"
   ]
  },
  {
   "cell_type": "code",
   "execution_count": 182,
   "metadata": {},
   "outputs": [
    {
     "data": {
      "text/plain": [
       "(60, 14, 800, 1)"
      ]
     },
     "execution_count": 182,
     "metadata": {},
     "output_type": "execute_result"
    }
   ],
   "source": [
    "X_test.shape"
   ]
  },
  {
   "cell_type": "code",
   "execution_count": 185,
   "metadata": {},
   "outputs": [
    {
     "data": {
      "text/plain": [
       "(540,)"
      ]
     },
     "execution_count": 185,
     "metadata": {},
     "output_type": "execute_result"
    }
   ],
   "source": [
    "y_train.shape"
   ]
  },
  {
   "cell_type": "code",
   "execution_count": 199,
   "metadata": {},
   "outputs": [],
   "source": [
    "def create_model1():\n",
    "    model1=models.Sequential()\n",
    "    model1.add(layers.Conv2D(32,kernel_size=(3,3),strides=(1,1),activation='relu',input_shape=input_shape))\n",
    "    model1.add(layers.MaxPooling2D((2, 2)))\n",
    "    model1.add(layers.Conv2D(64, (3, 3), activation='relu'))\n",
    "    model1.add(layers.MaxPooling2D((2, 2)))\n",
    "    model1.add(layers.Flatten())\n",
    "    model1.add(layers.Dense(64, activation='relu'))\n",
    "    model1.add(layers.Dense(3, activation='softmax'))\n",
    "    return model1"
   ]
  },
  {
   "cell_type": "code",
   "execution_count": 200,
   "metadata": {
    "scrolled": true
   },
   "outputs": [
    {
     "name": "stdout",
     "output_type": "stream",
     "text": [
      "Train on 540 samples, validate on 60 samples\n",
      "Epoch 1/50\n",
      "540/540 [==============================] - 2s 3ms/sample - loss: 0.9374 - accuracy: 0.5889 - val_loss: 0.8787 - val_accuracy: 0.6167\n",
      "Epoch 2/50\n",
      "540/540 [==============================] - 1s 2ms/sample - loss: 0.8885 - accuracy: 0.6222 - val_loss: 0.8546 - val_accuracy: 0.6167\n",
      "Epoch 3/50\n",
      "540/540 [==============================] - 1s 2ms/sample - loss: 0.9027 - accuracy: 0.6222 - val_loss: 0.8421 - val_accuracy: 0.6167\n",
      "Epoch 4/50\n",
      "540/540 [==============================] - 1s 2ms/sample - loss: 0.8604 - accuracy: 0.6222 - val_loss: 0.8221 - val_accuracy: 0.6167\n",
      "Epoch 5/50\n",
      "540/540 [==============================] - 1s 2ms/sample - loss: 0.8049 - accuracy: 0.6222 - val_loss: 0.7467 - val_accuracy: 0.6167\n",
      "Epoch 6/50\n",
      "540/540 [==============================] - 1s 2ms/sample - loss: 0.7735 - accuracy: 0.6759 - val_loss: 0.7194 - val_accuracy: 0.6167\n",
      "Epoch 7/50\n",
      "540/540 [==============================] - 1s 2ms/sample - loss: 0.6477 - accuracy: 0.7241 - val_loss: 0.6636 - val_accuracy: 0.8000\n",
      "Epoch 8/50\n",
      "540/540 [==============================] - 1s 2ms/sample - loss: 0.5465 - accuracy: 0.7815 - val_loss: 0.5187 - val_accuracy: 0.8500 0.5697 - accu\n",
      "Epoch 9/50\n",
      "540/540 [==============================] - 1s 2ms/sample - loss: 0.4119 - accuracy: 0.8611 - val_loss: 0.4377 - val_accuracy: 0.8667 - loss: 0.4228 - accuracy\n",
      "Epoch 10/50\n",
      "540/540 [==============================] - 1s 2ms/sample - loss: 0.3210 - accuracy: 0.8981 - val_loss: 0.3894 - val_accuracy: 0.8500\n",
      "Epoch 11/50\n",
      "540/540 [==============================] - 1s 2ms/sample - loss: 0.2522 - accuracy: 0.9241 - val_loss: 0.3517 - val_accuracy: 0.9000\n",
      "Epoch 12/50\n",
      "540/540 [==============================] - 1s 2ms/sample - loss: 0.1751 - accuracy: 0.9593 - val_loss: 0.3323 - val_accuracy: 0.9000\n",
      "Epoch 13/50\n",
      "540/540 [==============================] - 1s 2ms/sample - loss: 0.1480 - accuracy: 0.9611 - val_loss: 0.3175 - val_accuracy: 0.90000s - loss: 0.1436 - accu\n",
      "Epoch 14/50\n",
      "540/540 [==============================] - 1s 2ms/sample - loss: 0.1289 - accuracy: 0.9759 - val_loss: 0.3375 - val_accuracy: 0.9167\n",
      "Epoch 15/50\n",
      "540/540 [==============================] - 1s 2ms/sample - loss: 0.0648 - accuracy: 0.9963 - val_loss: 0.3150 - val_accuracy: 0.9000700 - accuracy: \n",
      "Epoch 16/50\n",
      "540/540 [==============================] - 1s 2ms/sample - loss: 0.0370 - accuracy: 0.9963 - val_loss: 0.3337 - val_accuracy: 0.9000\n",
      "Epoch 17/50\n",
      "540/540 [==============================] - 1s 2ms/sample - loss: 0.0441 - accuracy: 0.9889 - val_loss: 0.3281 - val_accuracy: 0.9000 0.0338 -  - ETA: 0s - loss: 0.0383 - accuracy: 0.99\n",
      "Epoch 18/50\n",
      "540/540 [==============================] - 1s 2ms/sample - loss: 0.0579 - accuracy: 0.9833 - val_loss: 0.3875 - val_accuracy: 0.8667\n",
      "Epoch 19/50\n",
      "540/540 [==============================] - 1s 2ms/sample - loss: 0.0378 - accuracy: 0.9981 - val_loss: 0.4019 - val_accuracy: 0.8500 loss: 0.0387 - accuracy\n",
      "Epoch 20/50\n",
      "540/540 [==============================] - 1s 2ms/sample - loss: 0.0177 - accuracy: 1.0000 - val_loss: 0.3499 - val_accuracy: 0.8833\n",
      "Epoch 21/50\n",
      "540/540 [==============================] - 1s 2ms/sample - loss: 0.0102 - accuracy: 1.0000 - val_loss: 0.3641 - val_accuracy: 0.9000\n",
      "Epoch 22/50\n",
      "540/540 [==============================] - 1s 2ms/sample - loss: 0.0072 - accuracy: 1.0000 - val_loss: 0.3895 - val_accuracy: 0.8833\n",
      "Epoch 23/50\n",
      "540/540 [==============================] - 1s 2ms/sample - loss: 0.0053 - accuracy: 1.0000 - val_loss: 0.3755 - val_accuracy: 0.9000\n",
      "Epoch 24/50\n",
      "540/540 [==============================] - 1s 2ms/sample - loss: 0.0041 - accuracy: 1.0000 - val_loss: 0.3819 - val_accuracy: 0.9000\n",
      "Epoch 25/50\n",
      "540/540 [==============================] - 1s 2ms/sample - loss: 0.0036 - accuracy: 1.0000 - val_loss: 0.3787 - val_accuracy: 0.8833\n",
      "Epoch 26/50\n",
      "540/540 [==============================] - 1s 2ms/sample - loss: 0.0033 - accuracy: 1.0000 - val_loss: 0.3919 - val_accuracy: 0.8833\n",
      "Epoch 27/50\n",
      "540/540 [==============================] - 1s 2ms/sample - loss: 0.0031 - accuracy: 1.0000 - val_loss: 0.3862 - val_accuracy: 0.8833\n",
      "Epoch 28/50\n",
      "540/540 [==============================] - 1s 2ms/sample - loss: 0.0029 - accuracy: 1.0000 - val_loss: 0.3956 - val_accuracy: 0.8833\n",
      "Epoch 29/50\n",
      "540/540 [==============================] - 1s 2ms/sample - loss: 0.0023 - accuracy: 1.0000 - val_loss: 0.3989 - val_accuracy: 0.8833\n",
      "Epoch 30/50\n",
      "540/540 [==============================] - 1s 2ms/sample - loss: 0.0021 - accuracy: 1.0000 - val_loss: 0.4016 - val_accuracy: 0.8833\n",
      "Epoch 31/50\n",
      "540/540 [==============================] - 1s 2ms/sample - loss: 0.0019 - accuracy: 1.0000 - val_loss: 0.4116 - val_accuracy: 0.90009 - accuracy: \n",
      "Epoch 32/50\n",
      "540/540 [==============================] - 1s 2ms/sample - loss: 0.0017 - accuracy: 1.0000 - val_loss: 0.4067 - val_accuracy: 0.8833\n",
      "Epoch 33/50\n",
      "540/540 [==============================] - 1s 2ms/sample - loss: 0.0016 - accuracy: 1.0000 - val_loss: 0.4154 - val_accuracy: 0.8833\n",
      "Epoch 34/50\n",
      "540/540 [==============================] - 1s 2ms/sample - loss: 0.0016 - accuracy: 1.0000 - val_loss: 0.4189 - val_accuracy: 0.8833\n",
      "Epoch 35/50\n",
      "540/540 [==============================] - 1s 2ms/sample - loss: 0.0014 - accuracy: 1.0000 - val_loss: 0.4251 - val_accuracy: 0.9000\n",
      "Epoch 36/50\n",
      "540/540 [==============================] - 1s 2ms/sample - loss: 0.0013 - accuracy: 1.0000 - val_loss: 0.4245 - val_accuracy: 0.8833\n",
      "Epoch 37/50\n",
      "540/540 [==============================] - 1s 2ms/sample - loss: 0.0012 - accuracy: 1.0000 - val_loss: 0.4285 - val_accuracy: 0.8833012 - accuracy: 1.00 - ETA: 0s - loss: 0.0012 - accuracy: \n",
      "Epoch 38/50\n",
      "540/540 [==============================] - 1s 2ms/sample - loss: 0.0012 - accuracy: 1.0000 - val_loss: 0.4443 - val_accuracy: 0.9000 loss: 0.0012 - ac\n",
      "Epoch 39/50\n",
      "540/540 [==============================] - 1s 2ms/sample - loss: 0.0012 - accuracy: 1.0000 - val_loss: 0.4284 - val_accuracy: 0.8833TA: 0s - loss: 0.0011 - accura\n",
      "Epoch 40/50\n",
      "540/540 [==============================] - 1s 2ms/sample - loss: 0.0011 - accuracy: 1.0000 - val_loss: 0.4306 - val_accuracy: 0.8833\n",
      "Epoch 41/50\n",
      "540/540 [==============================] - 1s 2ms/sample - loss: 9.3205e-04 - accuracy: 1.0000 - val_loss: 0.4343 - val_accuracy: 0.8833s: 9.3060e-04 - accuracy: 1.00\n",
      "Epoch 42/50\n",
      "540/540 [==============================] - 1s 2ms/sample - loss: 8.7580e-04 - accuracy: 1.0000 - val_loss: 0.4379 - val_accuracy: 0.8833\n",
      "Epoch 43/50\n",
      "540/540 [==============================] - 1s 2ms/sample - loss: 8.2665e-04 - accuracy: 1.0000 - val_loss: 0.4405 - val_accuracy: 0.8833\n",
      "Epoch 44/50\n",
      "540/540 [==============================] - 1s 2ms/sample - loss: 7.8720e-04 - accuracy: 1.0000 - val_loss: 0.4408 - val_accuracy: 0.9000\n",
      "Epoch 45/50\n",
      "540/540 [==============================] - 1s 2ms/sample - loss: 7.4625e-04 - accuracy: 1.0000 - val_loss: 0.4458 - val_accuracy: 0.8833\n",
      "Epoch 46/50\n",
      "540/540 [==============================] - 1s 2ms/sample - loss: 7.1319e-04 - accuracy: 1.0000 - val_loss: 0.4428 - val_accuracy: 0.8833\n",
      "Epoch 47/50\n",
      "540/540 [==============================] - 1s 2ms/sample - loss: 6.7499e-04 - accuracy: 1.0000 - val_loss: 0.4495 - val_accuracy: 0.8833s: 6.8127e-04 - accuracy: 1.\n",
      "Epoch 48/50\n",
      "540/540 [==============================] - 1s 2ms/sample - loss: 6.5622e-04 - accuracy: 1.0000 - val_loss: 0.4513 - val_accuracy: 0.8833\n",
      "Epoch 49/50\n",
      "540/540 [==============================] - 1s 2ms/sample - loss: 6.1956e-04 - accuracy: 1.0000 - val_loss: 0.4538 - val_accuracy: 0.8833 6.3270e-04 - accuracy: 1.\n",
      "Epoch 50/50\n",
      "540/540 [==============================] - 1s 2ms/sample - loss: 5.8748e-04 - accuracy: 1.0000 - val_loss: 0.4517 - val_accuracy: 0.8833\n"
     ]
    }
   ],
   "source": [
    "model1=create_model1()\n",
    "model1.compile(optimizer='adam',\n",
    "              loss='sparse_categorical_crossentropy',\n",
    "              metrics=['accuracy'])\n",
    "history = model1.fit(X_train, y_train, epochs=50, \n",
    "                    validation_data=(X_test, y_test))"
   ]
  },
  {
   "cell_type": "code",
   "execution_count": 225,
   "metadata": {},
   "outputs": [],
   "source": [
    "def create_model2():\n",
    "    model1=models.Sequential()\n",
    "    model1.add(layers.Conv2D(32,kernel_size=(5,5),strides=(1,1),activation='relu',input_shape=input_shape))\n",
    "    model1.add(layers.MaxPooling2D((2, 2)))\n",
    "    model1.add(layers.Conv2D(64, (3, 3), activation='relu'))\n",
    "    model1.add(layers.MaxPooling2D((2, 2)))\n",
    "    model1.add(layers.Flatten())\n",
    "    model1.add(layers.Dense(64, activation='relu'))\n",
    "    model1.add(layers.Dense(3, activation='softmax'))\n",
    "    return model1"
   ]
  },
  {
   "cell_type": "code",
   "execution_count": 229,
   "metadata": {},
   "outputs": [
    {
     "name": "stdout",
     "output_type": "stream",
     "text": [
      "[0 1 2 2 0 1 1 1 1 1 1 2 1 1 1 2 1 2 2 1 1 1 2 2 2 1 1 1 2 2 1 2 2 1 1 2 2\n",
      " 0 2 0 1 1 1 1 1 1 2 1 1 1 1 1 1 1 1 0 1 1 2 1]\n"
     ]
    }
   ],
   "source": [
    "print(y_test)"
   ]
  },
  {
   "cell_type": "code",
   "execution_count": 226,
   "metadata": {
    "scrolled": true
   },
   "outputs": [
    {
     "name": "stdout",
     "output_type": "stream",
     "text": [
      "Train on 540 samples, validate on 60 samples\n",
      "Epoch 1/50\n",
      "540/540 [==============================] - 1s 2ms/sample - loss: 0.9190 - accuracy: 0.6148 - val_loss: 0.8633 - val_accuracy: 0.6167\n",
      "Epoch 2/50\n",
      "540/540 [==============================] - 1s 1ms/sample - loss: 0.8756 - accuracy: 0.6222 - val_loss: 0.8122 - val_accuracy: 0.6167\n",
      "Epoch 3/50\n",
      "540/540 [==============================] - 1s 1ms/sample - loss: 0.8373 - accuracy: 0.6352 - val_loss: 0.7953 - val_accuracy: 0.7333\n",
      "Epoch 4/50\n",
      "540/540 [==============================] - 1s 1ms/sample - loss: 0.8251 - accuracy: 0.6852 - val_loss: 0.7375 - val_accuracy: 0.75000s - loss: 0.8295 - accuracy: 0.68\n",
      "Epoch 5/50\n",
      "540/540 [==============================] - 1s 1ms/sample - loss: 0.7279 - accuracy: 0.7074 - val_loss: 0.6229 - val_accuracy: 0.8000\n",
      "Epoch 6/50\n",
      "540/540 [==============================] - 1s 1ms/sample - loss: 0.6271 - accuracy: 0.7352 - val_loss: 0.5757 - val_accuracy: 0.7000\n",
      "Epoch 7/50\n",
      "540/540 [==============================] - 1s 1ms/sample - loss: 0.5166 - accuracy: 0.7926 - val_loss: 0.4427 - val_accuracy: 0.8500\n",
      "Epoch 8/50\n",
      "540/540 [==============================] - 1s 1ms/sample - loss: 0.4013 - accuracy: 0.8519 - val_loss: 0.4053 - val_accuracy: 0.8500\n",
      "Epoch 9/50\n",
      "540/540 [==============================] - 1s 1ms/sample - loss: 0.3261 - accuracy: 0.8926 - val_loss: 0.3818 - val_accuracy: 0.8500\n",
      "Epoch 10/50\n",
      "540/540 [==============================] - 1s 1ms/sample - loss: 0.2474 - accuracy: 0.9259 - val_loss: 0.3343 - val_accuracy: 0.8667\n",
      "Epoch 11/50\n",
      "540/540 [==============================] - 1s 1ms/sample - loss: 0.2006 - accuracy: 0.9463 - val_loss: 0.2875 - val_accuracy: 0.9167\n",
      "Epoch 12/50\n",
      "540/540 [==============================] - 1s 1ms/sample - loss: 0.1236 - accuracy: 0.9667 - val_loss: 0.3947 - val_accuracy: 0.8500\n",
      "Epoch 13/50\n",
      "540/540 [==============================] - 1s 1ms/sample - loss: 0.0960 - accuracy: 0.9796 - val_loss: 0.3203 - val_accuracy: 0.8833\n",
      "Epoch 14/50\n",
      "540/540 [==============================] - 1s 1ms/sample - loss: 0.0474 - accuracy: 0.9963 - val_loss: 0.2743 - val_accuracy: 0.9333\n",
      "Epoch 15/50\n",
      "540/540 [==============================] - 1s 1ms/sample - loss: 0.0284 - accuracy: 0.9981 - val_loss: 0.2907 - val_accuracy: 0.9167\n",
      "Epoch 16/50\n",
      "540/540 [==============================] - 1s 1ms/sample - loss: 0.0211 - accuracy: 1.0000 - val_loss: 0.3208 - val_accuracy: 0.8833\n",
      "Epoch 17/50\n",
      "540/540 [==============================] - 1s 1ms/sample - loss: 0.0145 - accuracy: 1.0000 - val_loss: 0.2894 - val_accuracy: 0.9333\n",
      "Epoch 18/50\n",
      "540/540 [==============================] - 1s 1ms/sample - loss: 0.0098 - accuracy: 1.0000 - val_loss: 0.2991 - val_accuracy: 0.9500\n",
      "Epoch 19/50\n",
      "540/540 [==============================] - 1s 1ms/sample - loss: 0.0076 - accuracy: 1.0000 - val_loss: 0.3115 - val_accuracy: 0.9167\n",
      "Epoch 20/50\n",
      "540/540 [==============================] - 1s 1ms/sample - loss: 0.0055 - accuracy: 1.0000 - val_loss: 0.3259 - val_accuracy: 0.9000\n",
      "Epoch 21/50\n",
      "540/540 [==============================] - 1s 1ms/sample - loss: 0.0041 - accuracy: 1.0000 - val_loss: 0.3129 - val_accuracy: 0.9167\n",
      "Epoch 22/50\n",
      "540/540 [==============================] - 1s 1ms/sample - loss: 0.0035 - accuracy: 1.0000 - val_loss: 0.3136 - val_accuracy: 0.9500\n",
      "Epoch 23/50\n",
      "540/540 [==============================] - 1s 1ms/sample - loss: 0.0030 - accuracy: 1.0000 - val_loss: 0.3215 - val_accuracy: 0.9333\n",
      "Epoch 24/50\n",
      "540/540 [==============================] - 1s 1ms/sample - loss: 0.0026 - accuracy: 1.0000 - val_loss: 0.3278 - val_accuracy: 0.9333\n",
      "Epoch 25/50\n",
      "540/540 [==============================] - 1s 1ms/sample - loss: 0.0023 - accuracy: 1.0000 - val_loss: 0.3468 - val_accuracy: 0.8833\n",
      "Epoch 26/50\n",
      "540/540 [==============================] - 1s 1ms/sample - loss: 0.0021 - accuracy: 1.0000 - val_loss: 0.3378 - val_accuracy: 0.9167\n",
      "Epoch 27/50\n",
      "540/540 [==============================] - 1s 1ms/sample - loss: 0.0019 - accuracy: 1.0000 - val_loss: 0.3300 - val_accuracy: 0.9333\n",
      "Epoch 28/50\n",
      "540/540 [==============================] - 1s 1ms/sample - loss: 0.0017 - accuracy: 1.0000 - val_loss: 0.3365 - val_accuracy: 0.9333\n",
      "Epoch 29/50\n",
      "540/540 [==============================] - 1s 1ms/sample - loss: 0.0016 - accuracy: 1.0000 - val_loss: 0.3456 - val_accuracy: 0.9000\n",
      "Epoch 30/50\n",
      "540/540 [==============================] - 1s 1ms/sample - loss: 0.0014 - accuracy: 1.0000 - val_loss: 0.3505 - val_accuracy: 0.9000\n",
      "Epoch 31/50\n",
      "540/540 [==============================] - 1s 1ms/sample - loss: 0.0013 - accuracy: 1.0000 - val_loss: 0.3647 - val_accuracy: 0.8833\n",
      "Epoch 32/50\n",
      "540/540 [==============================] - 1s 1ms/sample - loss: 0.0012 - accuracy: 1.0000 - val_loss: 0.3548 - val_accuracy: 0.9167\n",
      "Epoch 33/50\n",
      "540/540 [==============================] - 1s 1ms/sample - loss: 0.0011 - accuracy: 1.0000 - val_loss: 0.3451 - val_accuracy: 0.9333\n",
      "Epoch 34/50\n",
      "540/540 [==============================] - 1s 1ms/sample - loss: 0.0010 - accuracy: 1.0000 - val_loss: 0.3574 - val_accuracy: 0.9000\n",
      "Epoch 35/50\n",
      "540/540 [==============================] - 1s 1ms/sample - loss: 9.3855e-04 - accuracy: 1.0000 - val_loss: 0.3525 - val_accuracy: 0.9333\n",
      "Epoch 36/50\n",
      "540/540 [==============================] - 1s 1ms/sample - loss: 8.6172e-04 - accuracy: 1.0000 - val_loss: 0.3530 - val_accuracy: 0.9333\n",
      "Epoch 37/50\n",
      "540/540 [==============================] - 1s 1ms/sample - loss: 8.0003e-04 - accuracy: 1.0000 - val_loss: 0.3679 - val_accuracy: 0.8833\n",
      "Epoch 38/50\n",
      "540/540 [==============================] - 1s 1ms/sample - loss: 7.8885e-04 - accuracy: 1.0000 - val_loss: 0.3703 - val_accuracy: 0.8833\n",
      "Epoch 39/50\n",
      "540/540 [==============================] - 1s 1ms/sample - loss: 7.1496e-04 - accuracy: 1.0000 - val_loss: 0.3642 - val_accuracy: 0.9333\n",
      "Epoch 40/50\n",
      "540/540 [==============================] - 1s 1ms/sample - loss: 6.6970e-04 - accuracy: 1.0000 - val_loss: 0.3623 - val_accuracy: 0.9333\n",
      "Epoch 41/50\n",
      "540/540 [==============================] - 1s 1ms/sample - loss: 6.3165e-04 - accuracy: 1.0000 - val_loss: 0.3645 - val_accuracy: 0.9167\n",
      "Epoch 42/50\n",
      "540/540 [==============================] - 1s 1ms/sample - loss: 6.1780e-04 - accuracy: 1.0000 - val_loss: 0.3882 - val_accuracy: 0.8833\n",
      "Epoch 43/50\n",
      "540/540 [==============================] - 1s 1ms/sample - loss: 5.6419e-04 - accuracy: 1.0000 - val_loss: 0.3674 - val_accuracy: 0.9333\n",
      "Epoch 44/50\n",
      "540/540 [==============================] - 1s 1ms/sample - loss: 5.2968e-04 - accuracy: 1.0000 - val_loss: 0.3728 - val_accuracy: 0.9333TA: 0s - loss: 5.1871e-04 - accu\n",
      "Epoch 45/50\n",
      "540/540 [==============================] - ETA: 0s - loss: 4.7804e-04 - accuracy: 1.00 - 1s 1ms/sample - loss: 4.9709e-04 - accuracy: 1.0000 - val_loss: 0.3723 - val_accuracy: 0.9333\n",
      "Epoch 46/50\n",
      "540/540 [==============================] - 1s 1ms/sample - loss: 4.6831e-04 - accuracy: 1.0000 - val_loss: 0.3754 - val_accuracy: 0.9333\n",
      "Epoch 47/50\n",
      "540/540 [==============================] - 1s 1ms/sample - loss: 4.4626e-04 - accuracy: 1.0000 - val_loss: 0.3798 - val_accuracy: 0.9000\n",
      "Epoch 48/50\n",
      "540/540 [==============================] - 1s 1ms/sample - loss: 4.2392e-04 - accuracy: 1.0000 - val_loss: 0.3768 - val_accuracy: 0.9333\n",
      "Epoch 49/50\n",
      "540/540 [==============================] - 1s 1ms/sample - loss: 4.0687e-04 - accuracy: 1.0000 - val_loss: 0.3821 - val_accuracy: 0.9000\n",
      "Epoch 50/50\n",
      "540/540 [==============================] - 1s 1ms/sample - loss: 3.8707e-04 - accuracy: 1.0000 - val_loss: 0.3911 - val_accuracy: 0.8833\n"
     ]
    }
   ],
   "source": [
    "model2=create_model2()\n",
    "model2.compile(optimizer='adam',\n",
    "              loss='sparse_categorical_crossentropy',\n",
    "              metrics=['accuracy'])\n",
    "history = model2.fit(X_train, y_train, epochs=50, \n",
    "                    validation_data=(X_test, y_test))"
   ]
  },
  {
   "cell_type": "code",
   "execution_count": 227,
   "metadata": {},
   "outputs": [],
   "source": [
    "def create_model3():\n",
    "    model1=models.Sequential()\n",
    "    model1.add(layers.Conv2D(32,kernel_size=(14,5),strides=(1,1),activation='relu',input_shape=input_shape))\n",
    "    model1.add(layers.MaxPooling2D((1, 2)))\n",
    "    model1.add(layers.Flatten())\n",
    "    model1.add(layers.Dense(32, activation='relu'))\n",
    "    model1.add(layers.Dense(3, activation='softmax'))\n",
    "    return model1"
   ]
  },
  {
   "cell_type": "code",
   "execution_count": 228,
   "metadata": {},
   "outputs": [
    {
     "name": "stdout",
     "output_type": "stream",
     "text": [
      "Train on 540 samples, validate on 60 samples\n",
      "Epoch 1/50\n",
      "540/540 [==============================] - 1s 1ms/sample - loss: 0.9283 - accuracy: 0.5759 - val_loss: 0.8729 - val_accuracy: 0.6167\n",
      "Epoch 2/50\n",
      "540/540 [==============================] - 0s 191us/sample - loss: 0.8890 - accuracy: 0.6222 - val_loss: 0.8635 - val_accuracy: 0.6167\n",
      "Epoch 3/50\n",
      "540/540 [==============================] - 0s 178us/sample - loss: 0.8754 - accuracy: 0.6222 - val_loss: 0.8386 - val_accuracy: 0.6167\n",
      "Epoch 4/50\n",
      "540/540 [==============================] - 0s 174us/sample - loss: 0.8572 - accuracy: 0.6222 - val_loss: 0.8172 - val_accuracy: 0.6167\n",
      "Epoch 5/50\n",
      "540/540 [==============================] - 0s 181us/sample - loss: 0.8273 - accuracy: 0.6222 - val_loss: 0.7818 - val_accuracy: 0.6167\n",
      "Epoch 6/50\n",
      "540/540 [==============================] - 0s 179us/sample - loss: 0.7799 - accuracy: 0.6278 - val_loss: 0.7535 - val_accuracy: 0.6167\n",
      "Epoch 7/50\n",
      "540/540 [==============================] - 0s 185us/sample - loss: 0.7328 - accuracy: 0.6574 - val_loss: 0.7004 - val_accuracy: 0.6667\n",
      "Epoch 8/50\n",
      "540/540 [==============================] - 0s 183us/sample - loss: 0.6884 - accuracy: 0.7093 - val_loss: 0.6569 - val_accuracy: 0.6667\n",
      "Epoch 9/50\n",
      "540/540 [==============================] - 0s 179us/sample - loss: 0.6195 - accuracy: 0.7333 - val_loss: 0.5870 - val_accuracy: 0.7667\n",
      "Epoch 10/50\n",
      "540/540 [==============================] - 0s 183us/sample - loss: 0.5836 - accuracy: 0.7667 - val_loss: 0.5511 - val_accuracy: 0.8333\n",
      "Epoch 11/50\n",
      "540/540 [==============================] - 0s 188us/sample - loss: 0.5281 - accuracy: 0.7889 - val_loss: 0.5386 - val_accuracy: 0.7667\n",
      "Epoch 12/50\n",
      "540/540 [==============================] - 0s 196us/sample - loss: 0.5362 - accuracy: 0.7852 - val_loss: 0.5514 - val_accuracy: 0.7333\n",
      "Epoch 13/50\n",
      "540/540 [==============================] - 0s 188us/sample - loss: 0.4513 - accuracy: 0.8370 - val_loss: 0.4424 - val_accuracy: 0.8167\n",
      "Epoch 14/50\n",
      "540/540 [==============================] - 0s 181us/sample - loss: 0.4042 - accuracy: 0.8667 - val_loss: 0.4138 - val_accuracy: 0.9000\n",
      "Epoch 15/50\n",
      "540/540 [==============================] - 0s 179us/sample - loss: 0.3666 - accuracy: 0.8796 - val_loss: 0.4327 - val_accuracy: 0.8667\n",
      "Epoch 16/50\n",
      "540/540 [==============================] - 0s 174us/sample - loss: 0.3253 - accuracy: 0.8944 - val_loss: 0.3554 - val_accuracy: 0.8833\n",
      "Epoch 17/50\n",
      "540/540 [==============================] - 0s 175us/sample - loss: 0.2980 - accuracy: 0.9130 - val_loss: 0.3385 - val_accuracy: 0.9167\n",
      "Epoch 18/50\n",
      "540/540 [==============================] - 0s 175us/sample - loss: 0.2688 - accuracy: 0.9259 - val_loss: 0.3835 - val_accuracy: 0.8500\n",
      "Epoch 19/50\n",
      "540/540 [==============================] - 0s 175us/sample - loss: 0.2613 - accuracy: 0.9222 - val_loss: 0.3585 - val_accuracy: 0.8833\n",
      "Epoch 20/50\n",
      "540/540 [==============================] - 0s 174us/sample - loss: 0.2402 - accuracy: 0.9389 - val_loss: 0.3049 - val_accuracy: 0.9500\n",
      "Epoch 21/50\n",
      "540/540 [==============================] - 0s 192us/sample - loss: 0.2371 - accuracy: 0.9241 - val_loss: 0.3427 - val_accuracy: 0.8667\n",
      "Epoch 22/50\n",
      "540/540 [==============================] - 0s 194us/sample - loss: 0.1884 - accuracy: 0.9611 - val_loss: 0.3210 - val_accuracy: 0.8833\n",
      "Epoch 23/50\n",
      "540/540 [==============================] - 0s 192us/sample - loss: 0.1715 - accuracy: 0.9704 - val_loss: 0.3233 - val_accuracy: 0.8833\n",
      "Epoch 24/50\n",
      "540/540 [==============================] - 0s 175us/sample - loss: 0.1511 - accuracy: 0.9722 - val_loss: 0.3084 - val_accuracy: 0.8833\n",
      "Epoch 25/50\n",
      "540/540 [==============================] - 0s 174us/sample - loss: 0.1440 - accuracy: 0.9685 - val_loss: 0.3070 - val_accuracy: 0.9000\n",
      "Epoch 26/50\n",
      "540/540 [==============================] - 0s 177us/sample - loss: 0.1244 - accuracy: 0.9833 - val_loss: 0.3167 - val_accuracy: 0.8833\n",
      "Epoch 27/50\n",
      "540/540 [==============================] - 0s 177us/sample - loss: 0.1129 - accuracy: 0.9870 - val_loss: 0.3111 - val_accuracy: 0.9000\n",
      "Epoch 28/50\n",
      "540/540 [==============================] - 0s 192us/sample - loss: 0.1049 - accuracy: 0.9833 - val_loss: 0.3276 - val_accuracy: 0.9000\n",
      "Epoch 29/50\n",
      "540/540 [==============================] - 0s 199us/sample - loss: 0.0921 - accuracy: 0.9870 - val_loss: 0.3242 - val_accuracy: 0.8833\n",
      "Epoch 30/50\n",
      "540/540 [==============================] - 0s 181us/sample - loss: 0.0823 - accuracy: 0.9907 - val_loss: 0.3357 - val_accuracy: 0.8833\n",
      "Epoch 31/50\n",
      "540/540 [==============================] - 0s 178us/sample - loss: 0.0761 - accuracy: 0.9926 - val_loss: 0.3255 - val_accuracy: 0.9000\n",
      "Epoch 32/50\n",
      "540/540 [==============================] - 0s 175us/sample - loss: 0.0685 - accuracy: 0.9907 - val_loss: 0.3144 - val_accuracy: 0.8667\n",
      "Epoch 33/50\n",
      "540/540 [==============================] - 0s 172us/sample - loss: 0.0654 - accuracy: 0.9963 - val_loss: 0.3396 - val_accuracy: 0.8833\n",
      "Epoch 34/50\n",
      "540/540 [==============================] - 0s 172us/sample - loss: 0.0601 - accuracy: 0.9963 - val_loss: 0.3214 - val_accuracy: 0.8833\n",
      "Epoch 35/50\n",
      "540/540 [==============================] - 0s 164us/sample - loss: 0.0538 - accuracy: 0.9981 - val_loss: 0.3417 - val_accuracy: 0.8500\n",
      "Epoch 36/50\n",
      "540/540 [==============================] - 0s 185us/sample - loss: 0.0488 - accuracy: 0.9981 - val_loss: 0.3538 - val_accuracy: 0.8833\n",
      "Epoch 37/50\n",
      "540/540 [==============================] - 0s 174us/sample - loss: 0.0494 - accuracy: 0.9963 - val_loss: 0.3762 - val_accuracy: 0.8667\n",
      "Epoch 38/50\n",
      "540/540 [==============================] - 0s 174us/sample - loss: 0.0538 - accuracy: 0.9926 - val_loss: 0.3411 - val_accuracy: 0.8833\n",
      "Epoch 39/50\n",
      "540/540 [==============================] - 0s 175us/sample - loss: 0.0413 - accuracy: 0.9963 - val_loss: 0.3703 - val_accuracy: 0.8833\n",
      "Epoch 40/50\n",
      "540/540 [==============================] - 0s 168us/sample - loss: 0.0352 - accuracy: 0.9981 - val_loss: 0.3538 - val_accuracy: 0.8667\n",
      "Epoch 41/50\n",
      "540/540 [==============================] - 0s 175us/sample - loss: 0.0329 - accuracy: 0.9981 - val_loss: 0.3665 - val_accuracy: 0.8667\n",
      "Epoch 42/50\n",
      "540/540 [==============================] - 0s 168us/sample - loss: 0.0279 - accuracy: 0.9981 - val_loss: 0.3680 - val_accuracy: 0.8667\n",
      "Epoch 43/50\n",
      "540/540 [==============================] - 0s 166us/sample - loss: 0.0266 - accuracy: 1.0000 - val_loss: 0.3772 - val_accuracy: 0.8500\n",
      "Epoch 44/50\n",
      "540/540 [==============================] - 0s 172us/sample - loss: 0.0266 - accuracy: 1.0000 - val_loss: 0.3915 - val_accuracy: 0.8667\n",
      "Epoch 45/50\n",
      "540/540 [==============================] - 0s 168us/sample - loss: 0.0271 - accuracy: 0.9981 - val_loss: 0.4938 - val_accuracy: 0.8333\n",
      "Epoch 46/50\n",
      "540/540 [==============================] - 0s 175us/sample - loss: 0.0304 - accuracy: 0.9981 - val_loss: 0.4108 - val_accuracy: 0.8667\n",
      "Epoch 47/50\n",
      "540/540 [==============================] - 0s 186us/sample - loss: 0.0235 - accuracy: 0.9981 - val_loss: 0.4049 - val_accuracy: 0.8500\n",
      "Epoch 48/50\n",
      "540/540 [==============================] - 0s 179us/sample - loss: 0.0172 - accuracy: 1.0000 - val_loss: 0.4038 - val_accuracy: 0.8667\n",
      "Epoch 49/50\n",
      "540/540 [==============================] - 0s 192us/sample - loss: 0.0158 - accuracy: 1.0000 - val_loss: 0.4064 - val_accuracy: 0.8500\n",
      "Epoch 50/50\n",
      "540/540 [==============================] - 0s 192us/sample - loss: 0.0148 - accuracy: 1.0000 - val_loss: 0.4078 - val_accuracy: 0.8500\n"
     ]
    }
   ],
   "source": [
    "model3=create_model3()\n",
    "model3.compile(optimizer='adam',\n",
    "              loss='sparse_categorical_crossentropy',\n",
    "              metrics=['accuracy'])\n",
    "history = model3.fit(X_train, y_train, epochs=50, \n",
    "                    validation_data=(X_test, y_test))"
   ]
  },
  {
   "cell_type": "markdown",
   "metadata": {},
   "source": [
    "## Convolutional Neural Network on Chroma"
   ]
  },
  {
   "cell_type": "markdown",
   "metadata": {},
   "source": [
    "### Extract Chroma"
   ]
  },
  {
   "cell_type": "code",
   "execution_count": null,
   "metadata": {},
   "outputs": [],
   "source": [
    "def get_chroma(fname):\n",
    "    y,sr=librosa.load(unified_dir+fname)\n",
    "    return librosa.feature.chroma_stft(y=y, sr=sr).shape"
   ]
  }
 ],
 "metadata": {
  "kernelspec": {
   "display_name": "Python 3",
   "language": "python",
   "name": "python3"
  },
  "language_info": {
   "codemirror_mode": {
    "name": "ipython",
    "version": 3
   },
   "file_extension": ".py",
   "mimetype": "text/x-python",
   "name": "python",
   "nbconvert_exporter": "python",
   "pygments_lexer": "ipython3",
   "version": "3.7.5"
  }
 },
 "nbformat": 4,
 "nbformat_minor": 2
}
