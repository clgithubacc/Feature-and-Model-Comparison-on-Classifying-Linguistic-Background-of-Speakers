{
 "cells": [
  {
   "cell_type": "code",
   "execution_count": 268,
   "metadata": {},
   "outputs": [],
   "source": [
    "import librosa\n",
    "import numpy as np\n",
    "import shutil\n",
    "import os\n",
    "import re\n",
    "from joblib import Parallel, delayed\n",
    "import multiprocessing \n",
    "import matplotlib.pyplot as plt\n",
    "import scipy\n",
    "import tensorflow as tf\n",
    "from tensorflow.keras import layers, models\n",
    "from sklearn.model_selection import train_test_split\n",
    "from scipy import stats\n",
    "import sklearn.metrics as metrices\n",
    "import seaborn as sns\n",
    "import librosa.display\n",
    "from sklearn.neighbors import KNeighborsClassifier as KNN"
   ]
  },
  {
   "cell_type": "code",
   "execution_count": 305,
   "metadata": {},
   "outputs": [],
   "source": [
    "raw_dir='recordings/selected_recordings/'\n",
    "silence_removed_dir='recordings/silence_removed/'\n",
    "unified_dir='recordings/unified_equal/'"
   ]
  },
  {
   "cell_type": "code",
   "execution_count": 306,
   "metadata": {},
   "outputs": [],
   "source": [
    "mfcc_window_size=0.03\n",
    "mfcc_stride_size=0.007\n",
    "mfcc_num_of_features=13"
   ]
  },
  {
   "cell_type": "code",
   "execution_count": 307,
   "metadata": {},
   "outputs": [],
   "source": [
    "def extract_mfcc(fname):\n",
    "    y,sr=librosa.load(unified_dir+fname)\n",
    "    result=librosa.feature.mfcc(y=y,n_mfcc=mfcc_num_of_features,hop_length=int(mfcc_window_size*sr), n_fft=int(mfcc_stride_size*sr))\n",
    "    #result=librosa.util.normalize(result)\n",
    "    #Add label as well\n",
    "    if 'mandarin' in fname:\n",
    "        label=0\n",
    "    elif 'english' in fname:\n",
    "        label=1\n",
    "    elif 'spanish' in fname:\n",
    "        label=2\n",
    "    else:\n",
    "        label=-1\n",
    "    return [result,label]"
   ]
  },
  {
   "cell_type": "code",
   "execution_count": 308,
   "metadata": {},
   "outputs": [],
   "source": [
    "result=Parallel(n_jobs=12)(delayed(extract_mfcc)(fname) for fname in os.listdir(unified_dir))"
   ]
  },
  {
   "cell_type": "code",
   "execution_count": 309,
   "metadata": {},
   "outputs": [],
   "source": [
    "X=[]\n",
    "y=[]\n",
    "for i in result:\n",
    "    X.append(i[0].T)\n",
    "    y.append(i[1])"
   ]
  },
  {
   "cell_type": "code",
   "execution_count": 310,
   "metadata": {},
   "outputs": [],
   "source": [
    "X_train, X_test, y_train, y_test=train_test_split(X, y, test_size=0.1)"
   ]
  },
  {
   "cell_type": "code",
   "execution_count": 311,
   "metadata": {},
   "outputs": [
    {
     "name": "stdout",
     "output_type": "stream",
     "text": [
      "(667, 13)\n",
      "(667, 13)\n",
      "(667, 13)\n",
      "(667, 13)\n",
      "(667, 13)\n",
      "(667, 13)\n",
      "(667, 13)\n",
      "(667, 13)\n",
      "(667, 13)\n",
      "(667, 13)\n",
      "(667, 13)\n",
      "(667, 13)\n",
      "(667, 13)\n",
      "(667, 13)\n",
      "(667, 13)\n",
      "(667, 13)\n",
      "(667, 13)\n",
      "(667, 13)\n",
      "(667, 13)\n",
      "(667, 13)\n",
      "(667, 13)\n",
      "(667, 13)\n",
      "(667, 13)\n",
      "(667, 13)\n",
      "(667, 13)\n",
      "(667, 13)\n",
      "(667, 13)\n",
      "(667, 13)\n",
      "(667, 13)\n",
      "(667, 13)\n",
      "(667, 13)\n",
      "(667, 13)\n",
      "(667, 13)\n",
      "(667, 13)\n",
      "(667, 13)\n",
      "(667, 13)\n",
      "(667, 13)\n",
      "(667, 13)\n",
      "(667, 13)\n",
      "(667, 13)\n",
      "(667, 13)\n",
      "(667, 13)\n",
      "(667, 13)\n",
      "(667, 13)\n",
      "(667, 13)\n",
      "(667, 13)\n",
      "(667, 13)\n",
      "(667, 13)\n",
      "(667, 13)\n",
      "(667, 13)\n",
      "(667, 13)\n",
      "(667, 13)\n",
      "(667, 13)\n",
      "(667, 13)\n",
      "(667, 13)\n",
      "(667, 13)\n",
      "(667, 13)\n",
      "(667, 13)\n",
      "(667, 13)\n",
      "(667, 13)\n",
      "(667, 13)\n",
      "(667, 13)\n",
      "(667, 13)\n",
      "(667, 13)\n",
      "(667, 13)\n",
      "(667, 13)\n",
      "(667, 13)\n",
      "(667, 13)\n",
      "(667, 13)\n",
      "(667, 13)\n",
      "(667, 13)\n",
      "(667, 13)\n",
      "(667, 13)\n",
      "(667, 13)\n",
      "(667, 13)\n",
      "(667, 13)\n",
      "(667, 13)\n",
      "(667, 13)\n",
      "(667, 13)\n",
      "(667, 13)\n",
      "(667, 13)\n",
      "(667, 13)\n",
      "(667, 13)\n",
      "(667, 13)\n",
      "(667, 13)\n",
      "(667, 13)\n",
      "(667, 13)\n",
      "(667, 13)\n",
      "(667, 13)\n",
      "(667, 13)\n",
      "(667, 13)\n",
      "(667, 13)\n",
      "(667, 13)\n",
      "(667, 13)\n",
      "(667, 13)\n",
      "(667, 13)\n",
      "(667, 13)\n",
      "(667, 13)\n",
      "(667, 13)\n",
      "(667, 13)\n",
      "(667, 13)\n",
      "(667, 13)\n",
      "(667, 13)\n",
      "(667, 13)\n",
      "(667, 13)\n",
      "(667, 13)\n",
      "(667, 13)\n",
      "(667, 13)\n",
      "(667, 13)\n",
      "(667, 13)\n",
      "(667, 13)\n",
      "(667, 13)\n",
      "(667, 13)\n",
      "(667, 13)\n",
      "(667, 13)\n",
      "(667, 13)\n",
      "(667, 13)\n",
      "(667, 13)\n",
      "(667, 13)\n",
      "(667, 13)\n",
      "(667, 13)\n",
      "(667, 13)\n",
      "(667, 13)\n",
      "(667, 13)\n",
      "(667, 13)\n",
      "(667, 13)\n",
      "(667, 13)\n",
      "(667, 13)\n",
      "(667, 13)\n",
      "(667, 13)\n",
      "(667, 13)\n",
      "(667, 13)\n",
      "(667, 13)\n",
      "(667, 13)\n",
      "(667, 13)\n",
      "(667, 13)\n",
      "(667, 13)\n",
      "(667, 13)\n",
      "(667, 13)\n",
      "(667, 13)\n",
      "(667, 13)\n",
      "(667, 13)\n",
      "(667, 13)\n",
      "(667, 13)\n",
      "(667, 13)\n",
      "(667, 13)\n",
      "(667, 13)\n",
      "(667, 13)\n",
      "(667, 13)\n",
      "(667, 13)\n",
      "(667, 13)\n",
      "(667, 13)\n",
      "(667, 13)\n",
      "(667, 13)\n",
      "(667, 13)\n",
      "(667, 13)\n",
      "(667, 13)\n",
      "(667, 13)\n",
      "(667, 13)\n",
      "(667, 13)\n",
      "(667, 13)\n",
      "(667, 13)\n",
      "(667, 13)\n",
      "(667, 13)\n",
      "(667, 13)\n",
      "(667, 13)\n",
      "(667, 13)\n",
      "(667, 13)\n",
      "(667, 13)\n",
      "(667, 13)\n",
      "(667, 13)\n",
      "(667, 13)\n",
      "(667, 13)\n",
      "(667, 13)\n",
      "(667, 13)\n"
     ]
    }
   ],
   "source": [
    "y_combined=[]\n",
    "Xs=[]\n",
    "for i in range(len(X_train)):\n",
    "    print(X_train[i].shape)\n",
    "    tmp=X_train[i]\n",
    "    ytmp=[y_train[i]]*X_train[i].shape[0]\n",
    "    y_combined+=ytmp\n",
    "    Xs.append(tmp)"
   ]
  },
  {
   "cell_type": "code",
   "execution_count": 312,
   "metadata": {},
   "outputs": [],
   "source": [
    "Xtrain=np.concatenate(Xs,axis=0)"
   ]
  },
  {
   "cell_type": "code",
   "execution_count": 313,
   "metadata": {},
   "outputs": [
    {
     "data": {
      "text/plain": [
       "KNeighborsClassifier(algorithm='auto', leaf_size=30, metric='minkowski',\n",
       "                     metric_params=None, n_jobs=None, n_neighbors=3, p=2,\n",
       "                     weights='uniform')"
      ]
     },
     "execution_count": 313,
     "metadata": {},
     "output_type": "execute_result"
    }
   ],
   "source": [
    "knnm=KNN(n_neighbors=3)\n",
    "knnm.fit(Xtrain,np.array(y_combined))"
   ]
  },
  {
   "cell_type": "code",
   "execution_count": 314,
   "metadata": {},
   "outputs": [],
   "source": [
    "olables=[]\n",
    "rawre=[]\n",
    "for i in range(len(X_test)):\n",
    "    sre=knnm.predict(X_test[i])\n",
    "    rawre.append(sre)\n",
    "    olables.append(stats.mode(sre)[0][0])"
   ]
  },
  {
   "cell_type": "code",
   "execution_count": 315,
   "metadata": {},
   "outputs": [
    {
     "data": {
      "text/plain": [
       "263"
      ]
     },
     "execution_count": 315,
     "metadata": {},
     "output_type": "execute_result"
    }
   ],
   "source": [
    "np.sum(rawre[0]==0)"
   ]
  },
  {
   "cell_type": "code",
   "execution_count": 316,
   "metadata": {},
   "outputs": [
    {
     "data": {
      "text/plain": [
       "(667,)"
      ]
     },
     "execution_count": 316,
     "metadata": {},
     "output_type": "execute_result"
    }
   ],
   "source": [
    "rawre[0].shape"
   ]
  },
  {
   "cell_type": "code",
   "execution_count": 317,
   "metadata": {
    "scrolled": true
   },
   "outputs": [
    {
     "data": {
      "text/plain": [
       "[0, 1, 0, 0, 0, 0, 1, 2, 0, 2, 1, 2, 0, 1, 2, 0, 0, 0, 0, 0]"
      ]
     },
     "execution_count": 317,
     "metadata": {},
     "output_type": "execute_result"
    }
   ],
   "source": [
    "olables"
   ]
  },
  {
   "cell_type": "code",
   "execution_count": 318,
   "metadata": {},
   "outputs": [
    {
     "data": {
      "text/plain": [
       "[0, 2, 0, 2, 0, 0, 1, 0, 1, 1, 2, 2, 0, 1, 2, 0, 0, 1, 2, 1]"
      ]
     },
     "execution_count": 318,
     "metadata": {},
     "output_type": "execute_result"
    }
   ],
   "source": [
    "y_test"
   ]
  },
  {
   "cell_type": "code",
   "execution_count": 319,
   "metadata": {
    "scrolled": true
   },
   "outputs": [
    {
     "data": {
      "text/plain": [
       "0.55"
      ]
     },
     "execution_count": 319,
     "metadata": {},
     "output_type": "execute_result"
    }
   ],
   "source": [
    "metrices.accuracy_score(olables,y_test)"
   ]
  },
  {
   "cell_type": "code",
   "execution_count": null,
   "metadata": {},
   "outputs": [],
   "source": []
  },
  {
   "cell_type": "code",
   "execution_count": null,
   "metadata": {},
   "outputs": [],
   "source": []
  }
 ],
 "metadata": {
  "kernelspec": {
   "display_name": "Python 3",
   "language": "python",
   "name": "python3"
  },
  "language_info": {
   "codemirror_mode": {
    "name": "ipython",
    "version": 3
   },
   "file_extension": ".py",
   "mimetype": "text/x-python",
   "name": "python",
   "nbconvert_exporter": "python",
   "pygments_lexer": "ipython3",
   "version": "3.7.5"
  }
 },
 "nbformat": 4,
 "nbformat_minor": 2
}
