{
 "cells": [
  {
   "cell_type": "code",
   "execution_count": 26,
   "metadata": {},
   "outputs": [],
   "source": [
    "from pyAudioAnalysis import audioBasicIO\n",
    "from pyAudioAnalysis import audioFeatureExtraction\n",
    "import matplotlib.pyplot as plt\n",
    "import os\n",
    "import pandas as pd\n",
    "import numpy as np"
   ]
  },
  {
   "cell_type": "code",
   "execution_count": 50,
   "metadata": {},
   "outputs": [],
   "source": [
    "path = \"unified/eng/\"\n",
    "directory = os.fsencode(path)\n",
    "\n",
    "for file in os.listdir(directory):\n",
    "     filename = os.fsdecode(file)\n",
    "     if filename.endswith(\".mp3.wav\"):\n",
    "        [Fs, x] = audioBasicIO.readAudioFile(\"unified/eng/\"+filename);\n",
    "        F, f_names = audioFeatureExtraction.stFeatureExtraction(x, Fs, 0.050*Fs, 0.025*Fs);\n",
    "        df = pd.DataFrame()\n",
    "        df['label'] = []\n",
    "        for i in range(0,22):\n",
    "            df[f_names[i]] = F[i,:]\n",
    "            df['label'] = '1'\n",
    "        with open('dataset.csv', 'a') as f:\n",
    "            df.to_csv(f, header=False)\n",
    "\n",
    "#          print(filename)\n",
    "#          continue\n",
    "     else:\n",
    "         continue"
   ]
  },
  {
   "cell_type": "code",
   "execution_count": 37,
   "metadata": {},
   "outputs": [],
   "source": [
    "# [Fs, x] = audioBasicIO.readAudioFile(\"unified/english1.mp3.wav\");\n",
    "# F, f_names = audioFeatureExtraction.stFeatureExtraction(x, Fs, 0.050*Fs, 0.025*Fs);"
   ]
  },
  {
   "cell_type": "code",
   "execution_count": 41,
   "metadata": {},
   "outputs": [
    {
     "data": {
      "text/html": [
       "<div>\n",
       "<style scoped>\n",
       "    .dataframe tbody tr th:only-of-type {\n",
       "        vertical-align: middle;\n",
       "    }\n",
       "\n",
       "    .dataframe tbody tr th {\n",
       "        vertical-align: top;\n",
       "    }\n",
       "\n",
       "    .dataframe thead th {\n",
       "        text-align: right;\n",
       "    }\n",
       "</style>\n",
       "<table border=\"1\" class=\"dataframe\">\n",
       "  <thead>\n",
       "    <tr style=\"text-align: right;\">\n",
       "      <th></th>\n",
       "      <th>label</th>\n",
       "      <th>zcr</th>\n",
       "      <th>energy</th>\n",
       "      <th>energy_entropy</th>\n",
       "      <th>spectral_centroid</th>\n",
       "      <th>spectral_spread</th>\n",
       "      <th>spectral_entropy</th>\n",
       "      <th>spectral_flux</th>\n",
       "      <th>spectral_rolloff</th>\n",
       "      <th>mfcc_1</th>\n",
       "      <th>...</th>\n",
       "      <th>mfcc_5</th>\n",
       "      <th>mfcc_6</th>\n",
       "      <th>mfcc_7</th>\n",
       "      <th>mfcc_8</th>\n",
       "      <th>mfcc_9</th>\n",
       "      <th>mfcc_10</th>\n",
       "      <th>mfcc_11</th>\n",
       "      <th>mfcc_12</th>\n",
       "      <th>mfcc_13</th>\n",
       "      <th>chroma_1</th>\n",
       "    </tr>\n",
       "  </thead>\n",
       "  <tbody>\n",
       "    <tr>\n",
       "      <th>0</th>\n",
       "      <td>1</td>\n",
       "      <td>0.108992</td>\n",
       "      <td>0.002902</td>\n",
       "      <td>3.147639</td>\n",
       "      <td>0.235994</td>\n",
       "      <td>0.257161</td>\n",
       "      <td>0.883241</td>\n",
       "      <td>0.000000</td>\n",
       "      <td>0.136116</td>\n",
       "      <td>-25.781825</td>\n",
       "      <td>...</td>\n",
       "      <td>0.518876</td>\n",
       "      <td>0.142569</td>\n",
       "      <td>0.283389</td>\n",
       "      <td>-0.056339</td>\n",
       "      <td>0.105554</td>\n",
       "      <td>-0.107171</td>\n",
       "      <td>0.071542</td>\n",
       "      <td>0.242649</td>\n",
       "      <td>0.127348</td>\n",
       "      <td>0.006991</td>\n",
       "    </tr>\n",
       "    <tr>\n",
       "      <th>1</th>\n",
       "      <td>1</td>\n",
       "      <td>0.113533</td>\n",
       "      <td>0.004386</td>\n",
       "      <td>2.764269</td>\n",
       "      <td>0.219610</td>\n",
       "      <td>0.253042</td>\n",
       "      <td>1.231369</td>\n",
       "      <td>0.004275</td>\n",
       "      <td>0.143376</td>\n",
       "      <td>-24.412113</td>\n",
       "      <td>...</td>\n",
       "      <td>-0.304521</td>\n",
       "      <td>-0.234806</td>\n",
       "      <td>0.492086</td>\n",
       "      <td>0.052055</td>\n",
       "      <td>-0.195617</td>\n",
       "      <td>-0.109409</td>\n",
       "      <td>0.166399</td>\n",
       "      <td>-0.246787</td>\n",
       "      <td>-0.073183</td>\n",
       "      <td>0.020569</td>\n",
       "    </tr>\n",
       "    <tr>\n",
       "      <th>2</th>\n",
       "      <td>1</td>\n",
       "      <td>0.123524</td>\n",
       "      <td>0.004736</td>\n",
       "      <td>2.863219</td>\n",
       "      <td>0.230716</td>\n",
       "      <td>0.251460</td>\n",
       "      <td>1.455190</td>\n",
       "      <td>0.001424</td>\n",
       "      <td>0.197822</td>\n",
       "      <td>-24.145421</td>\n",
       "      <td>...</td>\n",
       "      <td>-0.453672</td>\n",
       "      <td>-0.318517</td>\n",
       "      <td>0.466466</td>\n",
       "      <td>0.039467</td>\n",
       "      <td>-0.310736</td>\n",
       "      <td>-0.151522</td>\n",
       "      <td>0.020828</td>\n",
       "      <td>-0.202466</td>\n",
       "      <td>-0.177219</td>\n",
       "      <td>0.006935</td>\n",
       "    </tr>\n",
       "    <tr>\n",
       "      <th>3</th>\n",
       "      <td>1</td>\n",
       "      <td>0.122616</td>\n",
       "      <td>0.003691</td>\n",
       "      <td>3.226003</td>\n",
       "      <td>0.237086</td>\n",
       "      <td>0.253746</td>\n",
       "      <td>1.231872</td>\n",
       "      <td>0.002620</td>\n",
       "      <td>0.230490</td>\n",
       "      <td>-24.986675</td>\n",
       "      <td>...</td>\n",
       "      <td>-0.086751</td>\n",
       "      <td>-0.154031</td>\n",
       "      <td>0.073701</td>\n",
       "      <td>-0.200650</td>\n",
       "      <td>0.021701</td>\n",
       "      <td>0.006643</td>\n",
       "      <td>-0.261973</td>\n",
       "      <td>-0.033430</td>\n",
       "      <td>0.158568</td>\n",
       "      <td>0.056322</td>\n",
       "    </tr>\n",
       "    <tr>\n",
       "      <th>4</th>\n",
       "      <td>1</td>\n",
       "      <td>0.081744</td>\n",
       "      <td>0.004492</td>\n",
       "      <td>2.914657</td>\n",
       "      <td>0.196408</td>\n",
       "      <td>0.240189</td>\n",
       "      <td>0.567256</td>\n",
       "      <td>0.004055</td>\n",
       "      <td>0.067151</td>\n",
       "      <td>-25.842810</td>\n",
       "      <td>...</td>\n",
       "      <td>0.341387</td>\n",
       "      <td>-0.256030</td>\n",
       "      <td>-0.077549</td>\n",
       "      <td>-0.151477</td>\n",
       "      <td>0.329447</td>\n",
       "      <td>0.017616</td>\n",
       "      <td>-0.367052</td>\n",
       "      <td>-0.232390</td>\n",
       "      <td>-0.319401</td>\n",
       "      <td>0.074732</td>\n",
       "    </tr>\n",
       "  </tbody>\n",
       "</table>\n",
       "<p>5 rows × 23 columns</p>\n",
       "</div>"
      ],
      "text/plain": [
       "  label       zcr    energy  energy_entropy  spectral_centroid  \\\n",
       "0     1  0.108992  0.002902        3.147639           0.235994   \n",
       "1     1  0.113533  0.004386        2.764269           0.219610   \n",
       "2     1  0.123524  0.004736        2.863219           0.230716   \n",
       "3     1  0.122616  0.003691        3.226003           0.237086   \n",
       "4     1  0.081744  0.004492        2.914657           0.196408   \n",
       "\n",
       "   spectral_spread  spectral_entropy  spectral_flux  spectral_rolloff  \\\n",
       "0         0.257161          0.883241       0.000000          0.136116   \n",
       "1         0.253042          1.231369       0.004275          0.143376   \n",
       "2         0.251460          1.455190       0.001424          0.197822   \n",
       "3         0.253746          1.231872       0.002620          0.230490   \n",
       "4         0.240189          0.567256       0.004055          0.067151   \n",
       "\n",
       "      mfcc_1  ...    mfcc_5    mfcc_6    mfcc_7    mfcc_8    mfcc_9   mfcc_10  \\\n",
       "0 -25.781825  ...  0.518876  0.142569  0.283389 -0.056339  0.105554 -0.107171   \n",
       "1 -24.412113  ... -0.304521 -0.234806  0.492086  0.052055 -0.195617 -0.109409   \n",
       "2 -24.145421  ... -0.453672 -0.318517  0.466466  0.039467 -0.310736 -0.151522   \n",
       "3 -24.986675  ... -0.086751 -0.154031  0.073701 -0.200650  0.021701  0.006643   \n",
       "4 -25.842810  ...  0.341387 -0.256030 -0.077549 -0.151477  0.329447  0.017616   \n",
       "\n",
       "    mfcc_11   mfcc_12   mfcc_13  chroma_1  \n",
       "0  0.071542  0.242649  0.127348  0.006991  \n",
       "1  0.166399 -0.246787 -0.073183  0.020569  \n",
       "2  0.020828 -0.202466 -0.177219  0.006935  \n",
       "3 -0.261973 -0.033430  0.158568  0.056322  \n",
       "4 -0.367052 -0.232390 -0.319401  0.074732  \n",
       "\n",
       "[5 rows x 23 columns]"
      ]
     },
     "execution_count": 41,
     "metadata": {},
     "output_type": "execute_result"
    }
   ],
   "source": [
    "df = pd.DataFrame()\n",
    "df['label'] = []\n",
    "for i in range(0,22):\n",
    "    df[f_names[i]] = F[i,:]\n",
    "    df['label'] = '1'\n",
    "#     print(df[f_names[i]])\n",
    " \n",
    "df.head(5)"
   ]
  },
  {
   "cell_type": "code",
   "execution_count": 51,
   "metadata": {},
   "outputs": [],
   "source": [
    "path = \"unified/man/\"\n",
    "directory = os.fsencode(path)\n",
    "\n",
    "for file in os.listdir(directory):\n",
    "     filename = os.fsdecode(file)\n",
    "     if filename.endswith(\".mp3.wav\"):\n",
    "        [Fs, x] = audioBasicIO.readAudioFile(\"unified/man/\"+filename);\n",
    "        F, f_names = audioFeatureExtraction.stFeatureExtraction(x, Fs, 0.050*Fs, 0.025*Fs);\n",
    "        df = pd.DataFrame()\n",
    "        df['label'] = []\n",
    "        for i in range(0,22):\n",
    "            df[f_names[i]] = F[i,:]\n",
    "            df['label'] = '2'\n",
    "        with open('dataset.csv', 'a') as f:\n",
    "            df.to_csv(f, header=False)\n",
    "\n",
    "#          print(filename)\n",
    "#          continue\n",
    "     else:\n",
    "         continue"
   ]
  },
  {
   "cell_type": "code",
   "execution_count": 52,
   "metadata": {},
   "outputs": [],
   "source": [
    "path = \"unified/span/\"\n",
    "directory = os.fsencode(path)\n",
    "\n",
    "for file in os.listdir(directory):\n",
    "     filename = os.fsdecode(file)\n",
    "     if filename.endswith(\".mp3.wav\"):\n",
    "        [Fs, x] = audioBasicIO.readAudioFile(\"unified/span/\"+filename);\n",
    "        F, f_names = audioFeatureExtraction.stFeatureExtraction(x, Fs, 0.050*Fs, 0.025*Fs);\n",
    "        df = pd.DataFrame()\n",
    "        df['label'] = []\n",
    "        for i in range(0,22):\n",
    "            df[f_names[i]] = F[i,:]\n",
    "            df['label'] = '3'\n",
    "        with open('dataset.csv', 'a') as f:\n",
    "            df.to_csv(f, header=False)\n",
    "\n",
    "#          print(filename)\n",
    "#          continue\n",
    "     else:\n",
    "         continue"
   ]
  },
  {
   "cell_type": "code",
   "execution_count": 43,
   "metadata": {},
   "outputs": [],
   "source": [
    "# with open('dataset.csv', 'a') as f:\n",
    "#     df.to_csv(f, header=False)\n",
    "# df.to_csv('spanish3.csv', sep='\\t', encoding='utf-8')"
   ]
  },
  {
   "cell_type": "code",
   "execution_count": 53,
   "metadata": {},
   "outputs": [],
   "source": [
    "from sklearn.neighbors import KNeighborsClassifier\n",
    "from sklearn.model_selection import train_test_split\n",
    "import pandas as pd"
   ]
  },
  {
   "cell_type": "code",
   "execution_count": 56,
   "metadata": {},
   "outputs": [],
   "source": [
    "df = pd.read_csv('dataset.csv',index_col = 0)\n",
    "x = df[['zcr','energy','energy_entropy','spectral_centroid','spectral_spread','spectral_entropy','spectral_flux','spectral_rolloff','mfcc_1','mfcc_2','mfcc_3','mfcc_4','mfcc_5','mfcc_6','mfcc_7','mfcc_8','mfcc_9','mfcc_10','mfcc_11','mfcc_12','mfcc_13','chroma_1']]\n",
    "y = df['label']\n",
    "X_train, X_test, y_train, y_test = train_test_split(x, y, test_size=0.3)"
   ]
  },
  {
   "cell_type": "code",
   "execution_count": 59,
   "metadata": {},
   "outputs": [
    {
     "name": "stdout",
     "output_type": "stream",
     "text": [
      "Accuracy: 0.6281119465329992\n"
     ]
    }
   ],
   "source": [
    "# accracy = []\n",
    "# for i in range (1,6):\n",
    "#     knn = KNeighborsClassifier(n_neighbours = 3)\n",
    "#     knn.fit(X_train, y_train)\n",
    "#     pred_i knn.predict(x_test)\n",
    "#     a\n",
    "from sklearn import metrics\n",
    "knn = KNeighborsClassifier(n_neighbors = 5)\n",
    "knn.fit(X_train, y_train)\n",
    "y_pred = knn.predict(X_test)\n",
    "print(\"Accuracy:\",metrics.accuracy_score(y_test, y_pred))"
   ]
  },
  {
   "cell_type": "code",
   "execution_count": 60,
   "metadata": {},
   "outputs": [
    {
     "name": "stdout",
     "output_type": "stream",
     "text": [
      "Accuracy: 0.6222222222222222\n"
     ]
    }
   ],
   "source": [
    "\n",
    "from sklearn import metrics\n",
    "knn = KNeighborsClassifier(n_neighbors = 3)\n",
    "knn.fit(X_train, y_train)\n",
    "y_pred = knn.predict(X_test)\n",
    "print(\"Accuracy:\",metrics.accuracy_score(y_test, y_pred))"
   ]
  },
  {
   "cell_type": "code",
   "execution_count": 61,
   "metadata": {},
   "outputs": [
    {
     "name": "stdout",
     "output_type": "stream",
     "text": [
      "Accuracy: 0.63244917850181\n"
     ]
    }
   ],
   "source": [
    "\n",
    "from sklearn import metrics\n",
    "knn = KNeighborsClassifier(n_neighbors = 7)\n",
    "knn.fit(X_train, y_train)\n",
    "y_pred = knn.predict(X_test)\n",
    "print(\"Accuracy:\",metrics.accuracy_score(y_test, y_pred))"
   ]
  },
  {
   "cell_type": "code",
   "execution_count": 62,
   "metadata": {},
   "outputs": [
    {
     "name": "stdout",
     "output_type": "stream",
     "text": [
      "Accuracy: 0.6361180729601782\n"
     ]
    }
   ],
   "source": [
    "\n",
    "from sklearn import metrics\n",
    "knn = KNeighborsClassifier(n_neighbors = 10)\n",
    "knn.fit(X_train, y_train)\n",
    "y_pred = knn.predict(X_test)\n",
    "print(\"Accuracy:\",metrics.accuracy_score(y_test, y_pred))"
   ]
  },
  {
   "cell_type": "code",
   "execution_count": null,
   "metadata": {},
   "outputs": [],
   "source": []
  }
 ],
 "metadata": {
  "kernelspec": {
   "display_name": "Python 3",
   "language": "python",
   "name": "python3"
  },
  "language_info": {
   "codemirror_mode": {
    "name": "ipython",
    "version": 3
   },
   "file_extension": ".py",
   "mimetype": "text/x-python",
   "name": "python",
   "nbconvert_exporter": "python",
   "pygments_lexer": "ipython3",
   "version": "3.7.3"
  }
 },
 "nbformat": 4,
 "nbformat_minor": 2
}
